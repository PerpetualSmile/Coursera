{
 "cells": [
  {
   "cell_type": "markdown",
   "metadata": {},
   "source": [
    "# Week 1: Simple Linear Regression "
   ]
  },
  {
   "cell_type": "code",
   "execution_count": 1,
   "metadata": {
    "ExecuteTime": {
     "end_time": "2019-03-03T02:06:54.870339Z",
     "start_time": "2019-03-03T02:06:44.942221Z"
    }
   },
   "outputs": [],
   "source": [
    "import pandas as pd\n",
    "import numpy as np"
   ]
  },
  {
   "cell_type": "markdown",
   "metadata": {},
   "source": [
    "## Read training and testing data"
   ]
  },
  {
   "cell_type": "code",
   "execution_count": 2,
   "metadata": {
    "ExecuteTime": {
     "end_time": "2019-03-03T02:07:51.788940Z",
     "start_time": "2019-03-03T02:07:51.545513Z"
    }
   },
   "outputs": [],
   "source": [
    "df_train = pd.read_csv('./kc_house_train_data.csv')\n",
    "df_test = pd.read_csv('./kc_house_test_data.csv')"
   ]
  },
  {
   "cell_type": "code",
   "execution_count": 7,
   "metadata": {
    "ExecuteTime": {
     "end_time": "2019-03-03T02:18:24.707168Z",
     "start_time": "2019-03-03T02:18:24.695136Z"
    }
   },
   "outputs": [],
   "source": [
    "sales = df_train.append(df_test)"
   ]
  },
  {
   "cell_type": "code",
   "execution_count": 9,
   "metadata": {
    "ExecuteTime": {
     "end_time": "2019-03-03T02:19:27.679555Z",
     "start_time": "2019-03-03T02:19:27.676547Z"
    }
   },
   "outputs": [],
   "source": [
    "prices = sales['price']"
   ]
  },
  {
   "cell_type": "code",
   "execution_count": 14,
   "metadata": {
    "ExecuteTime": {
     "end_time": "2019-03-03T02:21:14.887748Z",
     "start_time": "2019-03-03T02:21:14.882736Z"
    }
   },
   "outputs": [
    {
     "data": {
      "text/plain": [
       "540088.1417665294"
      ]
     },
     "execution_count": 14,
     "metadata": {},
     "output_type": "execute_result"
    }
   ],
   "source": [
    "prices.mean()"
   ]
  },
  {
   "cell_type": "markdown",
   "metadata": {},
   "source": [
    "## Build a generic simple linear regression function"
   ]
  },
  {
   "cell_type": "code",
   "execution_count": 22,
   "metadata": {
    "ExecuteTime": {
     "end_time": "2019-03-03T02:38:47.695966Z",
     "start_time": "2019-03-03T02:38:47.690953Z"
    }
   },
   "outputs": [],
   "source": [
    "def simple_linear_regression(input_feature, output):\n",
    "    N = input_feature.size\n",
    "    sum_x = input_feature.sum()\n",
    "    sum_y = output.sum()\n",
    "    sum_xy = np.dot(input_feature, output)\n",
    "    sum_x2 = np.square(input_feature).sum()\n",
    "    slope = (sum_xy - (sum_x*sum_y)/N)/(sum_x2 - (sum_x*sum_x)/N)\n",
    "    intercept = output.mean() - slope*input_feature.mean()\n",
    "    return (intercept, slope)"
   ]
  },
  {
   "cell_type": "code",
   "execution_count": 23,
   "metadata": {
    "ExecuteTime": {
     "end_time": "2019-03-03T02:40:44.949982Z",
     "start_time": "2019-03-03T02:40:44.943939Z"
    }
   },
   "outputs": [],
   "source": [
    "sqft_intercept, sqft_slope = simple_linear_regression(df_train['sqft_living'], df_train['price'])"
   ]
  },
  {
   "cell_type": "code",
   "execution_count": 24,
   "metadata": {
    "ExecuteTime": {
     "end_time": "2019-03-03T02:41:08.875695Z",
     "start_time": "2019-03-03T02:41:08.868696Z"
    }
   },
   "outputs": [
    {
     "name": "stdout",
     "output_type": "stream",
     "text": [
      "intercept: -47116.07907289418\n",
      "slope: 281.9588396303426\n"
     ]
    }
   ],
   "source": [
    "print('intercept:', sqft_intercept)\n",
    "print('slope:', sqft_slope)"
   ]
  },
  {
   "cell_type": "markdown",
   "metadata": {},
   "source": [
    "## Predicting Values"
   ]
  },
  {
   "cell_type": "code",
   "execution_count": 25,
   "metadata": {
    "ExecuteTime": {
     "end_time": "2019-03-03T02:42:59.885400Z",
     "start_time": "2019-03-03T02:42:59.881361Z"
    }
   },
   "outputs": [],
   "source": [
    "def get_regression_predictions(input_feature, intercept, slope):\n",
    "    predicted_values = input_feature * slope + intercept\n",
    "    return predicted_values"
   ]
  },
  {
   "cell_type": "code",
   "execution_count": 26,
   "metadata": {
    "ExecuteTime": {
     "end_time": "2019-03-03T02:45:02.208959Z",
     "start_time": "2019-03-03T02:45:02.204949Z"
    }
   },
   "outputs": [
    {
     "name": "stdout",
     "output_type": "stream",
     "text": [
      "700074.8459475137\n"
     ]
    }
   ],
   "source": [
    "print(get_regression_predictions(2650, sqft_intercept, sqft_slope))"
   ]
  },
  {
   "cell_type": "markdown",
   "metadata": {},
   "source": [
    "## Residual Sum of Squares"
   ]
  },
  {
   "cell_type": "code",
   "execution_count": 27,
   "metadata": {
    "ExecuteTime": {
     "end_time": "2019-03-03T02:48:11.535713Z",
     "start_time": "2019-03-03T02:48:11.530731Z"
    }
   },
   "outputs": [],
   "source": [
    "def get_residual_sum_of_squares(input_feature, output, intercept, slope):\n",
    "    predictions = get_regression_predictions(input_feature, intercept, slope)\n",
    "    residuals = predictions - output\n",
    "    return np.square(residuals).sum()"
   ]
  },
  {
   "cell_type": "code",
   "execution_count": 28,
   "metadata": {
    "ExecuteTime": {
     "end_time": "2019-03-03T02:49:11.747622Z",
     "start_time": "2019-03-03T02:49:11.738598Z"
    }
   },
   "outputs": [
    {
     "data": {
      "text/plain": [
       "1201918354177283.0"
      ]
     },
     "execution_count": 28,
     "metadata": {},
     "output_type": "execute_result"
    }
   ],
   "source": [
    "get_residual_sum_of_squares(df_train['sqft_living'], df_train['price'], sqft_intercept, sqft_slope)"
   ]
  },
  {
   "cell_type": "markdown",
   "metadata": {},
   "source": [
    "## Inverse regression to predict feature"
   ]
  },
  {
   "cell_type": "code",
   "execution_count": 29,
   "metadata": {
    "ExecuteTime": {
     "end_time": "2019-03-03T02:53:08.183087Z",
     "start_time": "2019-03-03T02:53:08.179092Z"
    }
   },
   "outputs": [],
   "source": [
    "def inverse_regression_predictions(output, intercept, slope):\n",
    "    return (output-intercept)/slope"
   ]
  },
  {
   "cell_type": "code",
   "execution_count": 30,
   "metadata": {
    "ExecuteTime": {
     "end_time": "2019-03-03T02:53:40.451351Z",
     "start_time": "2019-03-03T02:53:40.447330Z"
    }
   },
   "outputs": [
    {
     "data": {
      "text/plain": [
       "3004.3962451522766"
      ]
     },
     "execution_count": 30,
     "metadata": {},
     "output_type": "execute_result"
    }
   ],
   "source": [
    "inverse_regression_predictions(800000, sqft_intercept, sqft_slope)"
   ]
  },
  {
   "cell_type": "markdown",
   "metadata": {},
   "source": [
    "## New model: estimate prices from bedrooms"
   ]
  },
  {
   "cell_type": "code",
   "execution_count": 31,
   "metadata": {
    "ExecuteTime": {
     "end_time": "2019-03-03T02:55:13.534150Z",
     "start_time": "2019-03-03T02:55:13.528100Z"
    }
   },
   "outputs": [],
   "source": [
    "bedrooms_intercept, bedrooms_slope = simple_linear_regression(df_train['bedrooms'], df_train['price'])"
   ]
  },
  {
   "cell_type": "markdown",
   "metadata": {},
   "source": [
    "## Test models"
   ]
  },
  {
   "cell_type": "code",
   "execution_count": 32,
   "metadata": {
    "ExecuteTime": {
     "end_time": "2019-03-03T02:57:13.591324Z",
     "start_time": "2019-03-03T02:57:13.584305Z"
    }
   },
   "outputs": [
    {
     "data": {
      "text/plain": [
       "275402933617812.12"
      ]
     },
     "execution_count": 32,
     "metadata": {},
     "output_type": "execute_result"
    }
   ],
   "source": [
    "get_residual_sum_of_squares(df_test['sqft_living'], df_test['price'], sqft_intercept, sqft_slope)"
   ]
  },
  {
   "cell_type": "code",
   "execution_count": 33,
   "metadata": {
    "ExecuteTime": {
     "end_time": "2019-03-03T02:57:52.528978Z",
     "start_time": "2019-03-03T02:57:52.522962Z"
    }
   },
   "outputs": [
    {
     "data": {
      "text/plain": [
       "493364585960300.9"
      ]
     },
     "execution_count": 33,
     "metadata": {},
     "output_type": "execute_result"
    }
   ],
   "source": [
    "get_residual_sum_of_squares(df_test['bedrooms'], df_test['price'], bedrooms_intercept, bedrooms_slope)"
   ]
  }
 ],
 "metadata": {
  "kernelspec": {
   "display_name": "Python 3",
   "language": "python",
   "name": "python3"
  },
  "language_info": {
   "codemirror_mode": {
    "name": "ipython",
    "version": 3
   },
   "file_extension": ".py",
   "mimetype": "text/x-python",
   "name": "python",
   "nbconvert_exporter": "python",
   "pygments_lexer": "ipython3",
   "version": "3.6.1"
  }
 },
 "nbformat": 4,
 "nbformat_minor": 2
}
