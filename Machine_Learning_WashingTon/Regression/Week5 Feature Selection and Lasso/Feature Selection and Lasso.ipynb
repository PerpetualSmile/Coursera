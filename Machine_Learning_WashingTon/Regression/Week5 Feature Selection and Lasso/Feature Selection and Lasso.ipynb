{
 "cells": [
  {
   "cell_type": "markdown",
   "metadata": {},
   "source": [
    "# Regression Week5 : Feature Selection and Lasso"
   ]
  },
  {
   "cell_type": "code",
   "execution_count": 1,
   "metadata": {
    "ExecuteTime": {
     "end_time": "2019-03-13T08:32:04.197179Z",
     "start_time": "2019-03-13T08:31:55.439424Z"
    }
   },
   "outputs": [],
   "source": [
    "import pandas as pd\n",
    "import numpy as np"
   ]
  },
  {
   "cell_type": "code",
   "execution_count": 2,
   "metadata": {
    "ExecuteTime": {
     "end_time": "2019-03-13T08:32:05.790236Z",
     "start_time": "2019-03-13T08:32:05.786259Z"
    }
   },
   "outputs": [],
   "source": [
    "dtype_dict = {'bathrooms':float, 'waterfront':int, 'sqft_above':int, 'sqft_living15':float, 'grade':int, 'yr_renovated':int, 'price':float, 'bedrooms':float, 'zipcode':str, 'long':float, 'sqft_lot15':float, 'sqft_living':float, 'floors':float, 'condition':int, 'lat':float, 'date':str, 'sqft_basement':int, 'yr_built':int, 'id':str, 'sqft_lot':int, 'view':int}"
   ]
  },
  {
   "cell_type": "code",
   "execution_count": 51,
   "metadata": {
    "ExecuteTime": {
     "end_time": "2019-03-13T09:04:43.483022Z",
     "start_time": "2019-03-13T09:04:43.408783Z"
    }
   },
   "outputs": [],
   "source": [
    "sales = pd.read_csv('kc_house_data.csv', dtype=dtype_dict)"
   ]
  },
  {
   "cell_type": "markdown",
   "metadata": {},
   "source": [
    "## Create new features"
   ]
  },
  {
   "cell_type": "code",
   "execution_count": 52,
   "metadata": {
    "ExecuteTime": {
     "end_time": "2019-03-13T09:04:43.995803Z",
     "start_time": "2019-03-13T09:04:43.992823Z"
    }
   },
   "outputs": [],
   "source": [
    "from math import log, sqrt"
   ]
  },
  {
   "cell_type": "code",
   "execution_count": 53,
   "metadata": {
    "ExecuteTime": {
     "end_time": "2019-03-13T09:04:44.304750Z",
     "start_time": "2019-03-13T09:04:44.299747Z"
    }
   },
   "outputs": [],
   "source": [
    "def add_features(sales):\n",
    "    sales['sqft_living_sqrt'] = sales['sqft_living'].apply(sqrt)\n",
    "    sales['sqft_lot_sqrt'] = sales['sqft_lot'].apply(sqrt)\n",
    "    sales['bedrooms_square'] = sales['bedrooms'] * sales['bedrooms']\n",
    "    sales['floors_square'] = sales['floors'] * sales['floors']\n",
    "    return sales"
   ]
  },
  {
   "cell_type": "code",
   "execution_count": 54,
   "metadata": {
    "ExecuteTime": {
     "end_time": "2019-03-13T09:04:44.670833Z",
     "start_time": "2019-03-13T09:04:44.650747Z"
    }
   },
   "outputs": [],
   "source": [
    "sales = add_features(sales)"
   ]
  },
  {
   "cell_type": "markdown",
   "metadata": {},
   "source": [
    "## Learn regression weights with L1 penalty"
   ]
  },
  {
   "cell_type": "code",
   "execution_count": 55,
   "metadata": {
    "ExecuteTime": {
     "end_time": "2019-03-13T09:04:45.728758Z",
     "start_time": "2019-03-13T09:04:45.725750Z"
    }
   },
   "outputs": [],
   "source": [
    "from sklearn.linear_model import Lasso"
   ]
  },
  {
   "cell_type": "code",
   "execution_count": 56,
   "metadata": {
    "ExecuteTime": {
     "end_time": "2019-03-13T09:04:46.150665Z",
     "start_time": "2019-03-13T09:04:46.114535Z"
    }
   },
   "outputs": [
    {
     "data": {
      "text/plain": [
       "Lasso(alpha=500.0, copy_X=True, fit_intercept=True, max_iter=1000,\n",
       "   normalize=True, positive=False, precompute=False, random_state=None,\n",
       "   selection='cyclic', tol=0.0001, warm_start=False)"
      ]
     },
     "execution_count": 56,
     "metadata": {},
     "output_type": "execute_result"
    }
   ],
   "source": [
    "all_features = ['bedrooms', 'bedrooms_square',\n",
    "            'bathrooms',\n",
    "            'sqft_living', 'sqft_living_sqrt',\n",
    "            'sqft_lot', 'sqft_lot_sqrt',\n",
    "            'floors', 'floors_square',\n",
    "            'waterfront', 'view', 'condition', 'grade',\n",
    "            'sqft_above',\n",
    "            'sqft_basement',\n",
    "            'yr_built', 'yr_renovated']\n",
    "\n",
    "model_all = Lasso(alpha=5e2, normalize=True) # set parameters\n",
    "model_all.fit(sales[all_features], sales['price']) # learn weights"
   ]
  },
  {
   "cell_type": "code",
   "execution_count": 57,
   "metadata": {
    "ExecuteTime": {
     "end_time": "2019-03-13T09:07:41.563938Z",
     "start_time": "2019-03-13T09:07:41.558926Z"
    }
   },
   "outputs": [],
   "source": [
    "coef = model_all.coef_\n",
    "intercept = model_all.intercept_\n",
    "t = pd.DataFrame({'name':['intercept']+all_features,'value':[intercept]+coef.tolist()})"
   ]
  },
  {
   "cell_type": "code",
   "execution_count": 58,
   "metadata": {
    "ExecuteTime": {
     "end_time": "2019-03-13T09:07:41.850970Z",
     "start_time": "2019-03-13T09:07:41.840969Z"
    },
    "scrolled": true
   },
   "outputs": [
    {
     "data": {
      "text/html": [
       "<div>\n",
       "<style scoped>\n",
       "    .dataframe tbody tr th:only-of-type {\n",
       "        vertical-align: middle;\n",
       "    }\n",
       "\n",
       "    .dataframe tbody tr th {\n",
       "        vertical-align: top;\n",
       "    }\n",
       "\n",
       "    .dataframe thead th {\n",
       "        text-align: right;\n",
       "    }\n",
       "</style>\n",
       "<table border=\"1\" class=\"dataframe\">\n",
       "  <thead>\n",
       "    <tr style=\"text-align: right;\">\n",
       "      <th></th>\n",
       "      <th>name</th>\n",
       "      <th>value</th>\n",
       "    </tr>\n",
       "  </thead>\n",
       "  <tbody>\n",
       "    <tr>\n",
       "      <th>0</th>\n",
       "      <td>intercept</td>\n",
       "      <td>-218136.214035</td>\n",
       "    </tr>\n",
       "    <tr>\n",
       "      <th>4</th>\n",
       "      <td>sqft_living</td>\n",
       "      <td>134.439314</td>\n",
       "    </tr>\n",
       "    <tr>\n",
       "      <th>11</th>\n",
       "      <td>view</td>\n",
       "      <td>24750.004586</td>\n",
       "    </tr>\n",
       "    <tr>\n",
       "      <th>13</th>\n",
       "      <td>grade</td>\n",
       "      <td>61749.103091</td>\n",
       "    </tr>\n",
       "  </tbody>\n",
       "</table>\n",
       "</div>"
      ],
      "text/plain": [
       "           name          value\n",
       "0     intercept -218136.214035\n",
       "4   sqft_living     134.439314\n",
       "11         view   24750.004586\n",
       "13        grade   61749.103091"
      ]
     },
     "execution_count": 58,
     "metadata": {},
     "output_type": "execute_result"
    }
   ],
   "source": [
    "t[t.value!=0]"
   ]
  },
  {
   "cell_type": "markdown",
   "metadata": {},
   "source": [
    "## Selecting an L1 penalty"
   ]
  },
  {
   "cell_type": "code",
   "execution_count": 40,
   "metadata": {
    "ExecuteTime": {
     "end_time": "2019-03-13T09:02:24.933514Z",
     "start_time": "2019-03-13T09:02:24.843237Z"
    }
   },
   "outputs": [],
   "source": [
    "testing = pd.read_csv('wk3_kc_house_test_data.csv', dtype=dtype_dict)\n",
    "training = pd.read_csv('wk3_kc_house_train_data.csv', dtype=dtype_dict)\n",
    "validation = pd.read_csv('wk3_kc_house_valid_data.csv', dtype=dtype_dict)"
   ]
  },
  {
   "cell_type": "code",
   "execution_count": 59,
   "metadata": {
    "ExecuteTime": {
     "end_time": "2019-03-13T09:08:09.701243Z",
     "start_time": "2019-03-13T09:08:09.678210Z"
    }
   },
   "outputs": [],
   "source": [
    "testing = add_features(testing)\n",
    "training = add_features(training)\n",
    "validation = add_features(validation)"
   ]
  },
  {
   "cell_type": "code",
   "execution_count": 60,
   "metadata": {
    "ExecuteTime": {
     "end_time": "2019-03-13T09:14:04.390410Z",
     "start_time": "2019-03-13T09:14:03.727855Z"
    }
   },
   "outputs": [],
   "source": [
    "l1_penalty = np.logspace(1, 7, num=13)\n",
    "RSS = []\n",
    "for value in l1_penalty:\n",
    "    model = Lasso(alpha=value, normalize=True)\n",
    "    model.fit(training[all_features], training['price'])\n",
    "    RSS.append(np.sum(np.square(model.predict(validation[all_features])-validation['price'])))"
   ]
  },
  {
   "cell_type": "code",
   "execution_count": 75,
   "metadata": {
    "ExecuteTime": {
     "end_time": "2019-03-13T09:21:41.684562Z",
     "start_time": "2019-03-13T09:21:41.261436Z"
    }
   },
   "outputs": [
    {
     "name": "stdout",
     "output_type": "stream",
     "text": [
      "98467402552698.78\n"
     ]
    }
   ],
   "source": [
    "l = l1_penalty[np.argmin(RSS)]\n",
    "model_best = Lasso(alpha = l,normalize=True, max_iter=2000)\n",
    "model_best.fit(training[all_features], training['price'])\n",
    "print(np.sum(np.square(model_best.predict(testing[all_features])-testing['price'])))"
   ]
  },
  {
   "cell_type": "code",
   "execution_count": 76,
   "metadata": {
    "ExecuteTime": {
     "end_time": "2019-03-13T09:21:42.178381Z",
     "start_time": "2019-03-13T09:21:42.174399Z"
    }
   },
   "outputs": [
    {
     "data": {
      "text/plain": [
       "10.0"
      ]
     },
     "execution_count": 76,
     "metadata": {},
     "output_type": "execute_result"
    }
   ],
   "source": [
    "l"
   ]
  },
  {
   "cell_type": "code",
   "execution_count": 77,
   "metadata": {
    "ExecuteTime": {
     "end_time": "2019-03-13T09:21:42.665887Z",
     "start_time": "2019-03-13T09:21:42.661903Z"
    }
   },
   "outputs": [
    {
     "data": {
      "text/plain": [
       "15"
      ]
     },
     "execution_count": 77,
     "metadata": {},
     "output_type": "execute_result"
    }
   ],
   "source": [
    "np.count_nonzero(model_best.coef_) + np.count_nonzero(model_best.intercept_)"
   ]
  },
  {
   "cell_type": "markdown",
   "metadata": {},
   "source": [
    "## Limit the number of nonzero weights"
   ]
  },
  {
   "cell_type": "code",
   "execution_count": 78,
   "metadata": {
    "ExecuteTime": {
     "end_time": "2019-03-13T09:25:51.108096Z",
     "start_time": "2019-03-13T09:25:51.105072Z"
    }
   },
   "outputs": [],
   "source": [
    "max_nonzeros = 7"
   ]
  },
  {
   "cell_type": "code",
   "execution_count": 79,
   "metadata": {
    "ExecuteTime": {
     "end_time": "2019-03-13T09:26:29.269112Z",
     "start_time": "2019-03-13T09:26:29.266104Z"
    }
   },
   "outputs": [],
   "source": [
    "l1_penalty_values = np.logspace(1, 4, num=20)"
   ]
  },
  {
   "cell_type": "code",
   "execution_count": 80,
   "metadata": {
    "ExecuteTime": {
     "end_time": "2019-03-13T09:27:09.781560Z",
     "start_time": "2019-03-13T09:27:08.370770Z"
    }
   },
   "outputs": [],
   "source": [
    "number_of_nnz = list()\n",
    "for l1_penalty in l1_penalty_values:\n",
    "    model = Lasso(alpha=l1_penalty, normalize=True)\n",
    "    model.fit(training[all_features],training['price'])\n",
    "    number_of_nnz.append(np.count_nonzero(model.coef_) + np.count_nonzero(model.intercept_))"
   ]
  },
  {
   "cell_type": "code",
   "execution_count": 82,
   "metadata": {
    "ExecuteTime": {
     "end_time": "2019-03-13T09:30:23.164121Z",
     "start_time": "2019-03-13T09:30:23.161140Z"
    }
   },
   "outputs": [],
   "source": [
    "l1_penalty_min = l1_penalty_values[np.array(number_of_nnz)>max_nonzeros].max()\n",
    "l1_penalty_max = l1_penalty_values[np.array(number_of_nnz)<max_nonzeros].min()"
   ]
  },
  {
   "cell_type": "code",
   "execution_count": 83,
   "metadata": {
    "ExecuteTime": {
     "end_time": "2019-03-13T09:30:30.901408Z",
     "start_time": "2019-03-13T09:30:30.898400Z"
    }
   },
   "outputs": [
    {
     "name": "stdout",
     "output_type": "stream",
     "text": [
      "127.42749857031335 263.6650898730358\n"
     ]
    }
   ],
   "source": [
    "print(l1_penalty_min, l1_penalty_max)"
   ]
  },
  {
   "cell_type": "markdown",
   "metadata": {},
   "source": [
    "## Exploring the narrow range of values to find the solution with the right number of non-zero that has lowest RSS on the validation set"
   ]
  },
  {
   "cell_type": "code",
   "execution_count": 84,
   "metadata": {
    "ExecuteTime": {
     "end_time": "2019-03-13T09:32:16.736479Z",
     "start_time": "2019-03-13T09:32:16.732470Z"
    }
   },
   "outputs": [],
   "source": [
    "l1_penalty_values = np.linspace(l1_penalty_min,l1_penalty_max,20)"
   ]
  },
  {
   "cell_type": "code",
   "execution_count": 87,
   "metadata": {
    "ExecuteTime": {
     "end_time": "2019-03-13T09:32:45.858914Z",
     "start_time": "2019-03-13T09:32:45.522804Z"
    }
   },
   "outputs": [],
   "source": [
    "RSS_validation = list()\n",
    "nnz_validation = list()\n",
    "for l1_penalty in l1_penalty_values:\n",
    "    model = Lasso(alpha=l1_penalty, normalize=True)\n",
    "    model.fit(training[all_features],training['price'])\n",
    "    nnz_validation.append(np.count_nonzero(model.coef_) + np.count_nonzero(model.intercept_))\n",
    "    RSS_validation.append(sum((model.predict(validation[all_features])-validation['price'])**2))\n",
    "RSS_validation = np.array(RSS_validation)\n",
    "nnz_validation = np.array(nnz_validation)"
   ]
  },
  {
   "cell_type": "code",
   "execution_count": 100,
   "metadata": {
    "ExecuteTime": {
     "end_time": "2019-03-13T09:39:10.803190Z",
     "start_time": "2019-03-13T09:39:10.799204Z"
    }
   },
   "outputs": [],
   "source": [
    "l = l1_penalty_values[nnz_validation==max_nonzeros][np.argmin(RSS_validation[nnz_validation==max_nonzeros])]"
   ]
  },
  {
   "cell_type": "code",
   "execution_count": 101,
   "metadata": {
    "ExecuteTime": {
     "end_time": "2019-03-13T09:39:15.951135Z",
     "start_time": "2019-03-13T09:39:15.947142Z"
    }
   },
   "outputs": [
    {
     "data": {
      "text/plain": [
       "156.10909673930755"
      ]
     },
     "execution_count": 101,
     "metadata": {},
     "output_type": "execute_result"
    }
   ],
   "source": [
    "l"
   ]
  },
  {
   "cell_type": "code",
   "execution_count": 96,
   "metadata": {
    "ExecuteTime": {
     "end_time": "2019-03-13T09:36:11.159856Z",
     "start_time": "2019-03-13T09:36:11.137764Z"
    }
   },
   "outputs": [
    {
     "data": {
      "text/plain": [
       "Lasso(alpha=127.42749857031335, copy_X=True, fit_intercept=True,\n",
       "   max_iter=1000, normalize=True, positive=False, precompute=False,\n",
       "   random_state=None, selection='cyclic', tol=0.0001, warm_start=False)"
      ]
     },
     "execution_count": 96,
     "metadata": {},
     "output_type": "execute_result"
    }
   ],
   "source": [
    "model = Lasso(alpha=l, normalize=True)\n",
    "model.fit(training[all_features],training['price'])"
   ]
  },
  {
   "cell_type": "code",
   "execution_count": 97,
   "metadata": {
    "ExecuteTime": {
     "end_time": "2019-03-13T09:36:26.326718Z",
     "start_time": "2019-03-13T09:36:26.320723Z"
    }
   },
   "outputs": [],
   "source": [
    "coef = model.coef_\n",
    "intercept = model.intercept_\n",
    "t = pd.DataFrame({'name':['intercept']+all_features,'value':[intercept]+coef.tolist()})"
   ]
  },
  {
   "cell_type": "code",
   "execution_count": 98,
   "metadata": {
    "ExecuteTime": {
     "end_time": "2019-03-13T09:36:38.836775Z",
     "start_time": "2019-03-13T09:36:38.826749Z"
    }
   },
   "outputs": [
    {
     "data": {
      "text/html": [
       "<div>\n",
       "<style scoped>\n",
       "    .dataframe tbody tr th:only-of-type {\n",
       "        vertical-align: middle;\n",
       "    }\n",
       "\n",
       "    .dataframe tbody tr th {\n",
       "        vertical-align: top;\n",
       "    }\n",
       "\n",
       "    .dataframe thead th {\n",
       "        text-align: right;\n",
       "    }\n",
       "</style>\n",
       "<table border=\"1\" class=\"dataframe\">\n",
       "  <thead>\n",
       "    <tr style=\"text-align: right;\">\n",
       "      <th></th>\n",
       "      <th>name</th>\n",
       "      <th>value</th>\n",
       "    </tr>\n",
       "  </thead>\n",
       "  <tbody>\n",
       "    <tr>\n",
       "      <th>0</th>\n",
       "      <td>intercept</td>\n",
       "      <td>4.827874e+06</td>\n",
       "    </tr>\n",
       "    <tr>\n",
       "      <th>1</th>\n",
       "      <td>bedrooms</td>\n",
       "      <td>-2.786608e+03</td>\n",
       "    </tr>\n",
       "    <tr>\n",
       "      <th>3</th>\n",
       "      <td>bathrooms</td>\n",
       "      <td>1.629528e+04</td>\n",
       "    </tr>\n",
       "    <tr>\n",
       "      <th>4</th>\n",
       "      <td>sqft_living</td>\n",
       "      <td>1.649116e+02</td>\n",
       "    </tr>\n",
       "    <tr>\n",
       "      <th>7</th>\n",
       "      <td>sqft_lot_sqrt</td>\n",
       "      <td>-4.872995e+01</td>\n",
       "    </tr>\n",
       "    <tr>\n",
       "      <th>9</th>\n",
       "      <td>floors_square</td>\n",
       "      <td>3.902552e+02</td>\n",
       "    </tr>\n",
       "    <tr>\n",
       "      <th>10</th>\n",
       "      <td>waterfront</td>\n",
       "      <td>5.288770e+05</td>\n",
       "    </tr>\n",
       "    <tr>\n",
       "      <th>11</th>\n",
       "      <td>view</td>\n",
       "      <td>4.242081e+04</td>\n",
       "    </tr>\n",
       "    <tr>\n",
       "      <th>13</th>\n",
       "      <td>grade</td>\n",
       "      <td>1.184755e+05</td>\n",
       "    </tr>\n",
       "    <tr>\n",
       "      <th>16</th>\n",
       "      <td>yr_built</td>\n",
       "      <td>-2.827808e+03</td>\n",
       "    </tr>\n",
       "  </tbody>\n",
       "</table>\n",
       "</div>"
      ],
      "text/plain": [
       "             name         value\n",
       "0       intercept  4.827874e+06\n",
       "1        bedrooms -2.786608e+03\n",
       "3       bathrooms  1.629528e+04\n",
       "4     sqft_living  1.649116e+02\n",
       "7   sqft_lot_sqrt -4.872995e+01\n",
       "9   floors_square  3.902552e+02\n",
       "10     waterfront  5.288770e+05\n",
       "11           view  4.242081e+04\n",
       "13          grade  1.184755e+05\n",
       "16       yr_built -2.827808e+03"
      ]
     },
     "execution_count": 98,
     "metadata": {},
     "output_type": "execute_result"
    }
   ],
   "source": [
    "t[t['value']!=0]"
   ]
  },
  {
   "cell_type": "code",
   "execution_count": null,
   "metadata": {},
   "outputs": [],
   "source": []
  }
 ],
 "metadata": {
  "kernelspec": {
   "display_name": "Python 3",
   "language": "python",
   "name": "python3"
  },
  "language_info": {
   "codemirror_mode": {
    "name": "ipython",
    "version": 3
   },
   "file_extension": ".py",
   "mimetype": "text/x-python",
   "name": "python",
   "nbconvert_exporter": "python",
   "pygments_lexer": "ipython3",
   "version": "3.6.1"
  }
 },
 "nbformat": 4,
 "nbformat_minor": 2
}
