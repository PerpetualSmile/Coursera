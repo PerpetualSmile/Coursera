{
 "cells": [
  {
   "cell_type": "markdown",
   "metadata": {},
   "source": [
    "# Week 2: Multiple Regression (gradient descent)"
   ]
  },
  {
   "cell_type": "code",
   "execution_count": 1,
   "metadata": {
    "ExecuteTime": {
     "end_time": "2019-03-03T06:56:10.793786Z",
     "start_time": "2019-03-03T06:56:10.345503Z"
    }
   },
   "outputs": [],
   "source": [
    "import pandas as pd\n",
    "import numpy as np"
   ]
  },
  {
   "cell_type": "code",
   "execution_count": 2,
   "metadata": {
    "ExecuteTime": {
     "end_time": "2019-03-03T06:56:46.616611Z",
     "start_time": "2019-03-03T06:56:46.540339Z"
    }
   },
   "outputs": [],
   "source": [
    "df_trian = pd.read_csv('./kc_house_train_data.csv')\n",
    "df_test = pd.read_csv('./kc_house_test_data.csv')"
   ]
  },
  {
   "cell_type": "markdown",
   "metadata": {},
   "source": [
    "## Convert to Numpy array"
   ]
  },
  {
   "cell_type": "code",
   "execution_count": 5,
   "metadata": {
    "ExecuteTime": {
     "end_time": "2019-03-03T07:03:09.188122Z",
     "start_time": "2019-03-03T07:03:09.183134Z"
    }
   },
   "outputs": [],
   "source": [
    "def get_numpy_data(df, features, output):\n",
    "    df['constant'] = 1\n",
    "    features = ['constant'] + features\n",
    "    features_frame = df[features]\n",
    "    features_matrix = features_frame.values\n",
    "    output_frame = df[output]\n",
    "    output_array = output_frame.values\n",
    "    return (features_matrix, output_array)"
   ]
  },
  {
   "cell_type": "code",
   "execution_count": 7,
   "metadata": {
    "ExecuteTime": {
     "end_time": "2019-03-03T07:07:48.356465Z",
     "start_time": "2019-03-03T07:07:48.351450Z"
    }
   },
   "outputs": [],
   "source": [
    "example_features, example_output = get_numpy_data(df_trian, ['sqft_living'], 'price')"
   ]
  },
  {
   "cell_type": "markdown",
   "metadata": {},
   "source": [
    "## Predict output given regression weights"
   ]
  },
  {
   "cell_type": "code",
   "execution_count": 8,
   "metadata": {
    "ExecuteTime": {
     "end_time": "2019-03-03T07:08:26.548582Z",
     "start_time": "2019-03-03T07:08:26.544572Z"
    }
   },
   "outputs": [],
   "source": [
    "def predict_output(features, weights):\n",
    "    return features@weights"
   ]
  },
  {
   "cell_type": "code",
   "execution_count": 9,
   "metadata": {
    "ExecuteTime": {
     "end_time": "2019-03-03T07:09:18.943991Z",
     "start_time": "2019-03-03T07:09:18.939943Z"
    }
   },
   "outputs": [],
   "source": [
    "test_predictions = predict_output(example_features, np.array([1, 1]).reshape(-1, 1))"
   ]
  },
  {
   "cell_type": "code",
   "execution_count": 12,
   "metadata": {
    "ExecuteTime": {
     "end_time": "2019-03-03T07:09:40.460790Z",
     "start_time": "2019-03-03T07:09:40.456807Z"
    }
   },
   "outputs": [
    {
     "data": {
      "text/plain": [
       "array([1181], dtype=int64)"
      ]
     },
     "execution_count": 12,
     "metadata": {},
     "output_type": "execute_result"
    }
   ],
   "source": [
    "test_predictions[0]"
   ]
  },
  {
   "cell_type": "markdown",
   "metadata": {},
   "source": [
    "## Computing the Derivative"
   ]
  },
  {
   "cell_type": "code",
   "execution_count": 13,
   "metadata": {
    "ExecuteTime": {
     "end_time": "2019-03-03T07:31:05.135153Z",
     "start_time": "2019-03-03T07:31:05.131143Z"
    }
   },
   "outputs": [],
   "source": [
    "def feature_derivative(errors, features):\n",
    "    return 2 * np.dot(errors, feature)"
   ]
  },
  {
   "cell_type": "code",
   "execution_count": 14,
   "metadata": {
    "ExecuteTime": {
     "end_time": "2019-03-03T07:31:58.366934Z",
     "start_time": "2019-03-03T07:31:58.360917Z"
    }
   },
   "outputs": [],
   "source": [
    "(example_features, example_output) = get_numpy_data(df_trian, ['sqft_living'], 'price')"
   ]
  },
  {
   "cell_type": "code",
   "execution_count": 15,
   "metadata": {
    "ExecuteTime": {
     "end_time": "2019-03-03T07:32:13.602219Z",
     "start_time": "2019-03-03T07:32:13.599211Z"
    }
   },
   "outputs": [],
   "source": [
    "my_weights = np.array([0, 0])"
   ]
  },
  {
   "cell_type": "code",
   "execution_count": 16,
   "metadata": {
    "ExecuteTime": {
     "end_time": "2019-03-03T07:32:34.106878Z",
     "start_time": "2019-03-03T07:32:34.102868Z"
    }
   },
   "outputs": [],
   "source": [
    "test_predictions = predict_output(example_features, my_weights)"
   ]
  },
  {
   "cell_type": "code",
   "execution_count": 17,
   "metadata": {
    "ExecuteTime": {
     "end_time": "2019-03-03T07:32:51.250808Z",
     "start_time": "2019-03-03T07:32:51.246740Z"
    }
   },
   "outputs": [],
   "source": [
    "errors = test_predictions - example_output"
   ]
  },
  {
   "cell_type": "code",
   "execution_count": 18,
   "metadata": {
    "ExecuteTime": {
     "end_time": "2019-03-03T07:33:09.888836Z",
     "start_time": "2019-03-03T07:33:09.884824Z"
    }
   },
   "outputs": [],
   "source": [
    "feature = example_features[:, 0]"
   ]
  },
  {
   "cell_type": "code",
   "execution_count": 19,
   "metadata": {
    "ExecuteTime": {
     "end_time": "2019-03-03T07:33:29.841751Z",
     "start_time": "2019-03-03T07:33:29.837744Z"
    }
   },
   "outputs": [],
   "source": [
    "derivative = feature_derivative(errors, feature)"
   ]
  },
  {
   "cell_type": "code",
   "execution_count": 20,
   "metadata": {
    "ExecuteTime": {
     "end_time": "2019-03-03T07:33:39.513888Z",
     "start_time": "2019-03-03T07:33:39.509904Z"
    }
   },
   "outputs": [
    {
     "data": {
      "text/plain": [
       "-18752698920.0"
      ]
     },
     "execution_count": 20,
     "metadata": {},
     "output_type": "execute_result"
    }
   ],
   "source": [
    "derivative"
   ]
  },
  {
   "cell_type": "code",
   "execution_count": 22,
   "metadata": {
    "ExecuteTime": {
     "end_time": "2019-03-03T07:33:52.675329Z",
     "start_time": "2019-03-03T07:33:52.670316Z"
    }
   },
   "outputs": [
    {
     "data": {
      "text/plain": [
       "-18752698920.0"
      ]
     },
     "execution_count": 22,
     "metadata": {},
     "output_type": "execute_result"
    }
   ],
   "source": [
    "-np.sum(example_output)*2"
   ]
  },
  {
   "cell_type": "markdown",
   "metadata": {},
   "source": [
    "## Gradient Descent"
   ]
  },
  {
   "cell_type": "code",
   "execution_count": 54,
   "metadata": {
    "ExecuteTime": {
     "end_time": "2019-03-03T07:51:41.821213Z",
     "start_time": "2019-03-03T07:51:41.817175Z"
    }
   },
   "outputs": [],
   "source": [
    "from math import sqrt"
   ]
  },
  {
   "cell_type": "code",
   "execution_count": 68,
   "metadata": {
    "ExecuteTime": {
     "end_time": "2019-03-03T07:51:59.163350Z",
     "start_time": "2019-03-03T07:51:59.157651Z"
    }
   },
   "outputs": [],
   "source": [
    "def regression_gradient_descent(feature_matrix, output, initial_weights, step_size, tolerance):\n",
    "    converged = False\n",
    "    weights = np.array(initial_weights)\n",
    "    while not converged:\n",
    "        predictions = np.dot(feature_matrix, weights)\n",
    "        errors = predictions - output\n",
    "        gradient_sum_squares = 0\n",
    "        for i in range(len(weights)):\n",
    "            derivative = feature_derivative(errors, feature_matrix[:, i])\n",
    "            gradient_sum_squares += (derivative**2)\n",
    "            weights[i] -= (step_size*derivative)\n",
    "        gradient_magnitude = sqrt(gradient_sum_squares)\n",
    "        if gradient_magnitude < tolerance:\n",
    "            converged = True\n",
    "    return weights"
   ]
  },
  {
   "cell_type": "markdown",
   "metadata": {},
   "source": [
    "## Running the gradient descent as simple regression"
   ]
  },
  {
   "cell_type": "code",
   "execution_count": 69,
   "metadata": {
    "ExecuteTime": {
     "end_time": "2019-03-03T07:51:59.520657Z",
     "start_time": "2019-03-03T07:51:59.513611Z"
    }
   },
   "outputs": [],
   "source": [
    "simple_features = ['sqft_living']\n",
    "my_output = 'price'\n",
    "(simple_feature_matrix, output) = get_numpy_data(df_trian, simple_features, my_output)\n",
    "initial_weights = np.array([-47000., 1.])\n",
    "step_size = 7e-12\n",
    "tolerance = 2.5e7"
   ]
  },
  {
   "cell_type": "code",
   "execution_count": 70,
   "metadata": {
    "ExecuteTime": {
     "end_time": "2019-03-03T07:52:01.921803Z",
     "start_time": "2019-03-03T07:51:59.671252Z"
    }
   },
   "outputs": [],
   "source": [
    "simple_weights = regression_gradient_descent(simple_feature_matrix, output, initial_weights, step_size, tolerance)"
   ]
  },
  {
   "cell_type": "code",
   "execution_count": 71,
   "metadata": {
    "ExecuteTime": {
     "end_time": "2019-03-03T07:52:01.929852Z",
     "start_time": "2019-03-03T07:52:01.923808Z"
    }
   },
   "outputs": [
    {
     "data": {
      "text/plain": [
       "array([-46719.47614245,    281.52385755])"
      ]
     },
     "execution_count": 71,
     "metadata": {},
     "output_type": "execute_result"
    }
   ],
   "source": [
    "simple_weights"
   ]
  },
  {
   "cell_type": "code",
   "execution_count": 72,
   "metadata": {
    "ExecuteTime": {
     "end_time": "2019-03-03T07:52:01.949885Z",
     "start_time": "2019-03-03T07:52:01.931836Z"
    }
   },
   "outputs": [],
   "source": [
    "(test_simple_feature_matrix, test_output) = get_numpy_data(df_test, simple_features, my_output)"
   ]
  },
  {
   "cell_type": "code",
   "execution_count": 73,
   "metadata": {
    "ExecuteTime": {
     "end_time": "2019-03-03T07:52:01.966831Z",
     "start_time": "2019-03-03T07:52:01.953895Z"
    }
   },
   "outputs": [],
   "source": [
    "predicted_price = predict_output(test_simple_feature_matrix,simple_weights)"
   ]
  },
  {
   "cell_type": "code",
   "execution_count": 74,
   "metadata": {
    "ExecuteTime": {
     "end_time": "2019-03-03T07:52:01.988916Z",
     "start_time": "2019-03-03T07:52:01.969864Z"
    }
   },
   "outputs": [
    {
     "data": {
      "text/plain": [
       "355859.64014812047"
      ]
     },
     "execution_count": 74,
     "metadata": {},
     "output_type": "execute_result"
    }
   ],
   "source": [
    "predicted_price[0]"
   ]
  },
  {
   "cell_type": "code",
   "execution_count": 75,
   "metadata": {
    "ExecuteTime": {
     "end_time": "2019-03-03T07:52:02.013981Z",
     "start_time": "2019-03-03T07:52:01.991896Z"
    },
    "scrolled": true
   },
   "outputs": [
    {
     "data": {
      "text/plain": [
       "275400153822454.72"
      ]
     },
     "execution_count": 75,
     "metadata": {},
     "output_type": "execute_result"
    }
   ],
   "source": [
    "np.square(predicted_price-test_output).sum()"
   ]
  },
  {
   "cell_type": "code",
   "execution_count": 76,
   "metadata": {
    "ExecuteTime": {
     "end_time": "2019-03-03T07:52:02.035035Z",
     "start_time": "2019-03-03T07:52:02.016963Z"
    }
   },
   "outputs": [],
   "source": [
    "model_features = ['sqft_living', 'sqft_living15'] # sqft_living15 is the average squarefeet for the nearest 15 neighbors. \n",
    "my_output = 'price'\n",
    "(feature_matrix, output) = get_numpy_data(df_trian, model_features, my_output)\n",
    "initial_weights = np.array([-100000., 1., 1.])\n",
    "step_size = 4e-12\n",
    "tolerance = 1e9"
   ]
  },
  {
   "cell_type": "code",
   "execution_count": 77,
   "metadata": {
    "ExecuteTime": {
     "end_time": "2019-03-03T07:52:03.439455Z",
     "start_time": "2019-03-03T07:52:02.036013Z"
    }
   },
   "outputs": [],
   "source": [
    "multiple_weights = regression_gradient_descent(feature_matrix, output, initial_weights, step_size, tolerance)"
   ]
  },
  {
   "cell_type": "code",
   "execution_count": 78,
   "metadata": {
    "ExecuteTime": {
     "end_time": "2019-03-03T07:52:03.447474Z",
     "start_time": "2019-03-03T07:52:03.441458Z"
    }
   },
   "outputs": [],
   "source": [
    "test_multiple_feature_matrix, test_output = get_numpy_data(df_test, model_features, my_output)\n",
    "predictions = predict_output(test_multiple_feature_matrix,multiple_weights)"
   ]
  },
  {
   "cell_type": "code",
   "execution_count": 79,
   "metadata": {
    "ExecuteTime": {
     "end_time": "2019-03-03T07:52:03.484565Z",
     "start_time": "2019-03-03T07:52:03.449500Z"
    }
   },
   "outputs": [
    {
     "data": {
      "text/plain": [
       "391694.209161767"
      ]
     },
     "execution_count": 79,
     "metadata": {},
     "output_type": "execute_result"
    }
   ],
   "source": [
    "predictions[0]"
   ]
  },
  {
   "cell_type": "code",
   "execution_count": 80,
   "metadata": {
    "ExecuteTime": {
     "end_time": "2019-03-03T07:52:03.504619Z",
     "start_time": "2019-03-03T07:52:03.486571Z"
    }
   },
   "outputs": [
    {
     "data": {
      "text/plain": [
       "310000.0"
      ]
     },
     "execution_count": 80,
     "metadata": {},
     "output_type": "execute_result"
    }
   ],
   "source": [
    "test_output[0]"
   ]
  },
  {
   "cell_type": "code",
   "execution_count": 81,
   "metadata": {
    "ExecuteTime": {
     "end_time": "2019-03-03T07:52:03.524711Z",
     "start_time": "2019-03-03T07:52:03.507628Z"
    }
   },
   "outputs": [
    {
     "data": {
      "text/plain": [
       "280188091743893.97"
      ]
     },
     "execution_count": 81,
     "metadata": {},
     "output_type": "execute_result"
    }
   ],
   "source": [
    "np.square(predictions-test_output).sum()"
   ]
  }
 ],
 "metadata": {
  "kernelspec": {
   "display_name": "Python 3",
   "language": "python",
   "name": "python3"
  },
  "language_info": {
   "codemirror_mode": {
    "name": "ipython",
    "version": 3
   },
   "file_extension": ".py",
   "mimetype": "text/x-python",
   "name": "python",
   "nbconvert_exporter": "python",
   "pygments_lexer": "ipython3",
   "version": "3.6.1"
  }
 },
 "nbformat": 4,
 "nbformat_minor": 2
}
