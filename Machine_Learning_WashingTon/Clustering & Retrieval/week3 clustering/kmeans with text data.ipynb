{
 "cells": [
  {
   "cell_type": "markdown",
   "metadata": {},
   "source": [
    "# K-means with text data"
   ]
  },
  {
   "cell_type": "code",
   "execution_count": 1,
   "metadata": {
    "ExecuteTime": {
     "end_time": "2019-04-15T13:53:54.752151Z",
     "start_time": "2019-04-15T13:53:51.630574Z"
    }
   },
   "outputs": [],
   "source": [
    "import pandas as pd                                                  # see below for install instruction\n",
    "import matplotlib.pyplot as plt                                # plotting\n",
    "import numpy as np                                             # dense matrices\n",
    "from scipy.sparse import csr_matrix                            # sparse matrices\n",
    "from sklearn.preprocessing import normalize                    # normalizing vectors\n",
    "from sklearn.metrics import pairwise_distances                 # pairwise distances\n",
    "import sys      \n",
    "import os\n",
    "%matplotlib inline"
   ]
  },
  {
   "cell_type": "code",
   "execution_count": 2,
   "metadata": {
    "ExecuteTime": {
     "end_time": "2019-04-15T13:58:59.377627Z",
     "start_time": "2019-04-15T13:58:57.694110Z"
    }
   },
   "outputs": [],
   "source": [
    "wiki = pd.read_csv('people_wiki.csv')"
   ]
  },
  {
   "cell_type": "code",
   "execution_count": 3,
   "metadata": {
    "ExecuteTime": {
     "end_time": "2019-04-15T13:59:08.336918Z",
     "start_time": "2019-04-15T13:59:08.332954Z"
    }
   },
   "outputs": [],
   "source": [
    "def load_sparse_csr(filename):\n",
    "    loader = np.load(filename)\n",
    "    data = loader['data']\n",
    "    indices = loader['indices']\n",
    "    indptr = loader['indptr']\n",
    "    shape = loader['shape']\n",
    "\n",
    "    return csr_matrix( (data, indices, indptr), shape)"
   ]
  },
  {
   "cell_type": "code",
   "execution_count": 4,
   "metadata": {
    "ExecuteTime": {
     "end_time": "2019-04-15T13:59:28.852852Z",
     "start_time": "2019-04-15T13:59:26.584236Z"
    }
   },
   "outputs": [],
   "source": [
    "tf_idf = load_sparse_csr('people_wiki_tf_idf.npz')\n",
    "map_index_to_word = pd.read_json('people_wiki_map_index_to_word.json',typ='series')"
   ]
  },
  {
   "cell_type": "code",
   "execution_count": 5,
   "metadata": {
    "ExecuteTime": {
     "end_time": "2019-04-15T14:08:43.756410Z",
     "start_time": "2019-04-15T14:08:43.632079Z"
    }
   },
   "outputs": [],
   "source": [
    "from sklearn.preprocessing import normalize\n",
    "tf_idf = normalize(tf_idf)"
   ]
  },
  {
   "cell_type": "markdown",
   "metadata": {},
   "source": [
    "## Implement k-means"
   ]
  },
  {
   "cell_type": "code",
   "execution_count": 6,
   "metadata": {
    "ExecuteTime": {
     "end_time": "2019-04-15T14:18:25.834332Z",
     "start_time": "2019-04-15T14:18:25.829319Z"
    }
   },
   "outputs": [],
   "source": [
    "def get_initial_centroids(data, k, seed=None):\n",
    "    '''Randomly choose k data points as initial centroids'''\n",
    "    if seed is not None: # useful for obtaining consistent results\n",
    "        np.random.seed(seed)\n",
    "    n = data.shape[0] # number of data points\n",
    "        \n",
    "    # Pick K indices from range [0, N).\n",
    "    rand_indices = np.random.randint(0, n, k)\n",
    "    \n",
    "    # Keep centroids as dense format, as many entries will be nonzero due to averaging.\n",
    "    # As long as at least one document in a cluster contains a word,\n",
    "    # it will carry a nonzero weight in the TF-IDF vector of the centroid.\n",
    "    centroids = data[rand_indices,:].toarray()\n",
    "    \n",
    "    return centroids"
   ]
  },
  {
   "cell_type": "code",
   "execution_count": 7,
   "metadata": {
    "ExecuteTime": {
     "end_time": "2019-04-15T14:22:26.573997Z",
     "start_time": "2019-04-15T14:22:26.170703Z"
    }
   },
   "outputs": [
    {
     "name": "stdout",
     "output_type": "stream",
     "text": [
      "[[1.41000789 1.36894636]\n",
      " [1.40935215 1.41023886]\n",
      " [1.39855967 1.40890299]\n",
      " ...\n",
      " [1.41108296 1.39123646]\n",
      " [1.41022804 1.31468652]\n",
      " [1.39899784 1.41072448]]\n"
     ]
    }
   ],
   "source": [
    "from sklearn.metrics import pairwise_distances\n",
    "\n",
    "# Get the TF-IDF vectors for documents 100 through 102.\n",
    "queries = tf_idf[100:102,:]\n",
    "\n",
    "# Compute pairwise distances from every data point to each query vector.\n",
    "dist = pairwise_distances(tf_idf, queries, metric='euclidean')\n",
    "\n",
    "print(dist)"
   ]
  },
  {
   "cell_type": "code",
   "execution_count": 8,
   "metadata": {
    "ExecuteTime": {
     "end_time": "2019-04-15T14:25:14.010968Z",
     "start_time": "2019-04-15T14:25:14.004978Z"
    }
   },
   "outputs": [],
   "source": [
    "dist = pairwise_distances(tf_idf[430,:],tf_idf[1,:])"
   ]
  },
  {
   "cell_type": "code",
   "execution_count": 9,
   "metadata": {
    "ExecuteTime": {
     "end_time": "2019-04-15T14:25:26.452202Z",
     "start_time": "2019-04-15T14:25:26.445184Z"
    }
   },
   "outputs": [
    {
     "name": "stdout",
     "output_type": "stream",
     "text": [
      "Pass\n"
     ]
    }
   ],
   "source": [
    "'''Test cell'''\n",
    "if np.allclose(dist, pairwise_distances(tf_idf[430,:], tf_idf[1,:])):\n",
    "    print('Pass')\n",
    "else:\n",
    "    print('Check your code again')"
   ]
  },
  {
   "cell_type": "code",
   "execution_count": 11,
   "metadata": {
    "ExecuteTime": {
     "end_time": "2019-04-15T14:27:51.643851Z",
     "start_time": "2019-04-15T14:27:51.637835Z"
    }
   },
   "outputs": [
    {
     "data": {
      "text/plain": [
       "array([[1.40713107]])"
      ]
     },
     "execution_count": 11,
     "metadata": {},
     "output_type": "execute_result"
    }
   ],
   "source": [
    "dist"
   ]
  },
  {
   "cell_type": "code",
   "execution_count": 12,
   "metadata": {
    "ExecuteTime": {
     "end_time": "2019-04-15T14:28:11.561030Z",
     "start_time": "2019-04-15T14:28:11.520922Z"
    }
   },
   "outputs": [],
   "source": [
    "# Students should write code here\n",
    "distances = dist\n",
    "closest_cluster = np.argmin(dist)"
   ]
  },
  {
   "cell_type": "code",
   "execution_count": 13,
   "metadata": {
    "ExecuteTime": {
     "end_time": "2019-04-15T14:28:28.488082Z",
     "start_time": "2019-04-15T14:28:28.483069Z"
    }
   },
   "outputs": [
    {
     "name": "stdout",
     "output_type": "stream",
     "text": [
      "Pass\n"
     ]
    }
   ],
   "source": [
    "'''Test cell'''\n",
    "reference = [list(row).index(min(row)) for row in distances]\n",
    "if np.allclose(closest_cluster, reference):\n",
    "    print('Pass')\n",
    "else:\n",
    "    print('Check your code again')"
   ]
  },
  {
   "cell_type": "code",
   "execution_count": 14,
   "metadata": {
    "ExecuteTime": {
     "end_time": "2019-04-15T14:29:01.587659Z",
     "start_time": "2019-04-15T14:29:01.346978Z"
    }
   },
   "outputs": [],
   "source": [
    "# Students should write code here\n",
    "def arg(distances):\n",
    "    cluster_assignment = list()\n",
    "    for i in range(0,len(distances)):\n",
    "        cluster_assignment.append( np.argmin(distances[i]))\n",
    "    return np.array(cluster_assignment)\n",
    "centroids = tf_idf[0:3,:]\n",
    "distances = pairwise_distances(tf_idf,centroids)\n",
    "cluster_assignment = arg(distances)"
   ]
  },
  {
   "cell_type": "code",
   "execution_count": 15,
   "metadata": {
    "ExecuteTime": {
     "end_time": "2019-04-15T14:29:08.769690Z",
     "start_time": "2019-04-15T14:29:08.765654Z"
    }
   },
   "outputs": [
    {
     "name": "stdout",
     "output_type": "stream",
     "text": [
      "Pass\n"
     ]
    }
   ],
   "source": [
    "if len(cluster_assignment)==59071 and \\\n",
    "   np.array_equal(np.bincount(cluster_assignment), np.array([23061, 10086, 25924])):\n",
    "    print('Pass') # count number of data points for each cluster\n",
    "else:\n",
    "    print('Check your code again.')"
   ]
  },
  {
   "cell_type": "code",
   "execution_count": 16,
   "metadata": {
    "ExecuteTime": {
     "end_time": "2019-04-15T14:29:45.166651Z",
     "start_time": "2019-04-15T14:29:45.161622Z"
    }
   },
   "outputs": [],
   "source": [
    "def assign_clusters(data, centroids):\n",
    "    \n",
    "    # Compute distances between each data point and the set of centroids:\n",
    "    # Fill in the blank (RHS only)\n",
    "    distances_from_centroids = pairwise_distances(data,centroids)\n",
    "    \n",
    "    # Compute cluster assignments for each data point:\n",
    "    # Fill in the blank (RHS only)\n",
    "    cluster_assignment = arg(distances_from_centroids)\n",
    "    \n",
    "    return cluster_assignment"
   ]
  },
  {
   "cell_type": "code",
   "execution_count": 17,
   "metadata": {
    "ExecuteTime": {
     "end_time": "2019-04-15T14:30:21.004831Z",
     "start_time": "2019-04-15T14:30:20.460224Z"
    }
   },
   "outputs": [
    {
     "name": "stdout",
     "output_type": "stream",
     "text": [
      "Pass\n"
     ]
    }
   ],
   "source": [
    "if np.allclose(assign_clusters(tf_idf[0:100:10], tf_idf[0:8:2]), np.array([0, 1, 1, 0, 0, 2, 0, 2, 2, 1])):\n",
    "    print('Pass')\n",
    "else:\n",
    "    print('Check your code again.')"
   ]
  },
  {
   "cell_type": "markdown",
   "metadata": {},
   "source": [
    "## Revising clusters"
   ]
  },
  {
   "cell_type": "code",
   "execution_count": 18,
   "metadata": {
    "ExecuteTime": {
     "end_time": "2019-04-15T14:32:40.876815Z",
     "start_time": "2019-04-15T14:32:40.872818Z"
    }
   },
   "outputs": [],
   "source": [
    "data = np.array([[1., 2., 0.],\n",
    "                 [0., 0., 0.],\n",
    "                 [2., 2., 0.]])\n",
    "centroids = np.array([[0.5, 0.5, 0.],\n",
    "                      [0., -0.5, 0.]])"
   ]
  },
  {
   "cell_type": "code",
   "execution_count": 19,
   "metadata": {
    "ExecuteTime": {
     "end_time": "2019-04-15T14:32:55.137143Z",
     "start_time": "2019-04-15T14:32:55.071944Z"
    }
   },
   "outputs": [
    {
     "name": "stdout",
     "output_type": "stream",
     "text": [
      "[0 1 0]\n"
     ]
    }
   ],
   "source": [
    "cluster_assignment = assign_clusters(data, centroids)\n",
    "print(cluster_assignment)"
   ]
  },
  {
   "cell_type": "code",
   "execution_count": 20,
   "metadata": {
    "ExecuteTime": {
     "end_time": "2019-04-15T14:33:01.596648Z",
     "start_time": "2019-04-15T14:33:01.592672Z"
    }
   },
   "outputs": [
    {
     "data": {
      "text/plain": [
       "array([False,  True, False])"
      ]
     },
     "execution_count": 20,
     "metadata": {},
     "output_type": "execute_result"
    }
   ],
   "source": [
    "cluster_assignment==1"
   ]
  },
  {
   "cell_type": "code",
   "execution_count": 21,
   "metadata": {
    "ExecuteTime": {
     "end_time": "2019-04-15T14:33:44.424254Z",
     "start_time": "2019-04-15T14:33:44.419209Z"
    }
   },
   "outputs": [
    {
     "data": {
      "text/plain": [
       "array([ True, False,  True])"
      ]
     },
     "execution_count": 21,
     "metadata": {},
     "output_type": "execute_result"
    }
   ],
   "source": [
    "cluster_assignment==0"
   ]
  },
  {
   "cell_type": "code",
   "execution_count": 22,
   "metadata": {
    "ExecuteTime": {
     "end_time": "2019-04-15T14:33:49.638967Z",
     "start_time": "2019-04-15T14:33:49.633927Z"
    }
   },
   "outputs": [
    {
     "data": {
      "text/plain": [
       "array([[0., 0., 0.]])"
      ]
     },
     "execution_count": 22,
     "metadata": {},
     "output_type": "execute_result"
    }
   ],
   "source": [
    "data[cluster_assignment==1]"
   ]
  },
  {
   "cell_type": "code",
   "execution_count": 24,
   "metadata": {
    "ExecuteTime": {
     "end_time": "2019-04-15T14:34:16.226892Z",
     "start_time": "2019-04-15T14:34:16.221921Z"
    }
   },
   "outputs": [
    {
     "data": {
      "text/plain": [
       "array([[1., 2., 0.],\n",
       "       [2., 2., 0.]])"
      ]
     },
     "execution_count": 24,
     "metadata": {},
     "output_type": "execute_result"
    }
   ],
   "source": [
    "data[cluster_assignment==0]"
   ]
  },
  {
   "cell_type": "code",
   "execution_count": 25,
   "metadata": {
    "ExecuteTime": {
     "end_time": "2019-04-15T14:34:36.045460Z",
     "start_time": "2019-04-15T14:34:36.040447Z"
    }
   },
   "outputs": [
    {
     "data": {
      "text/plain": [
       "array([1.5, 2. , 0. ])"
      ]
     },
     "execution_count": 25,
     "metadata": {},
     "output_type": "execute_result"
    }
   ],
   "source": [
    "data[cluster_assignment==0].mean(axis=0)"
   ]
  },
  {
   "cell_type": "code",
   "execution_count": 26,
   "metadata": {
    "ExecuteTime": {
     "end_time": "2019-04-15T14:36:32.085164Z",
     "start_time": "2019-04-15T14:36:32.080151Z"
    }
   },
   "outputs": [],
   "source": [
    "def revise_centroids(data, k, cluster_assignment):\n",
    "    new_centroids = []\n",
    "    for i in range(k):\n",
    "        # Select all data points that belong to cluster i. Fill in the blank (RHS only)\n",
    "        member_data_points = data[cluster_assignment==i]\n",
    "        # Compute the mean of the data points. Fill in the blank (RHS only)\n",
    "        centroid = member_data_points.mean(axis=0)\n",
    "        \n",
    "        # Convert numpy.matrix type to numpy.ndarray type\n",
    "        centroid = centroid.A1\n",
    "        new_centroids.append(centroid)\n",
    "    new_centroids = np.array(new_centroids)\n",
    "    \n",
    "    return new_centroids"
   ]
  },
  {
   "cell_type": "code",
   "execution_count": 27,
   "metadata": {
    "ExecuteTime": {
     "end_time": "2019-04-15T14:36:54.957746Z",
     "start_time": "2019-04-15T14:36:54.639687Z"
    }
   },
   "outputs": [
    {
     "name": "stdout",
     "output_type": "stream",
     "text": [
      "Pass\n"
     ]
    }
   ],
   "source": [
    "result = revise_centroids(tf_idf[0:100:10], 3, np.array([0, 1, 1, 0, 0, 2, 0, 2, 2, 1]))\n",
    "if np.allclose(result[0], np.mean(tf_idf[[0,30,40,60]].toarray(), axis=0)) and \\\n",
    "   np.allclose(result[1], np.mean(tf_idf[[10,20,90]].toarray(), axis=0))   and \\\n",
    "   np.allclose(result[2], np.mean(tf_idf[[50,70,80]].toarray(), axis=0)):\n",
    "    print('Pass')\n",
    "else:\n",
    "    print('Check your code')"
   ]
  },
  {
   "cell_type": "markdown",
   "metadata": {},
   "source": [
    "## Assessing convergence"
   ]
  },
  {
   "cell_type": "code",
   "execution_count": 28,
   "metadata": {
    "ExecuteTime": {
     "end_time": "2019-04-15T14:43:24.770618Z",
     "start_time": "2019-04-15T14:43:24.764603Z"
    }
   },
   "outputs": [],
   "source": [
    "def compute_heterogeneity(data, k, centroids, cluster_assignment):\n",
    "    \n",
    "    heterogeneity = 0.0\n",
    "    for i in range(k):\n",
    "        \n",
    "        # Select all data points that belong to cluster i. Fill in the blank (RHS only)\n",
    "        member_data_points = data[cluster_assignment==i, :]\n",
    "        \n",
    "        if member_data_points.shape[0] > 0: # check if i-th cluster is non-empty\n",
    "            # Compute distances from centroid to data points (RHS only)\n",
    "            distances = pairwise_distances(member_data_points, [centroids[i]], metric='euclidean')\n",
    "            squared_distances = distances**2\n",
    "            heterogeneity += np.sum(squared_distances)\n",
    "        \n",
    "    return heterogeneity"
   ]
  },
  {
   "cell_type": "code",
   "execution_count": 29,
   "metadata": {
    "ExecuteTime": {
     "end_time": "2019-04-15T14:43:30.761823Z",
     "start_time": "2019-04-15T14:43:30.743792Z"
    }
   },
   "outputs": [
    {
     "data": {
      "text/plain": [
       "7.25"
      ]
     },
     "execution_count": 29,
     "metadata": {},
     "output_type": "execute_result"
    }
   ],
   "source": [
    "compute_heterogeneity(data, 2, centroids, cluster_assignment)"
   ]
  },
  {
   "cell_type": "code",
   "execution_count": 30,
   "metadata": {
    "ExecuteTime": {
     "end_time": "2019-04-15T14:44:58.446806Z",
     "start_time": "2019-04-15T14:44:58.437782Z"
    }
   },
   "outputs": [],
   "source": [
    "# Fill in the blanks\n",
    "def kmeans(data, k, initial_centroids, maxiter, record_heterogeneity=None, verbose=False):\n",
    "    '''This function runs k-means on given data and initial set of centroids.\n",
    "       maxiter: maximum number of iterations to run.\n",
    "       record_heterogeneity: (optional) a list, to store the history of heterogeneity as function of iterations\n",
    "                             if None, do not store the history.\n",
    "       verbose: if True, print how many data points changed their cluster labels in each iteration'''\n",
    "    centroids = initial_centroids[:]\n",
    "    prev_cluster_assignment = None\n",
    "    \n",
    "    for itr in range(maxiter):        \n",
    "        if verbose:\n",
    "            print(itr)\n",
    "        \n",
    "        # 1. Make cluster assignments using nearest centroids\n",
    "        # YOUR CODE HERE\n",
    "        cluster_assignment = assign_clusters(data,centroids)\n",
    "            \n",
    "        # 2. Compute a new centroid for each of the k clusters, averaging all data points assigned to that cluster.\n",
    "        # YOUR CODE HERE\n",
    "        centroids = revise_centroids(data,k,cluster_assignment)\n",
    "            \n",
    "        # Check for convergence: if none of the assignments changed, stop\n",
    "        if prev_cluster_assignment is not None and \\\n",
    "          (prev_cluster_assignment==cluster_assignment).all():\n",
    "            break\n",
    "        \n",
    "        # Print number of new assignments \n",
    "        if prev_cluster_assignment is not None:\n",
    "            num_changed = np.sum(prev_cluster_assignment!=cluster_assignment)\n",
    "            if verbose:\n",
    "                print('    {0:5d} elements changed their cluster assignment.'.format(num_changed))   \n",
    "        \n",
    "        # Record heterogeneity convergence metric\n",
    "        if record_heterogeneity is not None:\n",
    "            # YOUR CODE HERE\n",
    "            score = compute_heterogeneity(data,k,centroids,cluster_assignment)\n",
    "            record_heterogeneity.append(score)\n",
    "        \n",
    "        prev_cluster_assignment = cluster_assignment[:]\n",
    "        \n",
    "    return centroids, cluster_assignment"
   ]
  },
  {
   "cell_type": "code",
   "execution_count": 32,
   "metadata": {
    "ExecuteTime": {
     "end_time": "2019-04-15T14:45:09.994517Z",
     "start_time": "2019-04-15T14:45:09.990506Z"
    }
   },
   "outputs": [],
   "source": [
    "def plot_heterogeneity(heterogeneity, k):\n",
    "    plt.figure(figsize=(7,4))\n",
    "    plt.plot(heterogeneity, linewidth=4)\n",
    "    plt.xlabel('# Iterations')\n",
    "    plt.ylabel('Heterogeneity')\n",
    "    plt.title('Heterogeneity of clustering over time, K={0:d}'.format(k))\n",
    "    plt.rcParams.update({'font.size': 16})\n",
    "    plt.tight_layout()"
   ]
  },
  {
   "cell_type": "code",
   "execution_count": 33,
   "metadata": {
    "ExecuteTime": {
     "end_time": "2019-04-15T14:46:15.731026Z",
     "start_time": "2019-04-15T14:45:17.541033Z"
    }
   },
   "outputs": [
    {
     "name": "stdout",
     "output_type": "stream",
     "text": [
      "0\n",
      "1\n",
      "    19157 elements changed their cluster assignment.\n",
      "2\n",
      "     7739 elements changed their cluster assignment.\n",
      "3\n",
      "     5119 elements changed their cluster assignment.\n",
      "4\n",
      "     3370 elements changed their cluster assignment.\n",
      "5\n",
      "     2811 elements changed their cluster assignment.\n",
      "6\n",
      "     3233 elements changed their cluster assignment.\n",
      "7\n",
      "     3815 elements changed their cluster assignment.\n",
      "8\n",
      "     3172 elements changed their cluster assignment.\n",
      "9\n",
      "     1149 elements changed their cluster assignment.\n",
      "10\n",
      "      498 elements changed their cluster assignment.\n",
      "11\n",
      "      265 elements changed their cluster assignment.\n",
      "12\n",
      "      149 elements changed their cluster assignment.\n",
      "13\n",
      "      100 elements changed their cluster assignment.\n",
      "14\n",
      "       76 elements changed their cluster assignment.\n",
      "15\n",
      "       67 elements changed their cluster assignment.\n",
      "16\n",
      "       51 elements changed their cluster assignment.\n",
      "17\n",
      "       47 elements changed their cluster assignment.\n",
      "18\n",
      "       40 elements changed their cluster assignment.\n",
      "19\n",
      "       34 elements changed their cluster assignment.\n",
      "20\n",
      "       35 elements changed their cluster assignment.\n",
      "21\n",
      "       39 elements changed their cluster assignment.\n",
      "22\n",
      "       24 elements changed their cluster assignment.\n",
      "23\n",
      "       16 elements changed their cluster assignment.\n",
      "24\n",
      "       12 elements changed their cluster assignment.\n",
      "25\n",
      "       14 elements changed their cluster assignment.\n",
      "26\n",
      "       17 elements changed their cluster assignment.\n",
      "27\n",
      "       15 elements changed their cluster assignment.\n",
      "28\n",
      "       14 elements changed their cluster assignment.\n",
      "29\n",
      "       16 elements changed their cluster assignment.\n",
      "30\n",
      "       21 elements changed their cluster assignment.\n",
      "31\n",
      "       22 elements changed their cluster assignment.\n",
      "32\n",
      "       33 elements changed their cluster assignment.\n",
      "33\n",
      "       35 elements changed their cluster assignment.\n",
      "34\n",
      "       39 elements changed their cluster assignment.\n",
      "35\n",
      "       36 elements changed their cluster assignment.\n",
      "36\n",
      "       36 elements changed their cluster assignment.\n",
      "37\n",
      "       25 elements changed their cluster assignment.\n",
      "38\n",
      "       27 elements changed their cluster assignment.\n",
      "39\n",
      "       25 elements changed their cluster assignment.\n",
      "40\n",
      "       28 elements changed their cluster assignment.\n",
      "41\n",
      "       35 elements changed their cluster assignment.\n",
      "42\n",
      "       31 elements changed their cluster assignment.\n",
      "43\n",
      "       25 elements changed their cluster assignment.\n",
      "44\n",
      "       18 elements changed their cluster assignment.\n",
      "45\n",
      "       15 elements changed their cluster assignment.\n",
      "46\n",
      "       10 elements changed their cluster assignment.\n",
      "47\n",
      "        8 elements changed their cluster assignment.\n",
      "48\n",
      "        8 elements changed their cluster assignment.\n",
      "49\n",
      "        8 elements changed their cluster assignment.\n",
      "50\n",
      "        7 elements changed their cluster assignment.\n",
      "51\n",
      "        8 elements changed their cluster assignment.\n",
      "52\n",
      "        3 elements changed their cluster assignment.\n",
      "53\n",
      "        3 elements changed their cluster assignment.\n",
      "54\n",
      "        4 elements changed their cluster assignment.\n",
      "55\n",
      "        2 elements changed their cluster assignment.\n",
      "56\n",
      "        3 elements changed their cluster assignment.\n",
      "57\n",
      "        3 elements changed their cluster assignment.\n",
      "58\n",
      "        1 elements changed their cluster assignment.\n",
      "59\n",
      "        1 elements changed their cluster assignment.\n",
      "60\n"
     ]
    },
    {
     "data": {
      "image/png": "[encoded data removed]",
      "text/plain": [
       "<Figure size 504x288 with 1 Axes>"
      ]
     },
     "metadata": {
      "needs_background": "light"
     },
     "output_type": "display_data"
    }
   ],
   "source": [
    "k = 3\n",
    "heterogeneity = []\n",
    "initial_centroids = get_initial_centroids(tf_idf, k, seed=0)\n",
    "centroids, cluster_assignment = kmeans(tf_idf, k, initial_centroids, maxiter=400,\n",
    "                                       record_heterogeneity=heterogeneity, verbose=True)\n",
    "plot_heterogeneity(heterogeneity, k)"
   ]
  },
  {
   "cell_type": "code",
   "execution_count": 34,
   "metadata": {
    "ExecuteTime": {
     "end_time": "2019-04-15T14:47:35.210073Z",
     "start_time": "2019-04-15T14:47:35.205065Z"
    }
   },
   "outputs": [
    {
     "data": {
      "text/plain": [
       "array([19595, 10427, 29049], dtype=int64)"
      ]
     },
     "execution_count": 34,
     "metadata": {},
     "output_type": "execute_result"
    }
   ],
   "source": [
    "np.bincount(cluster_assignment)"
   ]
  },
  {
   "cell_type": "code",
   "execution_count": 37,
   "metadata": {
    "ExecuteTime": {
     "end_time": "2019-04-15T14:54:39.136726Z",
     "start_time": "2019-04-15T14:49:57.376547Z"
    }
   },
   "outputs": [
    {
     "name": "stdout",
     "output_type": "stream",
     "text": [
      "seed=000000, heterogeneity=57457.52442\n",
      "18047\n",
      "seed=020000, heterogeneity=57533.20100\n",
      "15779\n",
      "seed=040000, heterogeneity=57512.69257\n",
      "18132\n",
      "seed=060000, heterogeneity=57466.97925\n",
      "17900\n",
      "seed=080000, heterogeneity=57494.92990\n",
      "17582\n",
      "seed=100000, heterogeneity=57484.42210\n",
      "16969\n",
      "seed=120000, heterogeneity=57554.62410\n",
      "16481\n",
      "281.7531795501709\n"
     ]
    }
   ],
   "source": [
    "k = 10\n",
    "heterogeneity = {}\n",
    "import time\n",
    "start = time.time()\n",
    "quiz_ans = list()\n",
    "for seed in [0, 20000, 40000, 60000, 80000, 100000, 120000]:\n",
    "    initial_centroids = get_initial_centroids(tf_idf, k, seed)\n",
    "    centroids, cluster_assignment = kmeans(tf_idf, k, initial_centroids, maxiter=400,\n",
    "                                           record_heterogeneity=None, verbose=False)\n",
    "    # To save time, compute heterogeneity only once in the end\n",
    "    heterogeneity[seed] = compute_heterogeneity(tf_idf, k, centroids, cluster_assignment)\n",
    "    print('seed={0:06d}, heterogeneity={1:.5f}'.format(seed, heterogeneity[seed]))\n",
    "    print(max(np.bincount(cluster_assignment)))\n",
    "    quiz_ans.append(max(np.bincount(cluster_assignment)))\n",
    "    sys.stdout.flush()\n",
    "end = time.time()\n",
    "print(end-start)"
   ]
  },
  {
   "cell_type": "code",
   "execution_count": 39,
   "metadata": {
    "ExecuteTime": {
     "end_time": "2019-04-15T14:55:12.726680Z",
     "start_time": "2019-04-15T14:55:12.722697Z"
    }
   },
   "outputs": [
    {
     "name": "stdout",
     "output_type": "stream",
     "text": [
      "15779 18132\n"
     ]
    }
   ],
   "source": [
    "print(min(quiz_ans),max(quiz_ans))"
   ]
  },
  {
   "cell_type": "code",
   "execution_count": 42,
   "metadata": {
    "ExecuteTime": {
     "end_time": "2019-04-15T14:55:45.823735Z",
     "start_time": "2019-04-15T14:55:45.816716Z"
    }
   },
   "outputs": [],
   "source": [
    "def smart_initialize(data, k, seed=None):\n",
    "    '''Use k-means++ to initialize a good set of centroids'''\n",
    "    if seed is not None: # useful for obtaining consistent results\n",
    "        np.random.seed(seed)\n",
    "    centroids = np.zeros((k, data.shape[1]))\n",
    "    \n",
    "    # Randomly choose the first centroid.\n",
    "    # Since we have no prior knowledge, choose uniformly at random\n",
    "    idx = np.random.randint(data.shape[0])\n",
    "    centroids[0] = data[idx,:].toarray()\n",
    "    # Compute distances from the first centroid chosen to all the other data points\n",
    "    distances = pairwise_distances(data, centroids[0:1], metric='euclidean').flatten()\n",
    "    \n",
    "    for i in range(1, k):\n",
    "        # Choose the next centroid randomly, so that the probability for each data point to be chosen\n",
    "        # is directly proportional to its squared distance from the nearest centroid.\n",
    "        # Roughtly speaking, a new centroid should be as far as from ohter centroids as possible.\n",
    "        idx = np.random.choice(data.shape[0], 1, p=distances/sum(distances))\n",
    "        centroids[i] = data[idx,:].toarray()\n",
    "        # Now compute distances from the centroids to all data points\n",
    "        distances = np.min(pairwise_distances(data, centroids[0:i+1], metric='euclidean'),axis=1)\n",
    "    \n",
    "    return centroids"
   ]
  },
  {
   "cell_type": "code",
   "execution_count": 43,
   "metadata": {
    "ExecuteTime": {
     "end_time": "2019-04-15T15:02:06.903850Z",
     "start_time": "2019-04-15T14:55:46.107550Z"
    },
    "scrolled": true
   },
   "outputs": [
    {
     "name": "stdout",
     "output_type": "stream",
     "text": [
      "seed=000000, heterogeneity=57441.33298\n",
      "seed=020000, heterogeneity=57457.50383\n",
      "seed=040000, heterogeneity=57469.82237\n",
      "seed=060000, heterogeneity=57503.05355\n",
      "seed=080000, heterogeneity=57464.05684\n",
      "seed=100000, heterogeneity=57487.57010\n",
      "seed=120000, heterogeneity=57534.79120\n",
      "380.7902989387512\n"
     ]
    }
   ],
   "source": [
    "k = 10\n",
    "heterogeneity_smart = {}\n",
    "start = time.time()\n",
    "for seed in [0, 20000, 40000, 60000, 80000, 100000, 120000]:\n",
    "    initial_centroids = smart_initialize(tf_idf, k, seed)\n",
    "    centroids, cluster_assignment = kmeans(tf_idf, k, initial_centroids, maxiter=400,\n",
    "                                           record_heterogeneity=None, verbose=False)\n",
    "    # To save time, compute heterogeneity only once in the end\n",
    "    heterogeneity_smart[seed] = compute_heterogeneity(tf_idf, k, centroids, cluster_assignment)\n",
    "    print('seed={0:06d}, heterogeneity={1:.5f}'.format(seed, heterogeneity_smart[seed]))\n",
    "    sys.stdout.flush()\n",
    "end = time.time()\n",
    "print(end-start)"
   ]
  },
  {
   "cell_type": "code",
   "execution_count": 48,
   "metadata": {
    "ExecuteTime": {
     "end_time": "2019-04-15T15:03:12.259814Z",
     "start_time": "2019-04-15T15:03:11.823515Z"
    }
   },
   "outputs": [
    {
     "data": {
      "image/png": "[encoded data removed]",
      "text/plain": [
       "<Figure size 576x360 with 1 Axes>"
      ]
     },
     "metadata": {
      "needs_background": "light"
     },
     "output_type": "display_data"
    }
   ],
   "source": [
    "plt.figure(figsize=(8,5))\n",
    "plt.boxplot([list(heterogeneity.values()), list(heterogeneity_smart.values())], vert=False)\n",
    "plt.yticks([1, 2], ['k-means', 'k-means++'])\n",
    "plt.rcParams.update({'font.size': 16})\n",
    "plt.tight_layout()"
   ]
  },
  {
   "cell_type": "code",
   "execution_count": 49,
   "metadata": {
    "ExecuteTime": {
     "end_time": "2019-04-15T15:03:30.278243Z",
     "start_time": "2019-04-15T15:03:30.268215Z"
    }
   },
   "outputs": [],
   "source": [
    "def kmeans_multiple_runs(data, k, maxiter, num_runs, seed_list=None, verbose=False):\n",
    "    heterogeneity = {}\n",
    "    \n",
    "    min_heterogeneity_achieved = float('inf')\n",
    "    best_seed = None\n",
    "    final_centroids = None\n",
    "    final_cluster_assignment = None\n",
    "    \n",
    "    for i in range(num_runs):\n",
    "        \n",
    "        # Use UTC time if no seeds are provided \n",
    "        if seed_list is not None: \n",
    "            seed = seed_list[i]\n",
    "            np.random.seed(seed)\n",
    "        else: \n",
    "            seed = int(time.time())\n",
    "            np.random.seed(seed)\n",
    "        \n",
    "        # Use k-means++ initialization\n",
    "        # YOUR CODE HERE\n",
    "        initial_centroids =  smart_initialize(data,k,seed)\n",
    "        \n",
    "        # Run k-means\n",
    "        # YOUR CODE HERE\n",
    "        centroids, cluster_assignment = kmeans(data, k, initial_centroids, maxiter, record_heterogeneity=None, verbose=False)\n",
    "        \n",
    "        # To save time, compute heterogeneity only once in the end\n",
    "        # YOUR CODE HERE\n",
    "        heterogeneity[seed] = compute_heterogeneity(data, k, centroids, cluster_assignment)\n",
    "        \n",
    "        if verbose:\n",
    "            print('seed={0:06d}, heterogeneity={1:.5f}'.format(seed, heterogeneity[seed]))\n",
    "            sys.stdout.flush()\n",
    "        \n",
    "        # if current measurement of heterogeneity is lower than previously seen,\n",
    "        # update the minimum record of heterogeneity.\n",
    "        if heterogeneity[seed] < min_heterogeneity_achieved:\n",
    "            min_heterogeneity_achieved = heterogeneity[seed]\n",
    "            best_seed = seed\n",
    "            final_centroids = centroids\n",
    "            final_cluster_assignment = cluster_assignment\n",
    "    \n",
    "    # Return the centroids and cluster assignments that minimize heterogeneity.\n",
    "    return final_centroids, final_cluster_assignment"
   ]
  },
  {
   "cell_type": "markdown",
   "metadata": {},
   "source": [
    "## How to choose K"
   ]
  },
  {
   "cell_type": "code",
   "execution_count": 50,
   "metadata": {
    "ExecuteTime": {
     "end_time": "2019-04-15T15:08:44.780004Z",
     "start_time": "2019-04-15T15:08:38.799256Z"
    }
   },
   "outputs": [
    {
     "name": "stdout",
     "output_type": "stream",
     "text": [
      "2\n",
      "10\n",
      "25\n",
      "50\n",
      "100\n"
     ]
    },
    {
     "data": {
      "image/png": "[encoded data removed]",
      "text/plain": [
       "<Figure size 504x288 with 1 Axes>"
      ]
     },
     "metadata": {
      "needs_background": "light"
     },
     "output_type": "display_data"
    }
   ],
   "source": [
    "def plot_k_vs_heterogeneity(k_values, heterogeneity_values):\n",
    "    plt.figure(figsize=(7,4))\n",
    "    plt.plot(k_values, heterogeneity_values, linewidth=4)\n",
    "    plt.xlabel('K')\n",
    "    plt.ylabel('Heterogeneity')\n",
    "    plt.title('K vs. Heterogeneity')\n",
    "    plt.rcParams.update({'font.size': 16})\n",
    "    plt.tight_layout()\n",
    "\n",
    "filename = 'kmeans-arrays.npz'\n",
    "\n",
    "heterogeneity_values = []\n",
    "k_list = [2, 10, 25, 50, 100]\n",
    "\n",
    "if os.path.exists(filename):\n",
    "    arrays = np.load(filename)\n",
    "    centroids = {}\n",
    "    cluster_assignment = {}\n",
    "    for k in k_list:\n",
    "        print(k)\n",
    "        sys.stdout.flush()\n",
    "        '''To save memory space, do not load the arrays from the file right away. We use\n",
    "           a technique known as lazy evaluation, where some expressions are not evaluated\n",
    "           until later. Any expression appearing inside a lambda function doesn't get\n",
    "           evaluated until the function is called.\n",
    "           Lazy evaluation is extremely important in memory-constrained setting, such as\n",
    "           an Amazon EC2 t2.micro instance.'''\n",
    "        centroids[k] = lambda k=k: arrays['centroids_{0:d}'.format(k)]\n",
    "        cluster_assignment[k] = lambda k=k: arrays['cluster_assignment_{0:d}'.format(k)]\n",
    "        score = compute_heterogeneity(tf_idf, k, centroids[k](), cluster_assignment[k]())\n",
    "        heterogeneity_values.append(score)\n",
    "    \n",
    "    plot_k_vs_heterogeneity(k_list, heterogeneity_values)\n",
    "\n",
    "else:\n",
    "    print('File not found. Skipping.')"
   ]
  },
  {
   "cell_type": "markdown",
   "metadata": {},
   "source": [
    "## Visualize clusters of documents"
   ]
  },
  {
   "cell_type": "code",
   "execution_count": 55,
   "metadata": {
    "ExecuteTime": {
     "end_time": "2019-04-15T15:13:27.131270Z",
     "start_time": "2019-04-15T15:13:27.121271Z"
    }
   },
   "outputs": [],
   "source": [
    "def visualize_document_clusters(wiki, tf_idf, centroids, cluster_assignment, k, map_index_to_word, display_content=True):\n",
    "    '''wiki: original dataframe\n",
    "       tf_idf: data matrix, sparse matrix format\n",
    "       map_index_to_word: SFrame specifying the mapping betweeen words and column indices\n",
    "       display_content: if True, display 8 nearest neighbors of each centroid'''\n",
    "    \n",
    "    print('==========================================================')\n",
    "\n",
    "    # Visualize each cluster c\n",
    "    for c in range(k):\n",
    "        # Cluster heading\n",
    "        print('Cluster {0:d}    '.format(c)),\n",
    "        # Print top 5 words with largest TF-IDF weights in the cluster\n",
    "        idx = centroids[c].argsort()[::-1]\n",
    "        for i in range(5): # Print each word along with the TF-IDF weight\n",
    "            print('{0:s}:{1:.3f}'.format(map_index_to_word.index[idx[i]], centroids[c,idx[i]])),\n",
    "        print('')\n",
    "        \n",
    "        if display_content:\n",
    "            # Compute distances from the centroid to all data points in the cluster,\n",
    "            # and compute nearest neighbors of the centroids within the cluster.\n",
    "            distances = pairwise_distances(tf_idf, centroids[c].reshape(1, -1), metric='euclidean').flatten()\n",
    "            distances[cluster_assignment!=c] = float('inf') # remove non-members from consideration\n",
    "            nearest_neighbors = distances.argsort()\n",
    "            # For 8 nearest neighbors, print the title as well as first 180 characters of text.\n",
    "            # Wrap the text at 80-character mark.\n",
    "            for i in range(8):\n",
    "                text = ' '.join(wiki.iloc[nearest_neighbors[i]]['text'].split(None, 25)[0:25])\n",
    "                print('\\n* {0:50s} {1:.5f}\\n  {2:s}\\n  {3:s}'.format(wiki.iloc[nearest_neighbors[i]]['name'],\n",
    "                    distances[nearest_neighbors[i]], text[:90], text[90:180] if len(text) > 90 else ''))\n",
    "        print('==========================================================')"
   ]
  },
  {
   "cell_type": "code",
   "execution_count": 56,
   "metadata": {
    "ExecuteTime": {
     "end_time": "2019-04-15T15:13:27.749940Z",
     "start_time": "2019-04-15T15:13:27.473202Z"
    }
   },
   "outputs": [
    {
     "name": "stdout",
     "output_type": "stream",
     "text": [
      "==========================================================\n",
      "Cluster 0    \n",
      "serieslong:0.025\n",
      "bostonas:0.017\n",
      "33story:0.012\n",
      "gan:0.011\n",
      "efovi:0.011\n",
      "\n",
      "\n",
      "* Anita Kunz                                         0.97401\n",
      "  anita e kunz oc born 1956 is a canadianborn artist and illustratorkunz has lived in london\n",
      "   new york and toronto contributing to magazines and working\n",
      "\n",
      "* Janet Jackson                                      0.97472\n",
      "  janet damita jo jackson born may 16 1966 is an american singer songwriter and actress know\n",
      "  n for a series of sonically innovative socially conscious and\n",
      "\n",
      "* Madonna (entertainer)                              0.97475\n",
      "  madonna louise ciccone tkoni born august 16 1958 is an american singer songwriter actress \n",
      "  and businesswoman she achieved popularity by pushing the boundaries of lyrical\n",
      "\n",
      "* %C3%81ine Hyland                                   0.97536\n",
      "  ine hyland ne donlon is emeritus professor of education and former vicepresident of univer\n",
      "  sity college cork ireland she was born in 1942 in athboy co\n",
      "\n",
      "* Jane Fonda                                         0.97621\n",
      "  jane fonda born lady jayne seymour fonda december 21 1937 is an american actress writer po\n",
      "  litical activist former fashion model and fitness guru she is\n",
      "\n",
      "* Christine Robertson                                0.97643\n",
      "  christine mary robertson born 5 october 1948 is an australian politician and former austra\n",
      "  lian labor party member of the new south wales legislative council serving\n",
      "\n",
      "* Pat Studdy-Clift                                   0.97643\n",
      "  pat studdyclift is an australian author specialising in historical fiction and nonfictionb\n",
      "  orn in 1925 she lived in gunnedah until she was sent to a boarding\n",
      "\n",
      "* Alexandra Potter                                   0.97646\n",
      "  alexandra potter born 1970 is a british author of romantic comediesborn in bradford yorksh\n",
      "  ire england and educated at liverpool university gaining an honors degree in\n",
      "==========================================================\n",
      "Cluster 1    \n",
      "19771992according:0.040\n",
      "sibinki:0.036\n",
      "gonino:0.029\n",
      "anchoragearea:0.029\n",
      "ngandu:0.028\n",
      "\n",
      "\n",
      "* Todd Williams                                      0.95468\n",
      "  todd michael williams born february 13 1971 in syracuse new york is a former major league \n",
      "  baseball relief pitcher he attended east syracuseminoa high school\n",
      "\n",
      "* Gord Sherven                                       0.95622\n",
      "  gordon r sherven born august 21 1963 in gravelbourg saskatchewan and raised in mankota sas\n",
      "  katchewan is a retired canadian professional ice hockey forward who played\n",
      "\n",
      "* Justin Knoedler                                    0.95639\n",
      "  justin joseph knoedler born july 17 1980 in springfield illinois is a former major league \n",
      "  baseball catcherknoedler was originally drafted by the st louis cardinals\n",
      "\n",
      "* Chris Day                                          0.95648\n",
      "  christopher nicholas chris day born 28 july 1975 is an english professional footballer who\n",
      "   plays as a goalkeeper for stevenageday started his career at tottenham\n",
      "\n",
      "* Tony Smith (footballer, born 1957)                 0.95653\n",
      "  anthony tony smith born 20 february 1957 is a former footballer who played as a central de\n",
      "  fender in the football league in the 1970s and\n",
      "\n",
      "* Ashley Prescott                                    0.95761\n",
      "  ashley prescott born 11 september 1972 is a former australian rules footballer he played w\n",
      "  ith the richmond and fremantle football clubs in the afl between\n",
      "\n",
      "* Leslie Lea                                         0.95802\n",
      "  leslie lea born 5 october 1942 in manchester is an english former professional footballer \n",
      "  he played as a midfielderlea began his professional career with blackpool\n",
      "\n",
      "* Tommy Anderson (footballer)                        0.95818\n",
      "  thomas cowan tommy anderson born 24 september 1934 in haddington is a scottish former prof\n",
      "  essional footballer he played as a forward and was noted for\n",
      "==========================================================\n"
     ]
    }
   ],
   "source": [
    "'''Notice the extra pairs of parentheses for centroids and cluster_assignment.\n",
    "   The centroid and cluster_assignment are still inside the npz file,\n",
    "   and we need to explicitly indicate when to load them into memory.'''\n",
    "visualize_document_clusters(wiki, tf_idf, centroids[2](), cluster_assignment[2](), 2, map_index_to_word)"
   ]
  },
  {
   "cell_type": "code",
   "execution_count": 57,
   "metadata": {
    "ExecuteTime": {
     "end_time": "2019-04-15T15:14:21.363146Z",
     "start_time": "2019-04-15T15:14:20.368502Z"
    }
   },
   "outputs": [
    {
     "name": "stdout",
     "output_type": "stream",
     "text": [
      "==========================================================\n",
      "Cluster 0    \n",
      "allmvfc:0.020\n",
      "scientistagreed:0.014\n",
      "gan:0.011\n",
      "psihomodo:0.010\n",
      "2001pasithee:0.010\n",
      "\n",
      "\n",
      "* Wilson McLean                                      0.97479\n",
      "  wilson mclean born 1937 is a scottish illustrator and artist he has illustrated primarily \n",
      "  in the field of advertising but has also provided cover art\n",
      "\n",
      "* Anton Hecht                                        0.97748\n",
      "  anton hecht is an english artist born in london in 2007 he asked musicians from around the\n",
      "   durham area to contribute to a soundtrack for\n",
      "\n",
      "* David Salle                                        0.97800\n",
      "  david salle born 1952 is an american painter printmaker and stage designer who helped defi\n",
      "  ne postmodern sensibility salle was born in norman oklahoma he earned\n",
      "\n",
      "* Vipin Sharma                                       0.97805\n",
      "  vipin sharma is an indian actor born in new delhi he is a graduate of national school of d\n",
      "  rama new delhi india and the canadian\n",
      "\n",
      "* Paul Swadel                                        0.97823\n",
      "  paul swadel is a new zealand film director and producerhe has directed and produced many s\n",
      "  uccessful short films which have screened in competition at cannes\n",
      "\n",
      "* Allan Stratton                                     0.97834\n",
      "  allan stratton born 1951 is a canadian playwright and novelistborn in stratford ontario st\n",
      "  ratton began his professional arts career while he was still in high\n",
      "\n",
      "* Bill Bennett (director)                            0.97848\n",
      "  bill bennett born 1953 is an australian film director producer and screenwriterhe dropped \n",
      "  out of medicine at queensland university in 1972 and joined the australian\n",
      "\n",
      "* Rafal Zielinski                                    0.97850\n",
      "  rafal zielinski born 1957 montreal is an independent filmmaker he is best known for direct\n",
      "  ing films such as fun sundance film festival special jury award\n",
      "==========================================================\n",
      "Cluster 1    \n",
      "19771992according:0.052\n",
      "famekarl:0.044\n",
      "5153:0.042\n",
      "legislaturewhen:0.042\n",
      "sibinki:0.041\n",
      "\n",
      "\n",
      "* Chris Day                                          0.93220\n",
      "  christopher nicholas chris day born 28 july 1975 is an english professional footballer who\n",
      "   plays as a goalkeeper for stevenageday started his career at tottenham\n",
      "\n",
      "* Gary Hooper                                        0.93481\n",
      "  gary hooper born 26 january 1988 is an english professional footballer who plays as a forw\n",
      "  ard for norwich cityhooper started his career at nonleague grays\n",
      "\n",
      "* Tony Smith (footballer, born 1957)                 0.93504\n",
      "  anthony tony smith born 20 february 1957 is a former footballer who played as a central de\n",
      "  fender in the football league in the 1970s and\n",
      "\n",
      "* Jason Roberts (footballer)                         0.93527\n",
      "  jason andre davis roberts mbe born 25 january 1978 is a former professional footballer and\n",
      "   now a football punditborn in park royal london roberts was\n",
      "\n",
      "* Paul Robinson (footballer, born 1979)              0.93587\n",
      "  paul william robinson born 15 october 1979 is an english professional footballer who plays\n",
      "   for blackburn rovers as a goalkeeper he is a former england\n",
      "\n",
      "* Alex Lawless                                       0.93732\n",
      "  alexander graham alex lawless born 26 march 1985 is a welsh professional footballer who pl\n",
      "  ays for luton town as a midfielderlawless began his career with\n",
      "\n",
      "* Neil Grayson                                       0.93748\n",
      "  neil grayson born 1 november 1964 in york is an english footballer who last played as a st\n",
      "  riker for sutton towngraysons first club was local\n",
      "\n",
      "* Sol Campbell                                       0.93759\n",
      "  sulzeer jeremiah sol campbell born 18 september 1974 is a former england international foo\n",
      "  tballer a central defender he had a 19year career playing in the\n",
      "==========================================================\n",
      "Cluster 2    \n",
      "agency:0.040\n",
      "ebe:0.037\n",
      "qafl:0.032\n",
      "addaction:0.029\n",
      "spanky:0.029\n",
      "\n",
      "\n",
      "* Alessandra Aguilar                                 0.94505\n",
      "  alessandra aguilar born 1 july 1978 in lugo is a spanish longdistance runner who specialis\n",
      "  es in marathon running she represented her country in the event\n",
      "\n",
      "* Heather Samuel                                     0.94529\n",
      "  heather barbara samuel born 6 july 1970 is a retired sprinter from antigua and barbuda who\n",
      "   specialized in the 100 and 200 metres in 1990\n",
      "\n",
      "* Viola Kibiwot                                      0.94617\n",
      "  viola jelagat kibiwot born december 22 1983 in keiyo district is a runner from kenya who s\n",
      "  pecialises in the 1500 metres kibiwot won her first\n",
      "\n",
      "* Ayelech Worku                                      0.94636\n",
      "  ayelech worku born june 12 1979 is an ethiopian longdistance runner most known for winning\n",
      "   two world championships bronze medals on the 5000 metres she\n",
      "\n",
      "* Morhad Amdouni                                     0.94763\n",
      "  morhad amdouni born 21 january 1988 in portovecchio is a french middle and longdistance ru\n",
      "  nner he was european junior champion in track and cross country\n",
      "\n",
      "* Krisztina Papp                                     0.94776\n",
      "  krisztina papp born 17 december 1982 in eger is a hungarian long distance runner she is th\n",
      "  e national indoor record holder over 5000 mpapp began\n",
      "\n",
      "* Petra Lammert                                      0.94869\n",
      "  petra lammert born 3 march 1984 in freudenstadt badenwrttemberg is a former german shot pu\n",
      "  tter and current bobsledder she was the 2009 european indoor champion\n",
      "\n",
      "* Hasan Mahboob                                      0.94880\n",
      "  hasan mahboob ali born silas kirui on 31 december 1981 in kapsabet is a bahraini longdista\n",
      "  nce runner he became naturalized in bahrain and switched from\n",
      "==========================================================\n",
      "Cluster 3    \n",
      "qc:0.110\n",
      "19771992according:0.103\n",
      "aulas:0.052\n",
      "guitarscordray:0.047\n",
      "sibinki:0.045\n",
      "\n",
      "\n",
      "* Steve Springer                                     0.89300\n",
      "  steven michael springer born february 11 1961 is an american former professional baseball \n",
      "  player who appeared in major league baseball as a third baseman and\n",
      "\n",
      "* Dave Ford                                          0.89547\n",
      "  david alan ford born december 29 1956 is a former major league baseball pitcher for the ba\n",
      "  ltimore orioles born in cleveland ohio ford attended lincolnwest\n",
      "\n",
      "* Todd Williams                                      0.89820\n",
      "  todd michael williams born february 13 1971 in syracuse new york is a former major league \n",
      "  baseball relief pitcher he attended east syracuseminoa high school\n",
      "\n",
      "* Justin Knoedler                                    0.90035\n",
      "  justin joseph knoedler born july 17 1980 in springfield illinois is a former major league \n",
      "  baseball catcherknoedler was originally drafted by the st louis cardinals\n",
      "\n",
      "* Kevin Nicholson (baseball)                         0.90643\n",
      "  kevin ronald nicholson born march 29 1976 is a canadian baseball shortstop he played part \n",
      "  of the 2000 season for the san diego padres of\n",
      "\n",
      "* James Baldwin (baseball)                           0.90648\n",
      "  james j baldwin jr born july 15 1971 is a former major league baseball pitcher he batted a\n",
      "  nd threw righthanded in his 11season career he\n",
      "\n",
      "* Joe Strong                                         0.90655\n",
      "  joseph benjamin strong born september 9 1962 in fairfield california is a former major lea\n",
      "  gue baseball pitcher who played for the florida marlins from 2000\n",
      "\n",
      "* Javier L%C3%B3pez (baseball)                       0.90691\n",
      "  javier alfonso lpez born july 11 1977 is a puerto rican professional baseball pitcher for \n",
      "  the san francisco giants of major league baseball he is\n",
      "==========================================================\n",
      "Cluster 4    \n",
      "preposition:0.038\n",
      "efovi:0.035\n",
      "2210:0.032\n",
      "hundreaarsvisningen:0.023\n",
      "jrwho:0.019\n",
      "\n",
      "\n",
      "* Lawrence W. Green                                  0.95957\n",
      "  lawrence w green is best known by health education researchers as the originator of the pr\n",
      "  ecede model and codeveloper of the precedeproceed model which has\n",
      "\n",
      "* Timothy Luke                                       0.96057\n",
      "  timothy w luke is university distinguished professor of political science in the college o\n",
      "  f liberal arts and human sciences as well as program chair of\n",
      "\n",
      "* Ren%C3%A9e Fox                                     0.96100\n",
      "  rene c fox a summa cum laude graduate of smith college in 1949 earned her phd in sociology\n",
      "   in 1954 from radcliffe college harvard university\n",
      "\n",
      "* Francis Gavin                                      0.96323\n",
      "  francis j gavin is first frank stanton chair in nuclear security policy studies and profes\n",
      "  sor of political science at mit before joining mit he was\n",
      "\n",
      "* Catherine Hakim                                    0.96374\n",
      "  catherine hakim born 30 may 1948 is a british sociologist who specialises in womens employ\n",
      "  ment and womens issues she is currently a professorial research fellow\n",
      "\n",
      "* Stephen Park Turner                                0.96405\n",
      "  stephen turner is a researcher in social practice social and political theory and the phil\n",
      "  osophy of the social sciences he is graduate research professor in\n",
      "\n",
      "* Robert Bates (political scientist)                 0.96489\n",
      "  robert hinrichs bates born 1942 is an american political scientist he is eaton professor o\n",
      "  f the science of government in the departments of government and\n",
      "\n",
      "* Georg von Krogh                                    0.96505\n",
      "  georg von krogh was born in oslo norway he is a professor at eth zurich and holds the chai\n",
      "  r of strategic management and innovation he\n",
      "==========================================================\n",
      "Cluster 5    \n",
      "anchoragearea:0.076\n",
      "ssls:0.060\n",
      "eros1988:0.056\n",
      "sibinki:0.044\n",
      "ngandu:0.037\n",
      "\n"
     ]
    },
    {
     "name": "stdout",
     "output_type": "stream",
     "text": [
      "\n",
      "* Todd Curley                                        0.92731\n",
      "  todd curley born 14 january 1973 is a former australian rules footballer who played for co\n",
      "  llingwood and the western bulldogs in the australian football league\n",
      "\n",
      "* Ashley Prescott                                    0.92992\n",
      "  ashley prescott born 11 september 1972 is a former australian rules footballer he played w\n",
      "  ith the richmond and fremantle football clubs in the afl between\n",
      "\n",
      "* Pete Richardson                                    0.93204\n",
      "  pete richardson born october 17 1946 in youngstown ohio is a former american football defe\n",
      "  nsive back in the national football league and former college head\n",
      "\n",
      "* Nathan Brown (Australian footballer born 1976)     0.93561\n",
      "  nathan daniel brown born 14 august 1976 is an australian rules footballer who played for t\n",
      "  he melbourne demons in the australian football leaguehe was drafted\n",
      "\n",
      "* Earl Spalding                                      0.93654\n",
      "  earl spalding born 11 march 1965 in south perth is a former australian rules footballer wh\n",
      "  o played for melbourne and carlton in the victorian football\n",
      "\n",
      "* Bud Grant                                          0.93766\n",
      "  harry peter bud grant jr born may 20 1927 is a former american football and canadian footb\n",
      "  all head coach grant served as the head coach\n",
      "\n",
      "* Tyrone Wheatley                                    0.93885\n",
      "  tyrone anthony wheatley born january 19 1972 is the running backs coach of michigan and a \n",
      "  former professional american football player who played 10 seasons\n",
      "\n",
      "* Nick Salter                                        0.93916\n",
      "  nick salter born 30 july 1987 is an australian rules footballer who played for port adelai\n",
      "  de football club in the australian football league aflhe was\n",
      "==========================================================\n",
      "Cluster 6    \n",
      "serieslong:0.138\n",
      "bostonas:0.089\n",
      "interlingual:0.014\n",
      "allmvfc:0.013\n",
      "fons:0.012\n",
      "\n",
      "\n",
      "* Lauren Royal                                       0.93445\n",
      "  lauren royal born march 3 circa 1965 is a book writer from california royal has written bo\n",
      "  th historic and novelistic booksa selfproclaimed angels baseball fan\n",
      "\n",
      "* Barbara Hershey                                    0.93496\n",
      "  barbara hershey born barbara lynn herzstein february 5 1948 once known as barbara seagull \n",
      "  is an american actress in a career spanning nearly 50 years\n",
      "\n",
      "* Janet Jackson                                      0.93559\n",
      "  janet damita jo jackson born may 16 1966 is an american singer songwriter and actress know\n",
      "  n for a series of sonically innovative socially conscious and\n",
      "\n",
      "* Jane Fonda                                         0.93759\n",
      "  jane fonda born lady jayne seymour fonda december 21 1937 is an american actress writer po\n",
      "  litical activist former fashion model and fitness guru she is\n",
      "\n",
      "* Janine Shepherd                                    0.93833\n",
      "  janine lee shepherd am born 1962 is an australian pilot and former crosscountry skier shep\n",
      "  herds career as an athlete ended when she suffered major injuries\n",
      "\n",
      "* Ellina Graypel                                     0.93847\n",
      "  ellina graypel born july 19 1972 is an awardwinning russian singersongwriter she was born \n",
      "  near the volga river in the heart of russia she spent\n",
      "\n",
      "* Alexandra Potter                                   0.93858\n",
      "  alexandra potter born 1970 is a british author of romantic comediesborn in bradford yorksh\n",
      "  ire england and educated at liverpool university gaining an honors degree in\n",
      "\n",
      "* Melissa Hart (actress)                             0.93913\n",
      "  melissa hart is an american actress singer and teacher she made her broadway debut in 1966\n",
      "   as an ensemble member in jerry bocks the apple\n",
      "==========================================================\n",
      "Cluster 7    \n",
      "33story:0.057\n",
      "conder:0.040\n",
      "nanri:0.035\n",
      "burkewhite:0.023\n",
      "1975one:0.022\n",
      "\n",
      "\n",
      "* Brenton Broadstock                                 0.95722\n",
      "  brenton broadstock ao born 1952 is an australian composerbroadstock was born in melbourne \n",
      "  he studied history politics and music at monash university and later composition\n",
      "\n",
      "* Prince (musician)                                  0.96057\n",
      "  prince rogers nelson born june 7 1958 known by his mononym prince is an american singerson\n",
      "  gwriter multiinstrumentalist and actor he has produced ten platinum albums\n",
      "\n",
      "* Will.i.am                                          0.96066\n",
      "  william adams born march 15 1975 known by his stage name william pronounced will i am is a\n",
      "  n american rapper songwriter entrepreneur actor dj record\n",
      "\n",
      "* Tom Bancroft                                       0.96117\n",
      "  tom bancroft born 1967 london is a british jazz drummer and composer he began drumming age\n",
      "  d seven and started off playing jazz with his father\n",
      "\n",
      "* Julian Knowles                                     0.96152\n",
      "  julian knowles is an australian composer and performer specialising in new and emerging te\n",
      "  chnologies his creative work spans the fields of composition for theatre dance\n",
      "\n",
      "* Dan Siegel (musician)                              0.96223\n",
      "  dan siegel born in seattle washington is a pianist composer and record producer his earlie\n",
      "  r music has been described as new age while his more\n",
      "\n",
      "* Tony Mills (musician)                              0.96238\n",
      "  tony mills born 7 july 1962 in solihull england is an english rock singer best known for h\n",
      "  is work with shy and tnthailing from birmingham\n",
      "\n",
      "* Don Robertson (composer)                           0.96249\n",
      "  don robertson born 1942 is an american composerdon robertson was born in 1942 in denver co\n",
      "  lorado and began studying music with conductor and pianist antonia\n",
      "==========================================================\n",
      "Cluster 8    \n",
      "ibnez:0.216\n",
      "jeffnominated:0.134\n",
      "usyd:0.065\n",
      "sibinki:0.053\n",
      "19771992according:0.047\n",
      "\n",
      "\n",
      "* Gord Sherven                                       0.83598\n",
      "  gordon r sherven born august 21 1963 in gravelbourg saskatchewan and raised in mankota sas\n",
      "  katchewan is a retired canadian professional ice hockey forward who played\n",
      "\n",
      "* Eric Brewer                                        0.83765\n",
      "  eric peter brewer born april 17 1979 is a canadian professional ice hockey defenceman for \n",
      "  the anaheim ducks of the national hockey league nhl he\n",
      "\n",
      "* Stephen Johns (ice hockey)                         0.84580\n",
      "  stephen johns born april 18 1992 is an american professional ice hockey defenceman he is c\n",
      "  urrently playing with the rockford icehogs of the american hockey\n",
      "\n",
      "* Mike Stevens (ice hockey, born 1965)               0.85320\n",
      "  mike stevens born december 30 1965 in kitchener ontario is a retired professional ice hock\n",
      "  ey player who played 23 games in the national hockey league\n",
      "\n",
      "* Tanner Glass                                       0.85484\n",
      "  tanner glass born november 29 1983 is a canadian professional ice hockey winger who plays \n",
      "  for the new york rangers of the national hockey league\n",
      "\n",
      "* Todd Strueby                                       0.86053\n",
      "  todd kenneth strueby born june 15 1963 in lanigan saskatchewan and raised in humboldt sask\n",
      "  atchewan is a retired canadian professional ice hockey centre who played\n",
      "\n",
      "* Steven King (ice hockey)                           0.86129\n",
      "  steven andrew king born july 22 1969 in east greenwich rhode island is a former ice hockey\n",
      "   forward who played professionally from 1991 to 2000\n",
      "\n",
      "* Don Jackson (ice hockey)                           0.86661\n",
      "  donald clinton jackson born september 2 1956 in minneapolis minnesota and bloomington minn\n",
      "  esota is an ice hockey coach and a retired professional ice hockey player\n",
      "==========================================================\n",
      "Cluster 9    \n",
      "zahida:0.028\n",
      "pricepottenger:0.025\n",
      "lopilato:0.025\n",
      "reapersince:0.021\n",
      "blitzattack:0.019\n",
      "\n",
      "\n",
      "* Doug Lewis                                         0.96516\n",
      "  douglas grinslade doug lewis pc qc born april 17 1938 is a former canadian politician a ch\n",
      "  artered accountant and lawyer by training lewis entered the\n",
      "\n",
      "* David Anderson (British Columbia politician)       0.96530\n",
      "  david a anderson pc oc born august 16 1937 in victoria british columbia is a former canadi\n",
      "  an cabinet minister educated at victoria college in victoria\n",
      "\n",
      "* Lucienne Robillard                                 0.96679\n",
      "  lucienne robillard pc born june 16 1945 is a canadian politician and a member of the liber\n",
      "  al party of canada she sat in the house\n",
      "\n",
      "* Bob Menendez                                       0.96686\n",
      "  robert bob menendez born january 1 1954 is the senior united states senator from new jerse\n",
      "  y he is a member of the democratic party first\n",
      "\n",
      "* Mal Sandon                                         0.96706\n",
      "  malcolm john mal sandon born 16 september 1945 is an australian politician he was an austr\n",
      "  alian labor party member of the victorian legislative council from\n",
      "\n",
      "* Roger Price (Australian politician)                0.96717\n",
      "  leo roger spurway price born 26 november 1945 is a former australian politician he was ele\n",
      "  cted as a member of the australian house of representatives\n",
      "\n",
      "* Maureen Lyster                                     0.96734\n",
      "  maureen anne lyster born 10 september 1943 is an australian politician she was an australi\n",
      "  an labor party member of the victorian legislative assembly from 1985\n",
      "\n",
      "* Don Bell                                           0.96739\n",
      "  donald h bell born march 10 1942 in new westminster british columbia is a canadian politic\n",
      "  ian he is currently serving as a councillor for the\n",
      "==========================================================\n"
     ]
    }
   ],
   "source": [
    "k = 10\n",
    "visualize_document_clusters(wiki, tf_idf, centroids[k](), cluster_assignment[k](), k, map_index_to_word)"
   ]
  },
  {
   "cell_type": "code",
   "execution_count": 58,
   "metadata": {
    "ExecuteTime": {
     "end_time": "2019-04-15T15:15:06.491618Z",
     "start_time": "2019-04-15T15:15:06.483569Z"
    }
   },
   "outputs": [
    {
     "data": {
      "text/plain": [
       "array([17602,  3415,  3535,  1736,  6445,  2552,  7106,  7155,   599,\n",
       "        8926], dtype=int64)"
      ]
     },
     "execution_count": 58,
     "metadata": {},
     "output_type": "execute_result"
    }
   ],
   "source": [
    "np.bincount(cluster_assignment[10]())"
   ]
  },
  {
   "cell_type": "code",
   "execution_count": 59,
   "metadata": {
    "ExecuteTime": {
     "end_time": "2019-04-15T15:16:03.139324Z",
     "start_time": "2019-04-15T15:16:02.300092Z"
    }
   },
   "outputs": [
    {
     "name": "stdout",
     "output_type": "stream",
     "text": [
      "==========================================================\n",
      "Cluster 0    \n",
      "blitzattack:0.077\n",
      "addie:0.048\n",
      "recordingstheir:0.046\n",
      "buntingfrom:0.038\n",
      "hettingers:0.038\n",
      "\n",
      "==========================================================\n",
      "Cluster 1    \n",
      "preposition:0.054\n",
      "2210:0.033\n",
      "hundreaarsvisningen:0.032\n",
      "efovi:0.031\n",
      "allenshortly:0.029\n",
      "\n",
      "==========================================================\n",
      "Cluster 2    \n",
      "ibnez:0.216\n",
      "jeffnominated:0.134\n",
      "usyd:0.065\n",
      "sibinki:0.052\n",
      "19771992according:0.047\n",
      "\n",
      "==========================================================\n",
      "Cluster 3    \n",
      "zahida:0.065\n",
      "pricepottenger:0.042\n",
      "newsweekkhan:0.031\n",
      "trag:0.027\n",
      "slowburn:0.023\n",
      "\n",
      "==========================================================\n",
      "Cluster 4    \n",
      "incertidumbre:0.025\n",
      "2012frostad:0.023\n",
      "hareher:0.022\n",
      "dumbblonde:0.022\n",
      "disbandedkirwan:0.020\n",
      "\n",
      "==========================================================\n",
      "Cluster 5    \n",
      "lopilato:0.160\n",
      "madeamhali:0.056\n",
      "1200in:0.044\n",
      "zahida:0.043\n",
      "pricepottenger:0.042\n",
      "\n",
      "==========================================================\n",
      "Cluster 6    \n",
      "efovi:0.044\n",
      "2210:0.037\n",
      "rezas:0.035\n",
      "wone:0.034\n",
      "chandanapally:0.031\n",
      "\n",
      "==========================================================\n",
      "Cluster 7    \n",
      "pricepottenger:0.066\n",
      "cranberries:0.058\n",
      "movessince:0.051\n",
      "zahida:0.045\n",
      "popclub:0.043\n",
      "\n",
      "==========================================================\n",
      "Cluster 8    \n",
      "madeley:0.095\n",
      "dilber:0.056\n",
      "qafl:0.054\n",
      "tray:0.052\n",
      "arvo:0.051\n",
      "\n",
      "==========================================================\n",
      "Cluster 9    \n",
      "hilger:0.146\n",
      "repertoryborn:0.096\n",
      "1982read:0.053\n",
      "postmodernismlike:0.048\n",
      "preposition:0.043\n",
      "\n",
      "==========================================================\n",
      "Cluster 10    \n",
      "agency:0.075\n",
      "substantialhe:0.050\n",
      "cowardhis:0.048\n",
      "deanshobbs:0.048\n",
      "serieslong:0.048\n",
      "\n",
      "==========================================================\n",
      "Cluster 11    \n",
      "serieslong:0.144\n",
      "bostonas:0.092\n",
      "fons:0.016\n",
      "interlingual:0.015\n",
      "2001pasithee:0.012\n",
      "\n",
      "==========================================================\n",
      "Cluster 12    \n",
      "gan:0.011\n",
      "turhapuro:0.009\n",
      "bruschi:0.009\n",
      "jonsey:0.009\n",
      "ipfw:0.009\n",
      "\n",
      "==========================================================\n",
      "Cluster 13    \n",
      "qc:0.109\n",
      "19771992according:0.104\n",
      "aulas:0.052\n",
      "guitarscordray:0.047\n",
      "sibinki:0.045\n",
      "\n",
      "==========================================================\n",
      "Cluster 14    \n",
      "scientistagreed:0.144\n",
      "editionsbrooklyn:0.076\n",
      "traitors:0.056\n",
      "ridgeway:0.033\n",
      "libretti:0.031\n",
      "\n",
      "==========================================================\n",
      "Cluster 15    \n",
      "anchoragearea:0.125\n",
      "hyperfine:0.060\n",
      "arrestkurdnasab:0.051\n",
      "sibinki:0.049\n",
      "ngandu:0.045\n",
      "\n",
      "==========================================================\n",
      "Cluster 16    \n",
      "33story:0.097\n",
      "conceptevenement:0.061\n",
      "adipoq:0.033\n",
      "pearsall:0.029\n",
      "burkewhite:0.028\n",
      "\n",
      "==========================================================\n",
      "Cluster 17    \n",
      "19771992according:0.052\n",
      "famekarl:0.044\n",
      "5153:0.043\n",
      "legislaturewhen:0.042\n",
      "sibinki:0.042\n",
      "\n",
      "==========================================================\n",
      "Cluster 18    \n",
      "nikoden:0.055\n",
      "crass:0.045\n",
      "psihomodo:0.042\n",
      "posteaster:0.039\n",
      "19871990principal:0.035\n",
      "\n",
      "==========================================================\n",
      "Cluster 19    \n",
      "allmvfc:0.095\n",
      "denn:0.038\n",
      "addin:0.035\n",
      "adhunik:0.029\n",
      "2001pasithee:0.028\n",
      "\n",
      "==========================================================\n",
      "Cluster 20    \n",
      "conder:0.064\n",
      "nanri:0.049\n",
      "33story:0.037\n",
      "1975one:0.033\n",
      "daejin:0.025\n",
      "\n",
      "==========================================================\n",
      "Cluster 21    \n",
      "keimyung:0.075\n",
      "rolon:0.066\n",
      "1988director:0.048\n",
      "lectrices:0.047\n",
      "15round:0.045\n",
      "\n",
      "==========================================================\n",
      "Cluster 22    \n",
      "burkewhite:0.146\n",
      "panis:0.116\n",
      "pramukh:0.106\n",
      "ftlavallee:0.077\n",
      "33story:0.064\n",
      "\n",
      "==========================================================\n",
      "Cluster 23    \n",
      "eros1988:0.120\n",
      "ssls:0.105\n",
      "frazzi:0.065\n",
      "finglas:0.042\n",
      "sibinki:0.040\n",
      "\n",
      "==========================================================\n",
      "Cluster 24    \n",
      "ebe:0.256\n",
      "tigerish:0.213\n",
      "abraha:0.142\n",
      "playedshe:0.073\n",
      "coverriley:0.062\n",
      "\n",
      "==========================================================\n"
     ]
    }
   ],
   "source": [
    "visualize_document_clusters(wiki, tf_idf, centroids[25](), cluster_assignment[25](), 25,\n",
    "                            map_index_to_word, display_content=False) # turn off text for brevity"
   ]
  },
  {
   "cell_type": "code",
   "execution_count": 60,
   "metadata": {
    "ExecuteTime": {
     "end_time": "2019-04-15T15:16:18.426448Z",
     "start_time": "2019-04-15T15:16:15.063505Z"
    }
   },
   "outputs": [
    {
     "name": "stdout",
     "output_type": "stream",
     "text": [
      "==========================================================\n",
      "Cluster 0    \n",
      "isolates:0.137\n",
      "zincavage:0.082\n",
      "asiabased:0.056\n",
      "pantherslabowitch:0.053\n",
      "machairitsas:0.050\n",
      "\n",
      "==========================================================\n",
      "Cluster 1    \n",
      "keimyung:0.170\n",
      "razed:0.085\n",
      "pozsgay:0.083\n",
      "lectrices:0.072\n",
      "1065ray:0.058\n",
      "\n",
      "==========================================================\n",
      "Cluster 2    \n",
      "proa:0.247\n",
      "examinationspaulker:0.069\n",
      "10093:0.056\n",
      "terribles:0.031\n",
      "berr:0.029\n",
      "\n",
      "==========================================================\n",
      "Cluster 3    \n",
      "queer:0.181\n",
      "yearhansen:0.121\n",
      "rostersleeth:0.042\n",
      "awardspreviously:0.036\n",
      "psihomodo:0.034\n",
      "\n",
      "==========================================================\n",
      "Cluster 4    \n",
      "huld:0.309\n",
      "1999derek:0.220\n",
      "stagelavin:0.066\n",
      "kartvelology:0.041\n",
      "affiliatechoi:0.031\n",
      "\n",
      "==========================================================\n",
      "Cluster 5    \n",
      "franquin:0.192\n",
      "turhapuro:0.127\n",
      "wayak:0.054\n",
      "bruschi:0.046\n",
      "ebu:0.042\n",
      "\n",
      "==========================================================\n",
      "Cluster 6    \n",
      "hettingers:0.059\n",
      "addie:0.053\n",
      "eba:0.051\n",
      "lohiau:0.049\n",
      "damepazan:0.044\n",
      "\n",
      "==========================================================\n",
      "Cluster 7    \n",
      "verwaltung:0.105\n",
      "childrenseveral:0.099\n",
      "movessince:0.071\n",
      "pricepottenger:0.067\n",
      "barns:0.061\n",
      "\n",
      "==========================================================\n",
      "Cluster 8    \n",
      "hilger:0.065\n",
      "efovi:0.048\n",
      "preposition:0.045\n",
      "2210:0.043\n",
      "repertoryborn:0.043\n",
      "\n",
      "==========================================================\n",
      "Cluster 9    \n",
      "raben:0.086\n",
      "greno:0.076\n",
      "prospectsaustin:0.061\n",
      "qasr:0.053\n",
      "foreignnational:0.040\n",
      "\n",
      "==========================================================\n",
      "Cluster 10    \n",
      "serieslong:0.188\n",
      "bostonas:0.052\n",
      "studentsresearchthroughout:0.026\n",
      "panim:0.020\n",
      "adoption:0.019\n",
      "\n",
      "==========================================================\n",
      "Cluster 11    \n",
      "calgaryfrom:0.246\n",
      "eventhe:0.097\n",
      "dausgaard:0.081\n",
      "substantialhe:0.073\n",
      "agency:0.068\n",
      "\n",
      "==========================================================\n",
      "Cluster 12    \n",
      "fmseaway:0.086\n",
      "jamali:0.085\n",
      "appropriated:0.057\n",
      "magut:0.038\n",
      "scientistagreed:0.025\n",
      "\n",
      "==========================================================\n",
      "Cluster 13    \n",
      "buntingfrom:0.098\n",
      "leivisk:0.051\n",
      "addie:0.044\n",
      "pricepottenger:0.043\n",
      "hettingers:0.043\n",
      "\n",
      "==========================================================\n",
      "Cluster 14    \n",
      "burkewhite:0.227\n",
      "pramukh:0.177\n",
      "mohs:0.084\n",
      "33story:0.080\n",
      "ftlavallee:0.057\n",
      "\n",
      "==========================================================\n",
      "Cluster 15    \n",
      "rolon:0.375\n",
      "1988director:0.242\n",
      "15round:0.106\n",
      "danilovas:0.094\n",
      "classifieds:0.080\n",
      "\n",
      "==========================================================\n",
      "Cluster 16    \n",
      "qc:0.098\n",
      "19771992according:0.097\n",
      "quakes:0.083\n",
      "200720083:0.083\n",
      "postfollowing:0.075\n",
      "\n",
      "==========================================================\n",
      "Cluster 17    \n",
      "lectrices:0.114\n",
      "catamarcaeduardo:0.072\n",
      "guji:0.066\n",
      "conservatorycurran:0.047\n",
      "styron:0.037\n",
      "\n",
      "==========================================================\n",
      "Cluster 18    \n",
      "daejin:0.071\n",
      "thequarter:0.043\n",
      "33story:0.041\n",
      "conder:0.030\n",
      "foundationweiner:0.025\n",
      "\n",
      "==========================================================\n",
      "Cluster 19    \n",
      "eros1988:0.165\n",
      "frazzi:0.113\n",
      "creditcredit:0.067\n",
      "sibinki:0.044\n",
      "hsxs:0.044\n",
      "\n",
      "==========================================================\n",
      "Cluster 20    \n",
      "scientistagreed:0.209\n",
      "editionsbrooklyn:0.186\n",
      "traitors:0.082\n",
      "libretti:0.046\n",
      "tarkunde:0.044\n",
      "\n",
      "==========================================================\n",
      "Cluster 21    \n",
      "nikoden:0.213\n",
      "bradanini:0.083\n",
      "businesscaan:0.069\n",
      "macnamee:0.044\n",
      "rajshahi:0.040\n",
      "\n",
      "==========================================================\n",
      "Cluster 22    \n",
      "secondgrade:0.215\n",
      "lemanna:0.045\n",
      "33story:0.045\n",
      "ugandaat:0.037\n",
      "saazish:0.028\n",
      "\n",
      "==========================================================\n",
      "Cluster 23    \n",
      "crass:0.127\n",
      "posteaster:0.045\n",
      "schwab:0.044\n",
      "psihomodo:0.039\n",
      "19871990principal:0.030\n",
      "\n",
      "==========================================================\n",
      "Cluster 24    \n",
      "conceptevenement:0.205\n",
      "33story:0.048\n",
      "nanri:0.034\n",
      "forbesfrom:0.025\n",
      "sslc:0.023\n",
      "\n",
      "==========================================================\n",
      "Cluster 25    \n",
      "drigh:0.211\n",
      "charlottethe:0.097\n",
      "1375:0.091\n",
      "phdfrom:0.039\n",
      "serieslong:0.023\n",
      "\n",
      "==========================================================\n",
      "Cluster 26    \n",
      "sotelo:0.259\n",
      "belgorod:0.178\n",
      "gerenin:0.058\n",
      "pasaporte:0.033\n",
      "tollin:0.027\n",
      "\n",
      "==========================================================\n",
      "Cluster 27    \n",
      "ebe:0.261\n",
      "tigerish:0.220\n",
      "abraha:0.140\n",
      "playedshe:0.073\n",
      "coverriley:0.063\n",
      "\n",
      "==========================================================\n",
      "Cluster 28    \n",
      "hyperfine:0.177\n",
      "anchoragearea:0.128\n",
      "childrenseveral:0.092\n",
      "cagnessurmer:0.064\n",
      "sibinki:0.062\n",
      "\n",
      "==========================================================\n",
      "Cluster 29    \n",
      "tormentorsafter:0.263\n",
      "mccord:0.107\n",
      "laurentides:0.095\n",
      "serieslong:0.066\n",
      "usyd:0.060\n",
      "\n",
      "==========================================================\n",
      "Cluster 30    \n",
      "zahida:0.073\n",
      "pricepottenger:0.035\n",
      "newsweekkhan:0.029\n",
      "upins:0.022\n",
      "trag:0.021\n",
      "\n",
      "==========================================================\n",
      "Cluster 31    \n",
      "famekarl:0.198\n",
      "legislaturewhen:0.049\n",
      "matrixs:0.046\n",
      "ngandu:0.045\n",
      "acrrm:0.040\n",
      "\n",
      "==========================================================\n",
      "Cluster 32    \n",
      "psihomodo:0.039\n",
      "wons:0.029\n",
      "posteaster:0.026\n",
      "shepps:0.021\n",
      "chearavanont:0.017\n",
      "\n",
      "==========================================================\n",
      "Cluster 33    \n",
      "adipoq:0.150\n",
      "33story:0.071\n",
      "burkewhite:0.056\n",
      "dccatanoso:0.053\n",
      "forbesfrom:0.051\n",
      "\n",
      "==========================================================\n",
      "Cluster 34    \n",
      "lachinelacsaintlouis:0.299\n",
      "ashok:0.163\n",
      "iow:0.092\n",
      "qafl:0.079\n",
      "ceoexecutive:0.078\n",
      "\n",
      "==========================================================\n",
      "Cluster 35    \n",
      "panis:0.269\n",
      "serieslong:0.067\n",
      "mendras:0.041\n",
      "morimondo:0.040\n",
      "bolochoweckyjs:0.036\n",
      "\n",
      "==========================================================\n",
      "Cluster 36    \n",
      "turhapuro:0.080\n",
      "bruschi:0.069\n",
      "usariem:0.038\n",
      "agencyby:0.030\n",
      "2001pasithee:0.028\n",
      "\n",
      "==========================================================\n",
      "Cluster 37    \n",
      "33story:0.131\n",
      "kirton:0.038\n",
      "pearsall:0.037\n",
      "burkewhite:0.026\n",
      "festivalsns:0.023\n",
      "\n",
      "==========================================================\n",
      "Cluster 38    \n",
      "7thcentury:0.099\n",
      "nanri:0.092\n",
      "conder:0.040\n",
      "multilevel:0.039\n",
      "praestholm:0.034\n",
      "\n",
      "==========================================================\n",
      "Cluster 39    \n",
      "balzar:0.306\n",
      "golburn:0.034\n",
      "bostonas:0.021\n",
      "serieslong:0.020\n",
      "agencyby:0.012\n",
      "\n",
      "==========================================================\n",
      "Cluster 40    \n",
      "compositionsher:0.086\n",
      "krsone:0.072\n",
      "preposition:0.045\n",
      "hundreaarsvisningen:0.044\n",
      "risinger:0.042\n",
      "\n",
      "==========================================================\n",
      "Cluster 41    \n",
      "lopilato:0.164\n",
      "madeamhali:0.068\n",
      "1200in:0.043\n",
      "zahida:0.039\n",
      "refusals:0.038\n",
      "\n",
      "==========================================================\n",
      "Cluster 42    \n",
      "preposition:0.062\n",
      "2210:0.035\n",
      "efovi:0.034\n",
      "hundreaarsvisningen:0.031\n",
      "tenderest:0.030\n",
      "\n",
      "==========================================================\n",
      "Cluster 43    \n",
      "ebu:0.127\n",
      "bks:0.062\n",
      "norvig:0.059\n",
      "serieslong:0.045\n",
      "blukuele:0.045\n",
      "\n",
      "==========================================================\n",
      "Cluster 44    \n",
      "19771992according:0.088\n",
      "superpremium:0.060\n",
      "sibinki:0.060\n",
      "5153:0.059\n",
      "anchoragearea:0.055\n",
      "\n",
      "==========================================================\n",
      "Cluster 45    \n",
      "anchoragearea:0.046\n",
      "legislaturewhen:0.044\n",
      "5153:0.042\n",
      "gonino:0.041\n",
      "19771992according:0.033\n",
      "\n",
      "==========================================================\n",
      "Cluster 46    \n",
      "anchoragearea:0.108\n",
      "boardthough:0.099\n",
      "childrenseveral:0.068\n",
      "armugum:0.067\n",
      "1991judge:0.064\n",
      "\n",
      "==========================================================\n",
      "Cluster 47    \n",
      "mtvbase:0.166\n",
      "abarenb:0.119\n",
      "cochampions:0.058\n",
      "cderoy:0.038\n",
      "erbo:0.037\n",
      "\n",
      "==========================================================\n",
      "Cluster 48    \n",
      "chandanapally:0.227\n",
      "acharnians:0.045\n",
      "efovi:0.044\n",
      "2210:0.041\n",
      "bermejoi:0.041\n",
      "\n",
      "==========================================================\n",
      "Cluster 49    \n",
      "allenshortly:0.121\n",
      "saqueboutiers:0.072\n",
      "pitchedin:0.060\n",
      "sandiegocomborn:0.053\n",
      "2210:0.043\n",
      "\n",
      "==========================================================\n",
      "Cluster 50    \n",
      "themamong:0.070\n",
      "chaplin:0.060\n",
      "geal:0.054\n",
      "hareher:0.035\n",
      "nebrada:0.034\n",
      "\n",
      "==========================================================\n",
      "Cluster 51    \n",
      "spotthrough:0.143\n",
      "mcgowans:0.136\n",
      "casting:0.095\n",
      "moscowmontpellier:0.086\n",
      "sdm:0.064\n",
      "\n",
      "==========================================================\n",
      "Cluster 52    \n",
      "19871990principal:0.138\n",
      "gaijin:0.069\n",
      "bakiyevsydykova:0.054\n",
      "beginningsa:0.048\n",
      "kobudo:0.043\n",
      "\n",
      "==========================================================\n",
      "Cluster 53    \n",
      "arvo:0.477\n",
      "ripp:0.121\n",
      "karategreeley:0.091\n",
      "mwandido:0.078\n",
      "pintail:0.072\n",
      "\n",
      "==========================================================\n",
      "Cluster 54    \n",
      "toromal:0.122\n",
      "agreementa:0.068\n",
      "2008voltaggio:0.053\n",
      "weitemeyer:0.049\n",
      "651964:0.028\n",
      "\n",
      "==========================================================\n",
      "Cluster 55    \n"
     ]
    },
    {
     "name": "stdout",
     "output_type": "stream",
     "text": [
      "kabalikat:0.282\n",
      "nonviolence:0.183\n",
      "saprang:0.094\n",
      "campielloin:0.046\n",
      "lizarazoalfonso:0.027\n",
      "\n",
      "==========================================================\n",
      "Cluster 56    \n",
      "ftlavallee:0.207\n",
      "burkewhite:0.136\n",
      "ungol:0.087\n",
      "33story:0.080\n",
      "pramukh:0.073\n",
      "\n",
      "==========================================================\n",
      "Cluster 57    \n",
      "sderbergborn:0.035\n",
      "councilwhite:0.027\n",
      "placesspinning:0.026\n",
      "recordingstheir:0.025\n",
      "editorialhe:0.023\n",
      "\n",
      "==========================================================\n",
      "Cluster 58    \n",
      "brasher:0.234\n",
      "nanri:0.047\n",
      "33story:0.039\n",
      "conder:0.037\n",
      "secondgrade:0.035\n",
      "\n",
      "==========================================================\n",
      "Cluster 59    \n",
      "theologians:0.093\n",
      "mclelland:0.052\n",
      "seljuks:0.051\n",
      "33story:0.048\n",
      "conder:0.037\n",
      "\n",
      "==========================================================\n",
      "Cluster 60    \n",
      "asiabased:0.127\n",
      "mendras:0.059\n",
      "propon:0.035\n",
      "tahourdin:0.026\n",
      "late2011:0.025\n",
      "\n",
      "==========================================================\n",
      "Cluster 61    \n",
      "buytendijk:0.193\n",
      "antzen:0.132\n",
      "seiryo:0.052\n",
      "2010shaw:0.038\n",
      "etcslapdee:0.032\n",
      "\n",
      "==========================================================\n",
      "Cluster 62    \n",
      "kenn:0.362\n",
      "scriptons:0.109\n",
      "championthree:0.084\n",
      "serieslong:0.057\n",
      "straka:0.044\n",
      "\n",
      "==========================================================\n",
      "Cluster 63    \n",
      "ibnez:0.220\n",
      "jeffnominated:0.138\n",
      "usyd:0.067\n",
      "sibinki:0.053\n",
      "19771992according:0.048\n",
      "\n",
      "==========================================================\n",
      "Cluster 64    \n",
      "blitzattack:0.148\n",
      "recordingstheir:0.093\n",
      "datebook:0.071\n",
      "addie:0.051\n",
      "actressrealizing:0.043\n",
      "\n",
      "==========================================================\n",
      "Cluster 65    \n",
      "ssls:0.205\n",
      "finglas:0.086\n",
      "eros1988:0.059\n",
      "keyboardsynthesiser:0.052\n",
      "anchoragearea:0.046\n",
      "\n",
      "==========================================================\n",
      "Cluster 66    \n",
      "perekop:0.278\n",
      "useem:0.168\n",
      "highestselling:0.100\n",
      "1997best:0.055\n",
      "kinross:0.031\n",
      "\n",
      "==========================================================\n",
      "Cluster 67    \n",
      "conder:0.088\n",
      "1975one:0.044\n",
      "33story:0.040\n",
      "gamesjohnson:0.033\n",
      "ironmanlength:0.027\n",
      "\n",
      "==========================================================\n",
      "Cluster 68    \n",
      "serieslong:0.158\n",
      "bostonas:0.152\n",
      "33story:0.020\n",
      "conder:0.016\n",
      "foundationweiner:0.013\n",
      "\n",
      "==========================================================\n",
      "Cluster 69    \n",
      "denn:0.194\n",
      "adhunik:0.034\n",
      "jspvit:0.031\n",
      "brance:0.029\n",
      "meadowhall:0.027\n",
      "\n",
      "==========================================================\n",
      "Cluster 70    \n",
      "deni:0.099\n",
      "sharewarejunkiescom:0.089\n",
      "uttam:0.086\n",
      "preposition:0.039\n",
      "patras:0.039\n",
      "\n",
      "==========================================================\n",
      "Cluster 71    \n",
      "sammelans:0.145\n",
      "trag:0.115\n",
      "zahida:0.053\n",
      "slowburn:0.049\n",
      "lohiau:0.048\n",
      "\n",
      "==========================================================\n",
      "Cluster 72    \n",
      "cowardhis:0.459\n",
      "evidencein:0.087\n",
      "serieslong:0.082\n",
      "senghors:0.063\n",
      "agency:0.062\n",
      "\n",
      "==========================================================\n",
      "Cluster 73    \n",
      "serieslong:0.147\n",
      "bostonas:0.105\n",
      "interlingual:0.098\n",
      "allmvfc:0.063\n",
      "namadi:0.054\n",
      "\n",
      "==========================================================\n",
      "Cluster 74    \n",
      "serieslong:0.101\n",
      "bostonas:0.065\n",
      "studentsresearchthroughout:0.012\n",
      "bruschi:0.010\n",
      "2001pasithee:0.009\n",
      "\n",
      "==========================================================\n",
      "Cluster 75    \n",
      "2009genuinely:0.196\n",
      "lectrices:0.177\n",
      "probodybuilding:0.099\n",
      "ostende:0.074\n",
      "hospitaljane:0.073\n",
      "\n",
      "==========================================================\n",
      "Cluster 76    \n",
      "leaguesanctioned:0.242\n",
      "litagaylord:0.064\n",
      "kampi:0.061\n",
      "lopilato:0.059\n",
      "outfielderdavanon:0.051\n",
      "\n",
      "==========================================================\n",
      "Cluster 77    \n",
      "allmvfc:0.233\n",
      "2004urem:0.085\n",
      "addin:0.048\n",
      "alakiti:0.048\n",
      "184:0.045\n",
      "\n",
      "==========================================================\n",
      "Cluster 78    \n",
      "neurofibromatosiskorf:0.288\n",
      "universityuceda:0.268\n",
      "foundationslomax:0.068\n",
      "architektur:0.037\n",
      "writesthis:0.035\n",
      "\n",
      "==========================================================\n",
      "Cluster 79    \n",
      "barabati:0.296\n",
      "19771992according:0.072\n",
      "fireas:0.065\n",
      "gonino:0.053\n",
      "sibinki:0.052\n",
      "\n",
      "==========================================================\n",
      "Cluster 80    \n",
      "gan:0.011\n",
      "jonsey:0.009\n",
      "ipfw:0.009\n",
      "addaction:0.008\n",
      "fuine:0.007\n",
      "\n",
      "==========================================================\n",
      "Cluster 81    \n",
      "timesoverland:0.092\n",
      "trac:0.072\n",
      "pricepottenger:0.072\n",
      "19841985after:0.066\n",
      "luthi:0.054\n",
      "\n",
      "==========================================================\n",
      "Cluster 82    \n",
      "modellinghe:0.048\n",
      "13millionsquarefoot:0.047\n",
      "meadowhall:0.043\n",
      "2001pasithee:0.038\n",
      "namadi:0.037\n",
      "\n",
      "==========================================================\n",
      "Cluster 83    \n",
      "madeley:0.128\n",
      "dilber:0.080\n",
      "tray:0.066\n",
      "jonesa:0.061\n",
      "triforc3:0.055\n",
      "\n",
      "==========================================================\n",
      "Cluster 84    \n",
      "pricepottenger:0.096\n",
      "cranberries:0.086\n",
      "movessince:0.071\n",
      "zahida:0.067\n",
      "cleantech:0.060\n",
      "\n",
      "==========================================================\n",
      "Cluster 85    \n",
      "dumbblonde:0.038\n",
      "respuestas:0.031\n",
      "hareher:0.027\n",
      "radiowhen:0.025\n",
      "publishermusic:0.023\n",
      "\n",
      "==========================================================\n",
      "Cluster 86    \n",
      "countybefore:0.414\n",
      "good:0.085\n",
      "caulfieldchristou:0.066\n",
      "qafl:0.064\n",
      "unionsshe:0.059\n",
      "\n",
      "==========================================================\n",
      "Cluster 87    \n",
      "shinners:0.077\n",
      "topixcom:0.068\n",
      "19911995he:0.057\n",
      "alsocodirector:0.048\n",
      "playedshe:0.047\n",
      "\n",
      "==========================================================\n",
      "Cluster 88    \n",
      "2012frostad:0.038\n",
      "reapersince:0.028\n",
      "incertidumbre:0.028\n",
      "efovi:0.026\n",
      "convery:0.022\n",
      "\n",
      "==========================================================\n",
      "Cluster 89    \n",
      "optometry:0.061\n",
      "gehen:0.054\n",
      "schilderijen:0.047\n",
      "buntingfrom:0.037\n",
      "kardinal:0.037\n",
      "\n",
      "==========================================================\n",
      "Cluster 90    \n",
      "anchoragearea:0.120\n",
      "arrestkurdnasab:0.106\n",
      "katan:0.081\n",
      "fantastique:0.052\n",
      "goromonzi:0.041\n",
      "\n",
      "==========================================================\n",
      "Cluster 91    \n",
      "qc:0.117\n",
      "19771992according:0.108\n",
      "empirein:0.061\n",
      "aulas:0.052\n",
      "artus:0.044\n",
      "\n",
      "==========================================================\n",
      "Cluster 92    \n",
      "conder:0.115\n",
      "bostonas:0.073\n",
      "childrenredirect:0.066\n",
      "kidneyas:0.064\n",
      "fraternitycoleman:0.064\n",
      "\n",
      "==========================================================\n",
      "Cluster 93    \n",
      "allmvfc:0.087\n",
      "addin:0.050\n",
      "adhunik:0.029\n",
      "2001pasithee:0.024\n",
      "meadowhall:0.022\n",
      "\n",
      "==========================================================\n",
      "Cluster 94    \n",
      "agency:0.106\n",
      "deanshobbs:0.086\n",
      "serieslong:0.059\n",
      "marston:0.059\n",
      "2008jennings:0.054\n",
      "\n",
      "==========================================================\n",
      "Cluster 95    \n",
      "scientistagreed:0.109\n",
      "traitors:0.040\n",
      "ridgeway:0.036\n",
      "yongsan:0.032\n",
      "awardsloa:0.032\n",
      "\n",
      "==========================================================\n",
      "Cluster 96    \n",
      "nanri:0.120\n",
      "conder:0.040\n",
      "massing:0.035\n",
      "watsonnelson:0.031\n",
      "praestholm:0.030\n",
      "\n",
      "==========================================================\n",
      "Cluster 97    \n",
      "fons:0.361\n",
      "niin:0.209\n",
      "cineyouth:0.127\n",
      "serieslong:0.110\n",
      "imprivata:0.063\n",
      "\n",
      "==========================================================\n",
      "Cluster 98    \n",
      "laoghairerathdown:0.155\n",
      "managerband:0.120\n",
      "marston:0.119\n",
      "bolotin:0.090\n",
      "kiddywinks:0.075\n",
      "\n",
      "==========================================================\n",
      "Cluster 99    \n",
      "panik:0.081\n",
      "danilovas:0.080\n",
      "15round:0.076\n",
      "cobeys:0.076\n",
      "infectionrelated:0.058\n",
      "\n",
      "==========================================================\n"
     ]
    }
   ],
   "source": [
    "k=100\n",
    "visualize_document_clusters(wiki, tf_idf, centroids[k](), cluster_assignment[k](), k,\n",
    "                            map_index_to_word, display_content=False)\n",
    "# turn off text for brevity -- turn it on if you are curious ;)"
   ]
  },
  {
   "cell_type": "code",
   "execution_count": 62,
   "metadata": {
    "ExecuteTime": {
     "end_time": "2019-04-15T15:18:58.921319Z",
     "start_time": "2019-04-15T15:18:58.913289Z"
    }
   },
   "outputs": [
    {
     "name": "stdout",
     "output_type": "stream",
     "text": [
      "29\n"
     ]
    }
   ],
   "source": [
    "test = np.bincount(cluster_assignment[100]())\n",
    "count = 0\n",
    "for i in test:\n",
    "    if i <236:\n",
    "        count+=1\n",
    "print(count)"
   ]
  },
  {
   "cell_type": "code",
   "execution_count": null,
   "metadata": {},
   "outputs": [],
   "source": []
  }
 ],
 "metadata": {
  "kernelspec": {
   "display_name": "Python 3",
   "language": "python",
   "name": "python3"
  },
  "language_info": {
   "codemirror_mode": {
    "name": "ipython",
    "version": 3
   },
   "file_extension": ".py",
   "mimetype": "text/x-python",
   "name": "python",
   "nbconvert_exporter": "python",
   "pygments_lexer": "ipython3",
   "version": "3.6.1"
  }
 },
 "nbformat": 4,
 "nbformat_minor": 2
}
