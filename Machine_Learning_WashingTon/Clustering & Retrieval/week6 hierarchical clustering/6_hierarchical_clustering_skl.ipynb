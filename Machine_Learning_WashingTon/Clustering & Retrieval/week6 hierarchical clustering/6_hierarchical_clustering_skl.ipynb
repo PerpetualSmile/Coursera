{
 "cells": [
  {
   "cell_type": "markdown",
   "metadata": {},
   "source": [
    "# Hierarchical Clustering"
   ]
  },
  {
   "cell_type": "markdown",
   "metadata": {},
   "source": [
    "**Hierarchical clustering** refers to a class of clustering methods that seek to build a **hierarchy** of clusters, in which some clusters contain others. In this assignment, we will explore a top-down approach, recursively bipartitioning the data using k-means."
   ]
  },
  {
   "cell_type": "markdown",
   "metadata": {},
   "source": [
    "**Note to Amazon EC2 users**: To conserve memory, make sure to stop all the other notebooks before running this notebook."
   ]
  },
  {
   "cell_type": "markdown",
   "metadata": {},
   "source": [
    "## Import packages"
   ]
  },
  {
   "cell_type": "markdown",
   "metadata": {},
   "source": [
    "The following code block will check if you have the correct version of GraphLab Create. Any version later than 1.8.5 will do. To upgrade, read [this page](https://turi.com/download/upgrade-graphlab-create.html)."
   ]
  },
  {
   "cell_type": "code",
   "execution_count": 1,
   "metadata": {},
   "outputs": [],
   "source": [
    "import pandas as pd                                     # see below for install instruction\n",
    "import matplotlib.pyplot as plt\n",
    "import numpy as np\n",
    "from scipy.sparse import csr_matrix\n",
    "from sklearn.cluster import KMeans                # we'll be using scikit-learn's KMeans for this assignment\n",
    "from sklearn.metrics import pairwise_distances\n",
    "from sklearn.preprocessing import normalize\n",
    "%matplotlib inline"
   ]
  },
  {
   "cell_type": "markdown",
   "metadata": {},
   "source": [
    "## Load the Wikipedia dataset"
   ]
  },
  {
   "cell_type": "code",
   "execution_count": 2,
   "metadata": {
    "collapsed": true
   },
   "outputs": [],
   "source": [
    "wiki = pd.read_csv('people_wiki.csv')"
   ]
  },
  {
   "cell_type": "markdown",
   "metadata": {},
   "source": [
    "As we did in previous assignments, let's extract the TF-IDF features:"
   ]
  },
  {
   "cell_type": "code",
   "execution_count": 3,
   "metadata": {},
   "outputs": [],
   "source": [
    "def load_sparse_csr(filename):\n",
    "    loader = np.load(filename)\n",
    "    data = loader['data']\n",
    "    indices = loader['indices']\n",
    "    indptr = loader['indptr']\n",
    "    shape = loader['shape']\n",
    "    \n",
    "    return csr_matrix( (data, indices, indptr), shape)\n",
    "\n",
    "tf_idf = load_sparse_csr('people_wiki_tf_idf.npz')\n",
    "map_index_to_word = pd.read_json('people_wiki_map_index_to_word.json',typ='series')"
   ]
  },
  {
   "cell_type": "markdown",
   "metadata": {},
   "source": [
    "To run k-means on this dataset, we should convert the data matrix into a sparse matrix."
   ]
  },
  {
   "cell_type": "markdown",
   "metadata": {},
   "source": [
    "To be consistent with the k-means assignment, let's normalize all vectors to have unit norm."
   ]
  },
  {
   "cell_type": "code",
   "execution_count": 4,
   "metadata": {
    "collapsed": true
   },
   "outputs": [],
   "source": [
    "tf_idf = normalize(tf_idf)"
   ]
  },
  {
   "cell_type": "markdown",
   "metadata": {},
   "source": [
    "## Bipartition the Wikipedia dataset using k-means"
   ]
  },
  {
   "cell_type": "markdown",
   "metadata": {},
   "source": [
    "Recall our workflow for clustering text data with k-means:\n",
    "\n",
    "1. Load the dataframe containing a dataset, such as the Wikipedia text dataset.\n",
    "2. Extract the data matrix from the dataframe.\n",
    "3. Run k-means on the data matrix with some value of k.\n",
    "4. Visualize the clustering results using the centroids, cluster assignments, and the original dataframe. We keep the original dataframe around because the data matrix does not keep auxiliary information (in the case of the text dataset, the title of each article).\n",
    "\n",
    "Let us modify the workflow to perform bipartitioning:\n",
    "\n",
    "1. Load the dataframe containing a dataset, such as the Wikipedia text dataset.\n",
    "2. Extract the data matrix from the dataframe.\n",
    "3. Run k-means on the data matrix with k=2.\n",
    "4. Divide the data matrix into two parts using the cluster assignments.\n",
    "5. Divide the dataframe into two parts, again using the cluster assignments. This step is necessary to allow for visualization.\n",
    "6. Visualize the bipartition of data.\n",
    "\n",
    "We'd like to be able to repeat Steps 3-6 multiple times to produce a **hierarchy** of clusters such as the following:\n",
    "```\n",
    "                      (root)\n",
    "                         |\n",
    "            +------------+-------------+\n",
    "            |                          |\n",
    "         Cluster                    Cluster\n",
    "     +------+-----+             +------+-----+\n",
    "     |            |             |            |\n",
    "   Cluster     Cluster       Cluster      Cluster\n",
    "```\n",
    "Each **parent cluster** is bipartitioned to produce two **child clusters**. At the very top is the **root cluster**, which consists of the entire dataset.\n",
    "\n",
    "Now we write a wrapper function to bipartition a given cluster using k-means. There are three variables that together comprise the cluster:\n",
    "\n",
    "* `dataframe`: a subset of the original dataframe that correspond to member rows of the cluster\n",
    "* `matrix`: same set of rows, stored in sparse matrix format\n",
    "* `centroid`: the centroid of the cluster (not applicable for the root cluster)\n",
    "\n",
    "Rather than passing around the three variables separately, we package them into a Python dictionary. The wrapper function takes a single dictionary (representing a parent cluster) and returns two dictionaries (representing the child clusters)."
   ]
  },
  {
   "cell_type": "code",
   "execution_count": 5,
   "metadata": {},
   "outputs": [],
   "source": [
    "def bipartition(cluster, maxiter=400, num_runs=4, seed=None):\n",
    "    '''cluster: should be a dictionary containing the following keys\n",
    "                * dataframe: original dataframe\n",
    "                * matrix:    same data, in matrix format\n",
    "                * centroid:  centroid for this particular cluster'''\n",
    "    \n",
    "    data_matrix = cluster['matrix']\n",
    "    dataframe   = cluster['dataframe']\n",
    "    \n",
    "    # Run k-means on the data matrix with k=2. We use scikit-learn here to simplify workflow.\n",
    "    kmeans_model = KMeans(n_clusters=2, max_iter=maxiter, n_init=num_runs, random_state=seed, n_jobs=-1,verbose=1)\n",
    "    kmeans_model.fit(data_matrix)\n",
    "    centroids, cluster_assignment = kmeans_model.cluster_centers_, kmeans_model.labels_\n",
    "    \n",
    "    # Divide the data matrix into two parts using the cluster assignments.\n",
    "    data_matrix_left_child, data_matrix_right_child = data_matrix[cluster_assignment==0], \\\n",
    "                                                      data_matrix[cluster_assignment==1]\n",
    "    \n",
    "    # Divide the dataframe into two parts, again using the cluster assignments.\n",
    "    cluster_assignment_sa = np.array(cluster_assignment) # minor format conversion\n",
    "    dataframe_left_child, dataframe_right_child     = dataframe[cluster_assignment_sa==0], \\\n",
    "                                                      dataframe[cluster_assignment_sa==1]\n",
    "        \n",
    "    \n",
    "    # Package relevant variables for the child clusters\n",
    "    cluster_left_child  = {'matrix': data_matrix_left_child,\n",
    "                           'dataframe': dataframe_left_child,\n",
    "                           'centroid': centroids[0]}\n",
    "    cluster_right_child = {'matrix': data_matrix_right_child,\n",
    "                           'dataframe': dataframe_right_child,\n",
    "                           'centroid': centroids[1]}\n",
    "    \n",
    "    return (cluster_left_child, cluster_right_child)"
   ]
  },
  {
   "cell_type": "markdown",
   "metadata": {},
   "source": [
    "The following cell performs bipartitioning of the Wikipedia dataset. Allow 20-60 seconds to finish.\n",
    "\n",
    "Note. For the purpose of the assignment, we set an explicit seed (`seed=1`) to produce identical outputs for every run. In pratical applications, you might want to use different random seeds for all runs."
   ]
  },
  {
   "cell_type": "code",
   "execution_count": 6,
   "metadata": {
    "collapsed": true
   },
   "outputs": [],
   "source": [
    "wiki_data = {'matrix': tf_idf, 'dataframe': wiki} # no 'centroid' for the root cluster\n",
    "left_child, right_child = bipartition(wiki_data, maxiter=100, num_runs=6, seed=1)"
   ]
  },
  {
   "cell_type": "markdown",
   "metadata": {},
   "source": [
    "Let's examine the contents of one of the two clusters, which we call the `left_child`, referring to the tree visualization above."
   ]
  },
  {
   "cell_type": "code",
   "execution_count": 7,
   "metadata": {},
   "outputs": [
    {
     "data": {
      "text/plain": [
       "{'centroid': array([  0.00000000e+00,   8.57526623e-06,   0.00000000e+00, ...,\n",
       "          1.38560691e-04,   6.46049863e-05,   2.26551103e-05]),\n",
       " 'dataframe':                                                      URI  \\\n",
       " 0            <http://dbpedia.org/resource/Digby_Morrell>   \n",
       " 17     <http://dbpedia.org/resource/Paddy_Dunne_(Gael...   \n",
       " 21           <http://dbpedia.org/resource/Ceiron_Thomas>   \n",
       " 22            <http://dbpedia.org/resource/Adel_Sellimi>   \n",
       " 25             <http://dbpedia.org/resource/Vic_Stasiuk>   \n",
       " 28            <http://dbpedia.org/resource/Leon_Hapgood>   \n",
       " 30               <http://dbpedia.org/resource/Dom_Flora>   \n",
       " 33               <http://dbpedia.org/resource/Bob_Reece>   \n",
       " 41     <http://dbpedia.org/resource/Bob_Adams_(Americ...   \n",
       " 48              <http://dbpedia.org/resource/Marc_Logan>   \n",
       " 49          <http://dbpedia.org/resource/Corey_Woolfolk>   \n",
       " 63              <http://dbpedia.org/resource/Alan_Roper>   \n",
       " 75      <http://dbpedia.org/resource/Vladimir_Yurchenko>   \n",
       " 78           <http://dbpedia.org/resource/Doug_McIntosh>   \n",
       " 92            <http://dbpedia.org/resource/Shaka_Hislop>   \n",
       " 95            <http://dbpedia.org/resource/Steve_Castle>   \n",
       " 99              <http://dbpedia.org/resource/Dean_Greig>   \n",
       " 101    <http://dbpedia.org/resource/James_Stewart_(Am...   \n",
       " 102       <http://dbpedia.org/resource/Fredrik_Jacobson>   \n",
       " 105     <http://dbpedia.org/resource/Juan_Pablo_Montoya>   \n",
       " 114            <http://dbpedia.org/resource/Al_Hairston>   \n",
       " 116             <http://dbpedia.org/resource/Ron_Shuman>   \n",
       " 118    <http://dbpedia.org/resource/Bill_Young_(Austr...   \n",
       " 122    <http://dbpedia.org/resource/Se%C3%A1n_%C3%93g...   \n",
       " 123        <http://dbpedia.org/resource/Mike_Trebilcock>   \n",
       " 137          <http://dbpedia.org/resource/Daniel_Falzon>   \n",
       " 145          <http://dbpedia.org/resource/Cameron_Sharp>   \n",
       " 151              <http://dbpedia.org/resource/Gary_Fila>   \n",
       " 152    <http://dbpedia.org/resource/Roger_James_(foot...   \n",
       " 153      <http://dbpedia.org/resource/Aled_de_Malmanche>   \n",
       " ...                                                  ...   \n",
       " 58932  <http://dbpedia.org/resource/Kevin_Clark_(bask...   \n",
       " 58933         <http://dbpedia.org/resource/Justin_Huish>   \n",
       " 58940           <http://dbpedia.org/resource/Lamar_King>   \n",
       " 58941        <http://dbpedia.org/resource/Tyler_Lockett>   \n",
       " 58943    <http://dbpedia.org/resource/Bernadette_Benson>   \n",
       " 58944        <http://dbpedia.org/resource/Blake_Russell>   \n",
       " 58949           <http://dbpedia.org/resource/Marc_Sneyd>   \n",
       " 58950           <http://dbpedia.org/resource/John_Arigo>   \n",
       " 58954         <http://dbpedia.org/resource/Paul_Foytack>   \n",
       " 58960     <http://dbpedia.org/resource/Sergey_Erzrumyan>   \n",
       " 58962  <http://dbpedia.org/resource/David_Leslie_(rug...   \n",
       " 58968            <http://dbpedia.org/resource/Kurt_Luby>   \n",
       " 58969         <http://dbpedia.org/resource/Ray_Daviault>   \n",
       " 58982  <http://dbpedia.org/resource/Jeff_Gray_(baseba...   \n",
       " 58985  <http://dbpedia.org/resource/Craig_Davis_(Aust...   \n",
       " 58987         <http://dbpedia.org/resource/Mike_Bruhert>   \n",
       " 58988         <http://dbpedia.org/resource/Jack_Swagger>   \n",
       " 58992             <http://dbpedia.org/resource/Jim_Eddy>   \n",
       " 58993  <http://dbpedia.org/resource/Edgar_Renter%C3%ADa>   \n",
       " 59003    <http://dbpedia.org/resource/Beth_Dunkenberger>   \n",
       " 59007            <http://dbpedia.org/resource/Brad_Huse>   \n",
       " 59010         <http://dbpedia.org/resource/Kaid_Mohamed>   \n",
       " 59018  <http://dbpedia.org/resource/Jim_Casey_(footba...   \n",
       " 59026  <http://dbpedia.org/resource/Richard_Thompson_...   \n",
       " 59028         <http://dbpedia.org/resource/Eric_Naposki>   \n",
       " 59051     <http://dbpedia.org/resource/Geoffrey_Kipsang>   \n",
       " 59052         <http://dbpedia.org/resource/Dave_Nilsson>   \n",
       " 59065  <http://dbpedia.org/resource/Dee_Brown_(basket...   \n",
       " 59068  <http://dbpedia.org/resource/David_Cass_(footb...   \n",
       " 59069          <http://dbpedia.org/resource/Keith_Elias>   \n",
       " \n",
       "                                            name  \\\n",
       " 0                                 Digby Morrell   \n",
       " 17              Paddy Dunne (Gaelic footballer)   \n",
       " 21                                Ceiron Thomas   \n",
       " 22                                 Adel Sellimi   \n",
       " 25                                  Vic Stasiuk   \n",
       " 28                                 Leon Hapgood   \n",
       " 30                                    Dom Flora   \n",
       " 33                                    Bob Reece   \n",
       " 41                Bob Adams (American football)   \n",
       " 48                                   Marc Logan   \n",
       " 49                               Corey Woolfolk   \n",
       " 63                                   Alan Roper   \n",
       " 75                           Vladimir Yurchenko   \n",
       " 78                                Doug McIntosh   \n",
       " 92                                 Shaka Hislop   \n",
       " 95                                 Steve Castle   \n",
       " 99                                   Dean Greig   \n",
       " 101           James Stewart (American football)   \n",
       " 102                            Fredrik Jacobson   \n",
       " 105                          Juan Pablo Montoya   \n",
       " 114                                 Al Hairston   \n",
       " 116                                  Ron Shuman   \n",
       " 118    Bill Young (Australian rules footballer)   \n",
       " 122       Se%C3%A1n %C3%93g %C3%93 hAilp%C3%ADn   \n",
       " 123                             Mike Trebilcock   \n",
       " 137                               Daniel Falzon   \n",
       " 145                               Cameron Sharp   \n",
       " 151                                   Gary Fila   \n",
       " 152                    Roger James (footballer)   \n",
       " 153                           Aled de Malmanche   \n",
       " ...                                         ...   \n",
       " 58932                  Kevin Clark (basketball)   \n",
       " 58933                              Justin Huish   \n",
       " 58940                                Lamar King   \n",
       " 58941                             Tyler Lockett   \n",
       " 58943                         Bernadette Benson   \n",
       " 58944                             Blake Russell   \n",
       " 58949                                Marc Sneyd   \n",
       " 58950                                John Arigo   \n",
       " 58954                              Paul Foytack   \n",
       " 58960                          Sergey Erzrumyan   \n",
       " 58962                David Leslie (rugby union)   \n",
       " 58968                                 Kurt Luby   \n",
       " 58969                              Ray Daviault   \n",
       " 58982           Jeff Gray (baseball, born 1963)   \n",
       " 58985       Craig Davis (Australian footballer)   \n",
       " 58987                              Mike Bruhert   \n",
       " 58988                              Jack Swagger   \n",
       " 58992                                  Jim Eddy   \n",
       " 58993                       Edgar Renter%C3%ADa   \n",
       " 59003                         Beth Dunkenberger   \n",
       " 59007                                 Brad Huse   \n",
       " 59010                              Kaid Mohamed   \n",
       " 59018                    Jim Casey (footballer)   \n",
       " 59026  Richard Thompson (footballer, born 1969)   \n",
       " 59028                              Eric Naposki   \n",
       " 59051                          Geoffrey Kipsang   \n",
       " 59052                              Dave Nilsson   \n",
       " 59065         Dee Brown (basketball, born 1968)   \n",
       " 59068                   David Cass (footballer)   \n",
       " 59069                               Keith Elias   \n",
       " \n",
       "                                                     text  \n",
       " 0      digby morrell born 10 october 1979 is a former...  \n",
       " 17     paddy dunne was a gaelic football player from ...  \n",
       " 21     ceiron thomas born 23 october 1983 is a welsh ...  \n",
       " 22     adel sellimi arabic was born on 16 november 19...  \n",
       " 25     victor john stasiuk born may 23 1929 is a reti...  \n",
       " 28     leon duane hapgood born 7 august 1979is an eng...  \n",
       " 30     dominick a dom flora born june 12 1935 is an a...  \n",
       " 33     robert scott reece born january 5 1951 is an a...  \n",
       " 41     robert bruce bob adams born august 15 1946 in ...  \n",
       " 48     marc anthony logan born may 9 1965 is a former...  \n",
       " 49     corey woolfolk born february 26 1983 in ann ar...  \n",
       " 63     alan roper born may 1939 in tipton staffordshi...  \n",
       " 75     uladzimir vasilyevich yurchanka belarusian rus...  \n",
       " 78     doug mcinstosh is a retired american basketbal...  \n",
       " 92     neil shaka hislop cm born 22 february 1969 is ...  \n",
       " 95     steve castle born 17 may 1966 in barking is a ...  \n",
       " 99     dean greig born 31 october 1968 is a former au...  \n",
       " 101    james ottis stewart born december 27 1971 is a...  \n",
       " 102    fredrik ulf yngve jacobson born 26 september 1...  \n",
       " 105    juan pablo montoya roldn born september 20 197...  \n",
       " 114    alan leroy al hairston born december 11 1945 i...  \n",
       " 116    ron shuman born september 15 1952 is an americ...  \n",
       " 118    william d bill young born 6 june 1931 is a for...  \n",
       " 122    sen g hailpn born 22 may 1977 is a fijianirish...  \n",
       " 123    michael mike trebilcock born 29 november 1944 ...  \n",
       " 137    daniel lawson falzon born 16 march 1994 is a p...  \n",
       " 145    robert cameron sharp born 3 june 1958 is a sco...  \n",
       " 151    gary fila born 18 november 1981 is australian ...  \n",
       " 152    roger james born 21 october 1975 is a former a...  \n",
       " 153    aled peter de malmanche born 11 september 1984...  \n",
       " ...                                                  ...  \n",
       " 58932  kevin clark is an assistant mens basketball co...  \n",
       " 58933  justin huish is an american double olympic cha...  \n",
       " 58940  lamar king born august 10 1975 is a former ame...  \n",
       " 58941  tyler lockett born september 28 1992 is an ame...  \n",
       " 58943  bernadette benson is a canadian born athlete s...  \n",
       " 58944  blake russell ne phillips born july 24 1975 is...  \n",
       " 58949  marc sneyd is an english professional rugby le...  \n",
       " 58950  john hartley ward arigo born december 10 1978 ...  \n",
       " 58954  paul eugene foytack born november 16 1930 in s...  \n",
       " 58960  sergey erzrumyan born on 22 november 1980 is a...  \n",
       " 58962  david leslie born 14 april 1952 is a former sc...  \n",
       " 58968  kurt luby born 6 march 1963 in bolton lancashi...  \n",
       " 58969  raymond joseph robert daviault born may 27 193...  \n",
       " 58982  jeffrey edward gray born april 10 1963 in rich...  \n",
       " 58985  craig davis born 2 october 1954 in ross tasman...  \n",
       " 58987  michael edwin bruhert born june 21 1951 is a f...  \n",
       " 58988  donald jacob jake hager born march 24 1982 is ...  \n",
       " 58992  jim eddy is a football coach who worked in the...  \n",
       " 58993  edgar enrique rentera herazo spanish pronuncia...  \n",
       " 59003  beth dunkenberger is in her second season with...  \n",
       " 59007  brad huse born june 27 1966 is an american col...  \n",
       " 59010  kaid yusef mohamed born 23 july 1984 is a wels...  \n",
       " 59018  jim casey born august 2 1957 in glasgow is a r...  \n",
       " 59026  richard john thompson born 11 april 1969 in ha...  \n",
       " 59028  eric andrew naposki born december 20 1966 is a...  \n",
       " 59051  geoffrey kipsang kamworor born 22 november 199...  \n",
       " 59052  david wayne nilsson born 14 december 1969 is a...  \n",
       " 59065  decovan kadell dee brown born november 29 1968...  \n",
       " 59068  david william royce cass born 27 march 1962 in...  \n",
       " 59069  keith hector elias born february 3 1972 in lac...  \n",
       " \n",
       " [11510 rows x 3 columns],\n",
       " 'matrix': <11510x547979 sparse matrix of type '<type 'numpy.float64'>'\n",
       " \twith 1885831 stored elements in Compressed Sparse Row format>}"
      ]
     },
     "execution_count": 7,
     "metadata": {},
     "output_type": "execute_result"
    }
   ],
   "source": [
    "left_child"
   ]
  },
  {
   "cell_type": "markdown",
   "metadata": {},
   "source": [
    "And here is the content of the other cluster we named `right_child`."
   ]
  },
  {
   "cell_type": "code",
   "execution_count": 8,
   "metadata": {},
   "outputs": [
    {
     "data": {
      "text/plain": [
       "{'centroid': array([  3.00882137e-06,   0.00000000e+00,   2.88868244e-06, ...,\n",
       "          1.10291526e-04,   9.00609890e-05,   2.03703564e-05]),\n",
       " 'dataframe':                                                      URI  \\\n",
       " 1           <http://dbpedia.org/resource/Alfred_J._Lewy>   \n",
       " 2            <http://dbpedia.org/resource/Harpdog_Brown>   \n",
       " 3      <http://dbpedia.org/resource/Franz_Rottensteiner>   \n",
       " 4                   <http://dbpedia.org/resource/G-Enka>   \n",
       " 5            <http://dbpedia.org/resource/Sam_Henderson>   \n",
       " 6            <http://dbpedia.org/resource/Aaron_LaCrate>   \n",
       " 7          <http://dbpedia.org/resource/Trevor_Ferguson>   \n",
       " 8             <http://dbpedia.org/resource/Grant_Nelson>   \n",
       " 9             <http://dbpedia.org/resource/Cathy_Caruth>   \n",
       " 10            <http://dbpedia.org/resource/Sophie_Crumb>   \n",
       " 11           <http://dbpedia.org/resource/Jenn_Ashworth>   \n",
       " 12        <http://dbpedia.org/resource/Jonathan_Hoefler>   \n",
       " 13     <http://dbpedia.org/resource/Anthony_Gueterboc...   \n",
       " 14      <http://dbpedia.org/resource/David_Chernushenko>   \n",
       " 15          <http://dbpedia.org/resource/Joerg_Steineck>   \n",
       " 16          <http://dbpedia.org/resource/Andrew_Pinsent>   \n",
       " 18       <http://dbpedia.org/resource/Alexandros_Mouzas>   \n",
       " 19     <http://dbpedia.org/resource/John_Angus_Campbell>   \n",
       " 20          <http://dbpedia.org/resource/Chris_Batstone>   \n",
       " 23           <http://dbpedia.org/resource/Faith_Soloway>   \n",
       " 24            <http://dbpedia.org/resource/Tom_Jennings>   \n",
       " 26         <http://dbpedia.org/resource/Anthony_Caruana>   \n",
       " 27     <http://dbpedia.org/resource/Ian_Mitchell_(aut...   \n",
       " 29            <http://dbpedia.org/resource/Emily_Osment>   \n",
       " 31     <http://dbpedia.org/resource/Ted_Hill_(mathema...   \n",
       " 32         <http://dbpedia.org/resource/Mindaugas_Murza>   \n",
       " 34          <http://dbpedia.org/resource/Douglas_Davies>   \n",
       " 35     <http://dbpedia.org/resource/Freimut_B%C3%B6rn...   \n",
       " 36     <http://dbpedia.org/resource/Th%C3%BCring_Br%C...   \n",
       " 37         <http://dbpedia.org/resource/Aharon_Solomons>   \n",
       " ...                                                  ...   \n",
       " 59036        <http://dbpedia.org/resource/Sabitri_Mitra>   \n",
       " 59037     <http://dbpedia.org/resource/Roni_Lynn_Deutch>   \n",
       " 59038           <http://dbpedia.org/resource/Simon_Vega>   \n",
       " 59039          <http://dbpedia.org/resource/Cho_Oh-hyun>   \n",
       " 59040  <http://dbpedia.org/resource/Gail_Kulick_Jackson>   \n",
       " 59041          <http://dbpedia.org/resource/Mokob%C3%A9>   \n",
       " 59042      <http://dbpedia.org/resource/F._Enzio_Busche>   \n",
       " 59043      <http://dbpedia.org/resource/Christian_Wiman>   \n",
       " 59044  <http://dbpedia.org/resource/Ellyn_Setnor_Bogd...   \n",
       " 59045          <http://dbpedia.org/resource/Katya_Adler>   \n",
       " 59046   <http://dbpedia.org/resource/Anthony-Noel_Kelly>   \n",
       " 59047       <http://dbpedia.org/resource/Mignon_Clyburn>   \n",
       " 59048    <http://dbpedia.org/resource/Charles_A._Miller>   \n",
       " 59049       <http://dbpedia.org/resource/Rodolfo_Parada>   \n",
       " 59050  <http://dbpedia.org/resource/Giwi_Margwelaschw...   \n",
       " 59053       <http://dbpedia.org/resource/Jessica_Jordan>   \n",
       " 59054     <http://dbpedia.org/resource/Marina_Mulyayeva>   \n",
       " 59055  <http://dbpedia.org/resource/Jo%C3%ABl_de_Rosnay>   \n",
       " 59056          <http://dbpedia.org/resource/Amy_Jenkins>   \n",
       " 59057  <http://dbpedia.org/resource/Roy_Zimmerman_(sa...   \n",
       " 59058        <http://dbpedia.org/resource/George_Krause>   \n",
       " 59059           <http://dbpedia.org/resource/Sean_Slade>   \n",
       " 59060         <http://dbpedia.org/resource/Lynne_Lipton>   \n",
       " 59061             <http://dbpedia.org/resource/Rod_Wilt>   \n",
       " 59062  <http://dbpedia.org/resource/Scott_Baker_(judge)>   \n",
       " 59063  <http://dbpedia.org/resource/Dragoljub_Ojdani%...   \n",
       " 59064            <http://dbpedia.org/resource/Oz_Bengur>   \n",
       " 59066           <http://dbpedia.org/resource/Olari_Elts>   \n",
       " 59067       <http://dbpedia.org/resource/Scott_F._Crago>   \n",
       " 59070         <http://dbpedia.org/resource/Fawaz_Damrah>   \n",
       " \n",
       "                                           name  \\\n",
       " 1                               Alfred J. Lewy   \n",
       " 2                                Harpdog Brown   \n",
       " 3                          Franz Rottensteiner   \n",
       " 4                                       G-Enka   \n",
       " 5                                Sam Henderson   \n",
       " 6                                Aaron LaCrate   \n",
       " 7                              Trevor Ferguson   \n",
       " 8                                 Grant Nelson   \n",
       " 9                                 Cathy Caruth   \n",
       " 10                                Sophie Crumb   \n",
       " 11                               Jenn Ashworth   \n",
       " 12                            Jonathan Hoefler   \n",
       " 13     Anthony Gueterbock, 18th Baron Berkeley   \n",
       " 14                          David Chernushenko   \n",
       " 15                              Joerg Steineck   \n",
       " 16                              Andrew Pinsent   \n",
       " 18                           Alexandros Mouzas   \n",
       " 19                         John Angus Campbell   \n",
       " 20                              Chris Batstone   \n",
       " 23                               Faith Soloway   \n",
       " 24                                Tom Jennings   \n",
       " 26                             Anthony Caruana   \n",
       " 27                       Ian Mitchell (author)   \n",
       " 29                                Emily Osment   \n",
       " 31                    Ted Hill (mathematician)   \n",
       " 32                             Mindaugas Murza   \n",
       " 34                              Douglas Davies   \n",
       " 35                        Freimut B%C3%B6rngen   \n",
       " 36                      Th%C3%BCring Br%C3%A4m   \n",
       " 37                             Aharon Solomons   \n",
       " ...                                        ...   \n",
       " 59036                            Sabitri Mitra   \n",
       " 59037                         Roni Lynn Deutch   \n",
       " 59038                               Simon Vega   \n",
       " 59039                              Cho Oh-hyun   \n",
       " 59040                      Gail Kulick Jackson   \n",
       " 59041                              Mokob%C3%A9   \n",
       " 59042                          F. Enzio Busche   \n",
       " 59043                          Christian Wiman   \n",
       " 59044                   Ellyn Setnor Bogdanoff   \n",
       " 59045                              Katya Adler   \n",
       " 59046                       Anthony-Noel Kelly   \n",
       " 59047                           Mignon Clyburn   \n",
       " 59048                        Charles A. Miller   \n",
       " 59049                           Rodolfo Parada   \n",
       " 59050                     Giwi Margwelaschwili   \n",
       " 59053                           Jessica Jordan   \n",
       " 59054                         Marina Mulyayeva   \n",
       " 59055                      Jo%C3%ABl de Rosnay   \n",
       " 59056                              Amy Jenkins   \n",
       " 59057                 Roy Zimmerman (satirist)   \n",
       " 59058                            George Krause   \n",
       " 59059                               Sean Slade   \n",
       " 59060                             Lynne Lipton   \n",
       " 59061                                 Rod Wilt   \n",
       " 59062                      Scott Baker (judge)   \n",
       " 59063                   Dragoljub Ojdani%C4%87   \n",
       " 59064                                Oz Bengur   \n",
       " 59066                               Olari Elts   \n",
       " 59067                           Scott F. Crago   \n",
       " 59070                             Fawaz Damrah   \n",
       " \n",
       "                                                     text  \n",
       " 1      alfred j lewy aka sandy lewy graduated from un...  \n",
       " 2      harpdog brown is a singer and harmonica player...  \n",
       " 3      franz rottensteiner born in waidmannsfeld lowe...  \n",
       " 4      henry krvits born 30 december 1974 in tallinn ...  \n",
       " 5      sam henderson born october 18 1969 is an ameri...  \n",
       " 6      aaron lacrate is an american music producer re...  \n",
       " 7      trevor ferguson aka john farrow born 11 novemb...  \n",
       " 8      grant nelson born 27 april 1971 in london also...  \n",
       " 9      cathy caruth born 1955 is frank h t rhodes pro...  \n",
       " 10     sophia violet sophie crumb born september 27 1...  \n",
       " 11     jenn ashworth is an english writer she was bor...  \n",
       " 12     jonathan hoefler born august 22 1970 is an ame...  \n",
       " 13     anthony fitzhardinge gueterbock 18th baron ber...  \n",
       " 14     david chernushenko born june 1963 in calgary a...  \n",
       " 15     joerg steineck is a german filmmaker editor an...  \n",
       " 16     fr andrew pinsent born 19 august 1966 is resea...  \n",
       " 18     alexandros mouzas born 1962 is a greek compose...  \n",
       " 19     john angus campbell born march 10 1942 in port...  \n",
       " 20     chris batstone was the 20002002 lead singer of...  \n",
       " 23     faith soloway born march 28 1964 is an america...  \n",
       " 24     tom jennings born 1955 as thomas daniel jennin...  \n",
       " 26     anthony caruana born 2 january 1968 is a melbo...  \n",
       " 27     ian mitchell is a scottish author who grew up ...  \n",
       " 29     emily jordan osment born march 10 1992 is an a...  \n",
       " 31     theodore preston hill born december 28 1943 is...  \n",
       " 32     mindaugas gervaldas until 2012 year mindaugas ...  \n",
       " 34     douglas james davies born 1947 is professor in...  \n",
       " 35     freimut brngen born october 17 1930 is a germa...  \n",
       " 36     thring brm born 10 april 1944 is a swiss compo...  \n",
       " 37     aharon solomons b september 27 1939 is a freed...  \n",
       " ...                                                  ...  \n",
       " 59036  sabitri mitra is an indian politician belongin...  \n",
       " 59037  roni lynn deutch is a former tax attorney and ...  \n",
       " 59038  simon h vega born october 8 1935 is a retired ...  \n",
       " 59039  seorak musan cho oh hyun born in 1932 in mirya...  \n",
       " 59040  gail kulick jackson born may 29 1959 is a minn...  \n",
       " 59041  mokob traor better known by the mononym mokob ...  \n",
       " 59042  friedrich enzio busche born 5 april 1930 dortm...  \n",
       " 59043  christian wiman is an american poet and editor...  \n",
       " 59044  ellyn setnor bogdanoff born october 17 1959 wa...  \n",
       " 59045  katya adler born 1972 is a british journalist ...  \n",
       " 59046  anthonynoel kelly born 1956 is a british artis...  \n",
       " 59047  mignon l clyburn born march 22 1962 is a commi...  \n",
       " 59048  charles a miller born october 27 1937 in washi...  \n",
       " 59049  rodolfo parada lillo is a chilean musician com...  \n",
       " 59050  giwi margwelaschwili georgian born december 14...  \n",
       " 59053  jessica anne jordan burton born 6 may 1984 in ...  \n",
       " 59054  marina vladimirovna mulyayeva kazakh born apri...  \n",
       " 59055  jol de rosnay born 1937 phd from the massachus...  \n",
       " 59056  amy jenkins born 1966 in london is an english ...  \n",
       " 59057  roy zimmerman born october 7 1957 is an americ...  \n",
       " 59058  george krause born 1937 philadelphia pennsylva...  \n",
       " 59059  sean slade b november 14 1957 lansing michigan...  \n",
       " 59060  lynne lipton is an american film stage televis...  \n",
       " 59061  rod wilt is a former republican member of the ...  \n",
       " 59062  sir thomas scott gillespie baker born 10 decem...  \n",
       " 59063  dragoljub ojdani serbian cyrillic born june 1 ...  \n",
       " 59064  osman oz bengur born february 23 1949 is an am...  \n",
       " 59066  olari elts born april 27 1971 in tallinn eston...  \n",
       " 59067  scott francis crago born july 26 1963 twin bro...  \n",
       " 59070  fawaz mohammed damrah arabic fawwz damra was t...  \n",
       " \n",
       " [47561 rows x 3 columns],\n",
       " 'matrix': <47561x547979 sparse matrix of type '<type 'numpy.float64'>'\n",
       " \twith 8493452 stored elements in Compressed Sparse Row format>}"
      ]
     },
     "execution_count": 8,
     "metadata": {},
     "output_type": "execute_result"
    }
   ],
   "source": [
    "right_child"
   ]
  },
  {
   "cell_type": "markdown",
   "metadata": {},
   "source": [
    "## Visualize the bipartition"
   ]
  },
  {
   "cell_type": "markdown",
   "metadata": {},
   "source": [
    "We provide you with a modified version of the visualization function from the k-means assignment. For each cluster, we print the top 5 words with highest TF-IDF weights in the centroid and display excerpts for the 8 nearest neighbors of the centroid."
   ]
  },
  {
   "cell_type": "code",
   "execution_count": 9,
   "metadata": {
    "scrolled": true
   },
   "outputs": [],
   "source": [
    "def display_single_tf_idf_cluster(cluster, map_index_to_word):\n",
    "    '''map_index_to_word: SFrame specifying the mapping betweeen words and column indices'''\n",
    "    \n",
    "    wiki_subset   = cluster['dataframe']\n",
    "    tf_idf_subset = cluster['matrix']\n",
    "    centroid      = cluster['centroid']\n",
    "    \n",
    "    # Print top 5 words with largest TF-IDF weights in the cluster\n",
    "    idx = centroid.argsort()[::-1]\n",
    "    for i in xrange(5):\n",
    "        print('{0:s}:{1:.3f}'.format(map_index_to_word.index[idx[i]], centroid[idx[i]])),\n",
    "    print('')\n",
    "    \n",
    "    # Compute distances from the centroid to all data points in the cluster.\n",
    "    distances = pairwise_distances(tf_idf_subset, [centroid], metric='euclidean').flatten()\n",
    "    # compute nearest neighbors of the centroid within the cluster.\n",
    "    nearest_neighbors = distances.argsort()\n",
    "    # For 8 nearest neighbors, print the title as well as first 180 characters of text.\n",
    "    # Wrap the text at 80-character mark.\n",
    "    for i in xrange(8):\n",
    "        text = ' '.join(wiki_subset.iloc[nearest_neighbors[i]]['text'].split(None, 25)[0:25])\n",
    "        print('* {0:50s} {1:.5f}\\n  {2:s}\\n  {3:s}'.format(wiki_subset.iloc[nearest_neighbors[i]]['name'],\n",
    "              distances[nearest_neighbors[i]], text[:90], text[90:180] if len(text) > 90 else ''))\n",
    "    print('')"
   ]
  },
  {
   "cell_type": "markdown",
   "metadata": {},
   "source": [
    "Let's visualize the two child clusters:"
   ]
  },
  {
   "cell_type": "code",
   "execution_count": 10,
   "metadata": {},
   "outputs": [
    {
     "name": "stdout",
     "output_type": "stream",
     "text": [
      "zvuku:0.040 zwerge:0.036 zwines:0.029 zumars:0.029 zx10rborn:0.028 \n",
      "* Todd Williams                                      0.95468\n",
      "  todd michael williams born february 13 1971 in syracuse new york is a former major league \n",
      "  baseball relief pitcher he attended east syracuseminoa high school\n",
      "* Gord Sherven                                       0.95622\n",
      "  gordon r sherven born august 21 1963 in gravelbourg saskatchewan and raised in mankota sas\n",
      "  katchewan is a retired canadian professional ice hockey forward who played\n",
      "* Justin Knoedler                                    0.95639\n",
      "  justin joseph knoedler born july 17 1980 in springfield illinois is a former major league \n",
      "  baseball catcherknoedler was originally drafted by the st louis cardinals\n",
      "* Chris Day                                          0.95648\n",
      "  christopher nicholas chris day born 28 july 1975 is an english professional footballer who\n",
      "   plays as a goalkeeper for stevenageday started his career at tottenham\n",
      "* Tony Smith (footballer, born 1957)                 0.95653\n",
      "  anthony tony smith born 20 february 1957 is a former footballer who played as a central de\n",
      "  fender in the football league in the 1970s and\n",
      "* Ashley Prescott                                    0.95761\n",
      "  ashley prescott born 11 september 1972 is a former australian rules footballer he played w\n",
      "  ith the richmond and fremantle football clubs in the afl between\n",
      "* Leslie Lea                                         0.95802\n",
      "  leslie lea born 5 october 1942 in manchester is an english former professional footballer \n",
      "  he played as a midfielderlea began his professional career with blackpool\n",
      "* Tommy Anderson (footballer)                        0.95818\n",
      "  thomas cowan tommy anderson born 24 september 1934 in haddington is a scottish former prof\n",
      "  essional footballer he played as a forward and was noted for\n",
      "\n"
     ]
    }
   ],
   "source": [
    "display_single_tf_idf_cluster(left_child, map_index_to_word)"
   ]
  },
  {
   "cell_type": "code",
   "execution_count": 11,
   "metadata": {},
   "outputs": [
    {
     "name": "stdout",
     "output_type": "stream",
     "text": [
      "zwolsman:0.025 zx10r:0.017 zwigoff:0.012 zyuganovs:0.011 zyntherius:0.011 \n",
      "* Anita Kunz                                         0.97401\n",
      "  anita e kunz oc born 1956 is a canadianborn artist and illustratorkunz has lived in london\n",
      "   new york and toronto contributing to magazines and working\n",
      "* Janet Jackson                                      0.97472\n",
      "  janet damita jo jackson born may 16 1966 is an american singer songwriter and actress know\n",
      "  n for a series of sonically innovative socially conscious and\n",
      "* Madonna (entertainer)                              0.97475\n",
      "  madonna louise ciccone tkoni born august 16 1958 is an american singer songwriter actress \n",
      "  and businesswoman she achieved popularity by pushing the boundaries of lyrical\n",
      "* %C3%81ine Hyland                                   0.97536\n",
      "  ine hyland ne donlon is emeritus professor of education and former vicepresident of univer\n",
      "  sity college cork ireland she was born in 1942 in athboy co\n",
      "* Jane Fonda                                         0.97621\n",
      "  jane fonda born lady jayne seymour fonda december 21 1937 is an american actress writer po\n",
      "  litical activist former fashion model and fitness guru she is\n",
      "* Christine Robertson                                0.97643\n",
      "  christine mary robertson born 5 october 1948 is an australian politician and former austra\n",
      "  lian labor party member of the new south wales legislative council serving\n",
      "* Pat Studdy-Clift                                   0.97643\n",
      "  pat studdyclift is an australian author specialising in historical fiction and nonfictionb\n",
      "  orn in 1925 she lived in gunnedah until she was sent to a boarding\n",
      "* Alexandra Potter                                   0.97646\n",
      "  alexandra potter born 1970 is a british author of romantic comediesborn in bradford yorksh\n",
      "  ire england and educated at liverpool university gaining an honors degree in\n",
      "\n"
     ]
    }
   ],
   "source": [
    "display_single_tf_idf_cluster(right_child, map_index_to_word)"
   ]
  },
  {
   "cell_type": "markdown",
   "metadata": {},
   "source": [
    "The left cluster consists of athletes, whereas the right cluster consists of non-athletes. So far, we have a single-level hierarchy consisting of two clusters, as follows:"
   ]
  },
  {
   "cell_type": "markdown",
   "metadata": {},
   "source": [
    "```\n",
    "                                           Wikipedia\n",
    "                                               +\n",
    "                                               |\n",
    "                    +--------------------------+--------------------+\n",
    "                    |                                               |\n",
    "                    +                                               +\n",
    "                 Athletes                                      Non-athletes\n",
    "```"
   ]
  },
  {
   "cell_type": "markdown",
   "metadata": {},
   "source": [
    "Is this hierarchy good enough? **When building a hierarchy of clusters, we must keep our particular application in mind.** For instance, we might want to build a **directory** for Wikipedia articles. A good directory would let you quickly narrow down your search to a small set of related articles. The categories of athletes and non-athletes are too general to facilitate efficient search. For this reason, we decide to build another level into our hierarchy of clusters with the goal of getting more specific cluster structure at the lower level. To that end, we subdivide both the `athletes` and `non-athletes` clusters."
   ]
  },
  {
   "cell_type": "markdown",
   "metadata": {},
   "source": [
    "## Perform recursive bipartitioning"
   ]
  },
  {
   "cell_type": "markdown",
   "metadata": {},
   "source": [
    "### Cluster of athletes"
   ]
  },
  {
   "cell_type": "markdown",
   "metadata": {},
   "source": [
    "To help identify the clusters we've built so far, let's give them easy-to-read aliases:"
   ]
  },
  {
   "cell_type": "code",
   "execution_count": 12,
   "metadata": {
    "collapsed": true
   },
   "outputs": [],
   "source": [
    "athletes = left_child\n",
    "non_athletes = right_child"
   ]
  },
  {
   "cell_type": "markdown",
   "metadata": {},
   "source": [
    "Using the bipartition function, we produce two child clusters of the athlete cluster:"
   ]
  },
  {
   "cell_type": "code",
   "execution_count": 13,
   "metadata": {},
   "outputs": [],
   "source": [
    "# Bipartition the cluster of athletes\n",
    "left_child_athletes, right_child_athletes = bipartition(athletes, maxiter=100, num_runs=6, seed=1)"
   ]
  },
  {
   "cell_type": "markdown",
   "metadata": {},
   "source": [
    "The left child cluster mainly consists of baseball players:"
   ]
  },
  {
   "cell_type": "code",
   "execution_count": 14,
   "metadata": {},
   "outputs": [
    {
     "name": "stdout",
     "output_type": "stream",
     "text": [
      "zvuku:0.054 zwerge:0.043 zumars:0.038 zx10rborn:0.035 zuidams:0.030 \n",
      "* Tony Smith (footballer, born 1957)                 0.94677\n",
      "  anthony tony smith born 20 february 1957 is a former footballer who played as a central de\n",
      "  fender in the football league in the 1970s and\n",
      "* Justin Knoedler                                    0.94746\n",
      "  justin joseph knoedler born july 17 1980 in springfield illinois is a former major league \n",
      "  baseball catcherknoedler was originally drafted by the st louis cardinals\n",
      "* Chris Day                                          0.94849\n",
      "  christopher nicholas chris day born 28 july 1975 is an english professional footballer who\n",
      "   plays as a goalkeeper for stevenageday started his career at tottenham\n",
      "* Todd Williams                                      0.94882\n",
      "  todd michael williams born february 13 1971 in syracuse new york is a former major league \n",
      "  baseball relief pitcher he attended east syracuseminoa high school\n",
      "* Todd Curley                                        0.95007\n",
      "  todd curley born 14 january 1973 is a former australian rules footballer who played for co\n",
      "  llingwood and the western bulldogs in the australian football league\n",
      "* Ashley Prescott                                    0.95015\n",
      "  ashley prescott born 11 september 1972 is a former australian rules footballer he played w\n",
      "  ith the richmond and fremantle football clubs in the afl between\n",
      "* Tommy Anderson (footballer)                        0.95037\n",
      "  thomas cowan tommy anderson born 24 september 1934 in haddington is a scottish former prof\n",
      "  essional footballer he played as a forward and was noted for\n",
      "* Leslie Lea                                         0.95065\n",
      "  leslie lea born 5 october 1942 in manchester is an english former professional footballer \n",
      "  he played as a midfielderlea began his professional career with blackpool\n",
      "\n"
     ]
    }
   ],
   "source": [
    "display_single_tf_idf_cluster(left_child_athletes, map_index_to_word)"
   ]
  },
  {
   "cell_type": "markdown",
   "metadata": {},
   "source": [
    "On the other hand, the right child cluster is a mix of players in association football, Austrailian rules football and ice hockey:"
   ]
  },
  {
   "cell_type": "code",
   "execution_count": 15,
   "metadata": {},
   "outputs": [
    {
     "name": "stdout",
     "output_type": "stream",
     "text": [
      "zowie:0.045 zuberi:0.043 zululand:0.035 zyiit:0.031 zygouli:0.031 \n",
      "* Alessandra Aguilar                                 0.93880\n",
      "  alessandra aguilar born 1 july 1978 in lugo is a spanish longdistance runner who specialis\n",
      "  es in marathon running she represented her country in the event\n",
      "* Heather Samuel                                     0.93999\n",
      "  heather barbara samuel born 6 july 1970 is a retired sprinter from antigua and barbuda who\n",
      "   specialized in the 100 and 200 metres in 1990\n",
      "* Viola Kibiwot                                      0.94037\n",
      "  viola jelagat kibiwot born december 22 1983 in keiyo district is a runner from kenya who s\n",
      "  pecialises in the 1500 metres kibiwot won her first\n",
      "* Ayelech Worku                                      0.94052\n",
      "  ayelech worku born june 12 1979 is an ethiopian longdistance runner most known for winning\n",
      "   two world championships bronze medals on the 5000 metres she\n",
      "* Krisztina Papp                                     0.94105\n",
      "  krisztina papp born 17 december 1982 in eger is a hungarian long distance runner she is th\n",
      "  e national indoor record holder over 5000 mpapp began\n",
      "* Petra Lammert                                      0.94230\n",
      "  petra lammert born 3 march 1984 in freudenstadt badenwrttemberg is a former german shot pu\n",
      "  tter and current bobsledder she was the 2009 european indoor champion\n",
      "* Morhad Amdouni                                     0.94231\n",
      "  morhad amdouni born 21 january 1988 in portovecchio is a french middle and longdistance ru\n",
      "  nner he was european junior champion in track and cross country\n",
      "* Brian Davis (golfer)                               0.94378\n",
      "  brian lester davis born 2 august 1974 is an english professional golferdavis was born in l\n",
      "  ondon he turned professional in 1994 and became a member\n",
      "\n"
     ]
    }
   ],
   "source": [
    "display_single_tf_idf_cluster(right_child_athletes, map_index_to_word)"
   ]
  },
  {
   "cell_type": "markdown",
   "metadata": {},
   "source": [
    "Our hierarchy of clusters now looks like this:\n",
    "```\n",
    "                                           Wikipedia\n",
    "                                               +\n",
    "                                               |\n",
    "                    +--------------------------+--------------------+\n",
    "                    |                                               |\n",
    "                    +                                               +\n",
    "                 Athletes                                      Non-athletes\n",
    "                    +\n",
    "                    |\n",
    "        +-----------+--------+\n",
    "        |                    |\n",
    "        |            association football/\n",
    "        +          Austrailian rules football/\n",
    "     baseball             ice hockey\n",
    "```"
   ]
  },
  {
   "cell_type": "markdown",
   "metadata": {},
   "source": [
    "Should we keep subdividing the clusters? If so, which cluster should we subdivide? To answer this question, we again think about our application. Since we organize our directory by topics, it would be nice to have topics that are about as coarse as each other. For instance, if one cluster is about baseball, we expect some other clusters about football, basketball, volleyball, and so forth. That is, **we would like to achieve similar level of granularity for all clusters.**\n",
    "\n",
    "Notice that the right child cluster is more coarse than the left child cluster. The right cluster posseses a greater variety of topics than the left (ice hockey/association football/Austrialian football vs. baseball). So the right child cluster should be subdivided further to produce finer child clusters."
   ]
  },
  {
   "cell_type": "markdown",
   "metadata": {},
   "source": [
    "Let's give the clusters aliases as well:"
   ]
  },
  {
   "cell_type": "code",
   "execution_count": 16,
   "metadata": {
    "collapsed": true
   },
   "outputs": [],
   "source": [
    "baseball            = left_child_athletes\n",
    "ice_hockey_football = right_child_athletes"
   ]
  },
  {
   "cell_type": "markdown",
   "metadata": {},
   "source": [
    "### Cluster of ice hockey players and football players"
   ]
  },
  {
   "cell_type": "markdown",
   "metadata": {},
   "source": [
    "In answering the following quiz question, take a look at the topics represented in the top documents (those closest to the centroid), as well as the list of words with highest TF-IDF weights.\n",
    "\n",
    "Let us bipartition the cluster of ice hockey and football players."
   ]
  },
  {
   "cell_type": "code",
   "execution_count": 17,
   "metadata": {},
   "outputs": [
    {
     "name": "stdout",
     "output_type": "stream",
     "text": [
      "zowie:0.064 zyiit:0.039 zwolsman:0.038 zealandamerican:0.038 zolecki:0.037 \n",
      "* Heather Samuel                                     0.91590\n",
      "  heather barbara samuel born 6 july 1970 is a retired sprinter from antigua and barbuda who\n",
      "   specialized in the 100 and 200 metres in 1990\n",
      "* Krisztina Papp                                     0.91672\n",
      "  krisztina papp born 17 december 1982 in eger is a hungarian long distance runner she is th\n",
      "  e national indoor record holder over 5000 mpapp began\n",
      "* Ayelech Worku                                      0.91892\n",
      "  ayelech worku born june 12 1979 is an ethiopian longdistance runner most known for winning\n",
      "   two world championships bronze medals on the 5000 metres she\n",
      "* Viola Kibiwot                                      0.91906\n",
      "  viola jelagat kibiwot born december 22 1983 in keiyo district is a runner from kenya who s\n",
      "  pecialises in the 1500 metres kibiwot won her first\n",
      "* Alessandra Aguilar                                 0.91955\n",
      "  alessandra aguilar born 1 july 1978 in lugo is a spanish longdistance runner who specialis\n",
      "  es in marathon running she represented her country in the event\n",
      "* Antonina Yefremova                                 0.92054\n",
      "  antonina yefremova born 19 july 1981 is a ukrainian sprinter who specializes in the 400 me\n",
      "  tres yefremova received a twoyear ban in 2012 for using\n",
      "* Marian Burnett                                     0.92251\n",
      "  marian joan burnett born 22 february 1976 in linden is a female middledistance runner from\n",
      "   guyana who specialises in the 800 metres she competed in\n",
      "* Wang Xiuting                                       0.92377\n",
      "  wang xiuting chinese born 11 may 1965 in shandong is a chinese former longdistance runners\n",
      "  he rose to prominence with a victory in the 10000 metres\n",
      "\n",
      "zuberi:0.118 zadnji:0.089 zimmermann:0.062 zekiye:0.060 zululand:0.054 \n",
      "* Bob Heintz                                         0.88057\n",
      "  robert edward heintz born may 1 1970 is an american professional golfer who plays on the n\n",
      "  ationwide tourheintz was born in syosset new york he\n",
      "* Tim Conley                                         0.88274\n",
      "  tim conley born december 8 1958 is an american professional golfer who played on the pga t\n",
      "  our nationwide tour and most recently the champions tourconley\n",
      "* Bruce Zabriski                                     0.88279\n",
      "  bruce zabriski born august 3 1957 is an american professional golfer who played on the pga\n",
      "   tour european tour and the nationwide tourzabriski joined the\n",
      "* Sonny Skinner                                      0.88438\n",
      "  sonny skinner born august 18 1960 is an american professional golfer who plays on the cham\n",
      "  pions tourskinner was born in portsmouth virginia he turned professional\n",
      "* Brian Davis (golfer)                               0.88482\n",
      "  brian lester davis born 2 august 1974 is an english professional golferdavis was born in l\n",
      "  ondon he turned professional in 1994 and became a member\n",
      "* Greg Chalmers                                      0.88501\n",
      "  greg j chalmers born 11 october 1973 is an australian professional golfer who has played o\n",
      "  n both the european tour and the pga tourchalmers was\n",
      "* Todd Barranger                                     0.88552\n",
      "  todd barranger born october 19 1968 is an american professional golfer who played on the p\n",
      "  ga tour asian tour and the nationwide tourbarranger joined the\n",
      "* Dick Mast                                          0.88830\n",
      "  richard mast born march 23 1951 is an american professional golfer who has played on the p\n",
      "  ga tour nationwide tour and champions tourmast was born\n",
      "\n"
     ]
    }
   ],
   "source": [
    "left_child_ihs, right_child_ihs = bipartition(ice_hockey_football, maxiter=100, num_runs=6, seed=1)\n",
    "display_single_tf_idf_cluster(left_child_ihs, map_index_to_word)\n",
    "display_single_tf_idf_cluster(right_child_ihs, map_index_to_word)"
   ]
  },
  {
   "cell_type": "markdown",
   "metadata": {},
   "source": [
    "**Quiz Question**. Which diagram best describes the hierarchy right after splitting the `ice_hockey_football` cluster? Refer to the quiz form for the diagrams."
   ]
  },
  {
   "cell_type": "markdown",
   "metadata": {},
   "source": [
    "**Caution**. The granularity criteria is an imperfect heuristic and must be taken with a grain of salt. It takes a lot of manual intervention to obtain a good hierarchy of clusters.\n",
    "\n",
    "* **If a cluster is highly mixed, the top articles and words may not convey the full picture of the cluster.** Thus, we may be misled if we judge the purity of clusters solely by their top documents and words. \n",
    "* **Many interesting topics are hidden somewhere inside the clusters but do not appear in the visualization.** We may need to subdivide further to discover new topics. For instance, subdividing the `ice_hockey_football` cluster led to the appearance of runners and golfers."
   ]
  },
  {
   "cell_type": "markdown",
   "metadata": {},
   "source": [
    "### Cluster of non-athletes"
   ]
  },
  {
   "cell_type": "markdown",
   "metadata": {},
   "source": [
    "Now let us subdivide the cluster of non-athletes."
   ]
  },
  {
   "cell_type": "code",
   "execution_count": 18,
   "metadata": {},
   "outputs": [],
   "source": [
    "# Bipartition the cluster of non-athletes\n",
    "left_child_non_athletes, right_child_non_athletes = bipartition(non_athletes, maxiter=100, num_runs=6, seed=1)"
   ]
  },
  {
   "cell_type": "code",
   "execution_count": 19,
   "metadata": {},
   "outputs": [
    {
     "name": "stdout",
     "output_type": "stream",
     "text": [
      "zyntherius:0.016 zyuganovs:0.013 zwolsman:0.013 zupan:0.012 zx81:0.012 \n",
      "* Barry Sullivan (lawyer)                            0.97227\n",
      "  barry sullivan is a chicago lawyer and as of july 1 2009 the cooney conway chair in advoca\n",
      "  cy at loyola university chicago school of law\n",
      "* Kayee Griffin                                      0.97444\n",
      "  kayee frances griffin born 6 february 1950 is an australian politician and former australi\n",
      "  an labor party member of the new south wales legislative council serving\n",
      "* Christine Robertson                                0.97450\n",
      "  christine mary robertson born 5 october 1948 is an australian politician and former austra\n",
      "  lian labor party member of the new south wales legislative council serving\n",
      "* James A. Joseph                                    0.97464\n",
      "  james a joseph born 1935 is an american former diplomatjoseph is professor of the practice\n",
      "   of public policy studies at duke university and founder of\n",
      "* David Anderson (British Columbia politician)       0.97492\n",
      "  david a anderson pc oc born august 16 1937 in victoria british columbia is a former canadi\n",
      "  an cabinet minister educated at victoria college in victoria\n",
      "* Mary Ellen Coster Williams                         0.97594\n",
      "  mary ellen coster williams born april 3 1953 is a judge of the united states court of fede\n",
      "  ral claims appointed to that court in 2003\n",
      "* Sven Erik Holmes                                   0.97600\n",
      "  sven erik holmes is a former federal judge and currently the vice chairman legal risk and \n",
      "  regulatory and chief legal officer for kpmg llp a\n",
      "* Andrew Fois                                        0.97652\n",
      "  andrew fois is an attorney living and working in washington dc as of april 9 2012 he will \n",
      "  be serving as the deputy attorney general\n",
      "\n"
     ]
    }
   ],
   "source": [
    "display_single_tf_idf_cluster(left_child_non_athletes, map_index_to_word)"
   ]
  },
  {
   "cell_type": "code",
   "execution_count": 20,
   "metadata": {},
   "outputs": [
    {
     "name": "stdout",
     "output_type": "stream",
     "text": [
      "zwolsman:0.039 zx10r:0.030 zwigoff:0.023 zwacksalles:0.021 zupanprofessor:0.015 \n",
      "* Madonna (entertainer)                              0.96092\n",
      "  madonna louise ciccone tkoni born august 16 1958 is an american singer songwriter actress \n",
      "  and businesswoman she achieved popularity by pushing the boundaries of lyrical\n",
      "* Janet Jackson                                      0.96153\n",
      "  janet damita jo jackson born may 16 1966 is an american singer songwriter and actress know\n",
      "  n for a series of sonically innovative socially conscious and\n",
      "* Cher                                               0.96540\n",
      "  cher r born cherilyn sarkisian may 20 1946 is an american singer actress and television ho\n",
      "  st described as embodying female autonomy in a maledominated industry\n",
      "* Laura Smith                                        0.96600\n",
      "  laura smith is a canadian folk singersongwriter she is best known for her 1995 single shad\n",
      "  e of your love one of the years biggest hits\n",
      "* Natashia Williams                                  0.96677\n",
      "  natashia williamsblach born august 2 1978 is an american actress and former wonderbra camp\n",
      "  aign model who is perhaps best known for her role as shane\n",
      "* Anita Kunz                                         0.96716\n",
      "  anita e kunz oc born 1956 is a canadianborn artist and illustratorkunz has lived in london\n",
      "   new york and toronto contributing to magazines and working\n",
      "* Maggie Smith                                       0.96747\n",
      "  dame margaret natalie maggie smith ch dbe born 28 december 1934 is an english actress she \n",
      "  made her stage debut in 1952 and has had\n",
      "* Lizzie West                                        0.96752\n",
      "  lizzie west born in brooklyn ny on july 21 1973 is a singersongwriter her music can be des\n",
      "  cribed as a blend of many genres including\n",
      "\n"
     ]
    }
   ],
   "source": [
    "display_single_tf_idf_cluster(right_child_non_athletes, map_index_to_word)"
   ]
  },
  {
   "cell_type": "markdown",
   "metadata": {},
   "source": [
    "Neither of the clusters show clear topics, apart from the genders. Let us divide them further."
   ]
  },
  {
   "cell_type": "code",
   "execution_count": 21,
   "metadata": {
    "collapsed": true
   },
   "outputs": [],
   "source": [
    "male_non_athletes = left_child_non_athletes\n",
    "female_non_athletes = right_child_non_athletes"
   ]
  },
  {
   "cell_type": "markdown",
   "metadata": {},
   "source": [
    "**Quiz Question**. Let us bipartition the clusters `male_non_athletes` and `female_non_athletes`. Which diagram best describes the resulting hierarchy of clusters for the non-athletes? Refer to the quiz for the diagrams.\n",
    "\n",
    "**Note**. Use `maxiter=100, num_runs=6, seed=1` for consistency of output."
   ]
  }
 ],
 "metadata": {
  "anaconda-cloud": {},
  "kernelspec": {
   "display_name": "Python 3",
   "language": "python",
   "name": "python3"
  },
  "language_info": {
   "codemirror_mode": {
    "name": "ipython",
    "version": 3
   },
   "file_extension": ".py",
   "mimetype": "text/x-python",
   "name": "python",
   "nbconvert_exporter": "python",
   "pygments_lexer": "ipython3",
   "version": "3.6.1"
  }
 },
 "nbformat": 4,
 "nbformat_minor": 1
}
